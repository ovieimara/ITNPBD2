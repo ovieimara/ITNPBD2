{
  "cells": [
    {
      "cell_type": "markdown",
      "metadata": {
        "id": "view-in-github",
        "colab_type": "text"
      },
      "source": [
        "<a href=\"https://colab.research.google.com/github/ovieimara/ITNPBD2/blob/master/Assignment_ITNPBD2.ipynb\" target=\"_parent\"><img src=\"https://colab.research.google.com/assets/colab-badge.svg\" alt=\"Open In Colab\"/></a>"
      ]
    },
    {
      "cell_type": "markdown",
      "metadata": {
        "id": "14XAznkcN57w"
      },
      "source": [
        "# University of Stirling\n",
        "\n",
        "# ITNPBD2 Representing and Manipulating Data\n",
        "\n",
        "# Assignment Autumn 2023\n",
        "\n",
        "# A Consultancy Job for JC Penney\n",
        "\n",
        "This notebook forms the assignment instructions and submission document of the assignment for ITNPBD2. Read the instructions carefully and enter code into the cells as indicated.\n",
        "\n",
        "You will need these five files, which were in the Zip file you downloaded from the course webpage:\n",
        "\n",
        "- jcpenney_reviewers.json\n",
        "- jcpenney_products.json\n",
        "- products.csv\n",
        "- reviews.csv\n",
        "- users.csv\n",
        "\n",
        "The data in these files describes products that have been sold by the American retail giant, JC Penney, and reviews by customers who bought them. Note that the product data is real, but the customer data is synthetic.\n",
        "\n",
        "Your job is to process the data, as requested in the instructions in the markdown cells in this notebook."
      ]
    },
    {
      "cell_type": "markdown",
      "metadata": {
        "id": "SqGePO_gN57x"
      },
      "source": [
        "# Completing the Assignment\n",
        "\n",
        "Rename this file to be xxxxxx_BD2 where xxxxxx is your student number, then type your code and narrative description into the boxes provided. Add as many code and markdown cells as you need. The cells should contain:\n",
        "\n",
        "- **Text narrative describing what you did with the data**\n",
        "- **The code that performs the task you have described**\n",
        "- **Comments that explain your code**"
      ]
    },
    {
      "cell_type": "markdown",
      "metadata": {
        "id": "WDiDL3-1N57y"
      },
      "source": [
        "# Marking Scheme\n",
        "The assessment will be marked against the university Common Marking Scheme (CMS)\n",
        "\n",
        "Here is a summary of what you need to achieve to gain a grade in the major grade bands:\n",
        "\n",
        "|Grade|Requirement|\n",
        "|:---|:---|\n",
        "| Fail | You will fail if your code does not run or does not achieve even the basics of the task. You may also fail if you submit code without either comments or a text explanation of what the code does.|\n",
        "| Pass | To pass, you must submit sufficient working code to show that you have mastered the basics of the task, even if not everything works completely. You must include some justifications for your choice of methods, but without mentioning alternatives. |\n",
        "| Merit | For a merit, your code must be mostly correct, with only small problems or parts missing, and your comments must be useful rather than simply re-stating the code in English. Most choices for methods and structures should be explained and alternatives mentioned. |\n",
        "| Distinction | For a distinction, your code must be working, correct, and well commented and shows an appreciation of style, efficiency and reliability. All choices for methods and structures are concisely justified and alternatives are given well thought considerations. For a distinction, your work should be good enough to present to executives at the company.|\n",
        "\n",
        "The full details of the CMS can be found here\n",
        "\n",
        "https://www.stir.ac.uk/about/professional-services/student-academic-and-corporate-services/academic-registry/academic-policy-and-practice/quality-handbook/assessment-policy-and-procedure/appendix-2-postgraduate-common-marking-scheme/\n",
        "\n",
        "Note that this means there are not certain numbers of marks allocated to each stage of the assignment. Your grade will reflect how well your solutions and comments demonstrate that you have achieved the learning outcomes of the task."
      ]
    },
    {
      "cell_type": "markdown",
      "metadata": {
        "id": "az9dnDZ6N57y"
      },
      "source": [
        "## Submission\n",
        "When you are ready to submit, **print** your notebook as PDF (go to File -> Print Preview) in the Jupyter menu. Make sure you have run all the cells and that their output is displayed. Any lines of code or comments that are not visible in the pdf should be broken across several lines. You can then submit the file online.\n",
        "\n",
        "Late penalties will apply at a rate of three marks per day, up to a maximum of 7 days. After 7 days you will be given a mark of 0. Extensions will be considered under acceptable circumstances outside your control.\n",
        "\n",
        "## Academic Integrity\n",
        "\n",
        "This is an individual assignment, and so all submitted work must be fully your own work.\n",
        "\n",
        "The University of Stirling is committed to protecting the quality and standards of its awards. Consequently, the University seeks to promote and nurture academic integrity, support staff academic integrity, and support students to understand and develop good academic skills that facilitate academic integrity.\n",
        "\n",
        "In addition, the University deals decisively with all forms of Academic Misconduct.\n",
        "\n",
        "Where a student does not act with academic integrity, their work or behaviour may demonstrate Poor Academic Practice or it may represent Academic Misconduct.\n",
        "\n",
        "### Poor Academic Practice\n",
        "\n",
        "Poor Academic Practice is defined as: \"The submission of any type of assessment with a lack of referencing or inadequate referencing which does not effectively acknowledge the origin of words, ideas, images, tables, diagrams, maps, code, sound and any other sources used in the assessment.\"\n",
        "\n",
        "### Academic Misconduct\n",
        "\n",
        "Academic Misconduct is defined as: \"any act or attempted act that does not demonstrate academic integrity and that may result in creating an unfair academic advantage for you or another person, or an academic disadvantage for any other member or member of the academic community.\"\n",
        "\n",
        "Plagiarism is presenting somebody else’s work as your own **and includes the use of artificial intelligence tools such as GPT or CoPilot**. Plagiarism is a form of academic misconduct and is taken very seriously by the University. Students found to have plagiarised work can have marks deducted and, in serious cases, even be expelled from the University. Do not submit any work that is not entirely your own. Do not collaborate with or get help from anybody else with this assignment.\n",
        "\n",
        "The University of Stirling's full policy on Academic Integrity can be found at:\n",
        "\n",
        "https://www.stir.ac.uk/about/professional-services/student-academic-and-corporate-services/academic-registry/academic-policy-and-practice/quality-handbook/academic-integrity-policy-and-academic-misconduct-procedure/"
      ]
    },
    {
      "cell_type": "markdown",
      "metadata": {
        "id": "NxDCNUtBN57y"
      },
      "source": [
        "## The Assignment\n",
        "Your task with this assignment is to use the data provided to demonstrate your Python data manipulation skills.\n",
        "\n",
        "There are three `.csv` files and two `.json` files so you can process different types of data. The files also contain unstructured data in the form of natural language in English and links to images that you can access from the JC Penney website (use the field called `product_image_urls`).\n",
        "\n",
        "Start with easy tasks to show you can read in a file, create some variables and data structures, and manipulate their contents. Then move onto something more interesting.\n",
        "\n",
        "Look at the data that we provided with this assessment and think of something interesting to do with it using whatever libraries you like. Describe what you decide to do with the data and why it might be interesting or useful to the company to do it.\n",
        "\n",
        "You can add additional data if you need to - either download it or access it using `requests`. Produce working code to implement your ideas in as many cells as you need below. There is no single right answer, the aim is to simply show you are competent in using python for data analysis. Exactly how you do that is up to you.\n",
        "\n",
        "For a distinction class grade, this must show originality, creative thinking, and insights beyond what you've been taught directly on the module."
      ]
    },
    {
      "cell_type": "markdown",
      "metadata": {
        "id": "tETgVKPgN57y"
      },
      "source": [
        "## Structure\n",
        "You may structure the project how you wish, but here is a suggested guideline to help you organise your work:\n",
        "\n",
        " 1. Data Exploration - Explore the data and show you understand its structure and relations\n",
        " 2. Data Validation - Check the quality of the data. Is it complete? Are there obvious errors?\n",
        " 3. Data Visualisation - Gain an overall understanding of the data with visualisations\n",
        " 4. Data Analysis = Set some questions and use the data to answer them\n",
        " 5. Data Augmentation - Add new data from another source to bring new insights to the data you already have"
      ]
    },
    {
      "cell_type": "markdown",
      "metadata": {
        "id": "uoWT2WqSN57y"
      },
      "source": [
        "# Remember to make sure you are working completely on your own.\n",
        "# Don't work in a group or with a friend\n",
        "You may NOT use any automated code generation or analytics tools for this assignment, so do not use tools like GPT. You can look up the syntax for the functions you use, but you must write the code yourself and the comments must provide an insightful analysis of the results.\n",
        "\n"
      ]
    },
    {
      "cell_type": "code",
      "execution_count": 1,
      "metadata": {
        "id": "AEsQaxlNN57z"
      },
      "outputs": [],
      "source": [
        "# Put your code and comments in cells below here\n",
        "# Add as many cells as you need"
      ]
    },
    {
      "cell_type": "code",
      "execution_count": 2,
      "metadata": {
        "id": "VFnRRP5Uiefs"
      },
      "outputs": [],
      "source": [
        "import pandas as pd\n",
        "import json\n",
        "import csv"
      ]
    },
    {
      "cell_type": "code",
      "execution_count": 3,
      "metadata": {
        "id": "WpVFxHNC1xp7"
      },
      "outputs": [],
      "source": [
        "#declare paths to the various files\n",
        "jcpenney_reviewers_file = 'jcpenney_reviewers.json'\n",
        "jcpenney_products_file = 'jcpenney_products.json'\n",
        "users_file = 'users.csv'\n",
        "reviews_file = 'reviews.csv'\n",
        "products_file = 'products.csv'"
      ]
    },
    {
      "cell_type": "markdown",
      "metadata": {
        "id": "oUElaUXph5tk"
      },
      "source": [
        "**Data Exploration**: First step is to explore the data structure in the *files* So, I am going to read the json files, using json."
      ]
    },
    {
      "cell_type": "code",
      "execution_count": 29,
      "metadata": {
        "colab": {
          "base_uri": "https://localhost:8080/",
          "height": 365
        },
        "id": "SCThY9TyjC6x",
        "outputId": "e281cdca-c023-43de-d8df-4473d627261b"
      },
      "outputs": [
        {
          "output_type": "error",
          "ename": "JSONDecodeError",
          "evalue": "Extra data: line 2 column 1 (char 2508)",
          "traceback": [
            "\u001b[0;31m---------------------------------------------------------------------------\u001b[0m",
            "\u001b[0;31mJSONDecodeError\u001b[0m                           Traceback (most recent call last)",
            "\u001b[0;32m<ipython-input-29-fb3aa880112b>\u001b[0m in \u001b[0;36m<cell line: 1>\u001b[0;34m()\u001b[0m\n\u001b[1;32m      1\u001b[0m \u001b[0;32mwith\u001b[0m \u001b[0mopen\u001b[0m\u001b[0;34m(\u001b[0m\u001b[0mjcpenney_products_file\u001b[0m\u001b[0;34m)\u001b[0m \u001b[0;32mas\u001b[0m \u001b[0mf\u001b[0m\u001b[0;34m:\u001b[0m\u001b[0;34m\u001b[0m\u001b[0;34m\u001b[0m\u001b[0m\n\u001b[0;32m----> 2\u001b[0;31m     \u001b[0mfile\u001b[0m \u001b[0;34m=\u001b[0m \u001b[0mjson\u001b[0m\u001b[0;34m.\u001b[0m\u001b[0mload\u001b[0m\u001b[0;34m(\u001b[0m\u001b[0mf\u001b[0m\u001b[0;34m)\u001b[0m\u001b[0;34m\u001b[0m\u001b[0;34m\u001b[0m\u001b[0m\n\u001b[0m\u001b[1;32m      3\u001b[0m     \u001b[0mprint\u001b[0m\u001b[0;34m(\u001b[0m\u001b[0mfile\u001b[0m\u001b[0;34m)\u001b[0m\u001b[0;34m\u001b[0m\u001b[0;34m\u001b[0m\u001b[0m\n",
            "\u001b[0;32m/usr/lib/python3.10/json/__init__.py\u001b[0m in \u001b[0;36mload\u001b[0;34m(fp, cls, object_hook, parse_float, parse_int, parse_constant, object_pairs_hook, **kw)\u001b[0m\n\u001b[1;32m    291\u001b[0m     \u001b[0mkwarg\u001b[0m\u001b[0;34m;\u001b[0m \u001b[0motherwise\u001b[0m\u001b[0;31m \u001b[0m\u001b[0;31m`\u001b[0m\u001b[0;31m`\u001b[0m\u001b[0mJSONDecoder\u001b[0m\u001b[0;31m`\u001b[0m\u001b[0;31m`\u001b[0m \u001b[0;32mis\u001b[0m \u001b[0mused\u001b[0m\u001b[0;34m.\u001b[0m\u001b[0;34m\u001b[0m\u001b[0;34m\u001b[0m\u001b[0m\n\u001b[1;32m    292\u001b[0m     \"\"\"\n\u001b[0;32m--> 293\u001b[0;31m     return loads(fp.read(),\n\u001b[0m\u001b[1;32m    294\u001b[0m         \u001b[0mcls\u001b[0m\u001b[0;34m=\u001b[0m\u001b[0mcls\u001b[0m\u001b[0;34m,\u001b[0m \u001b[0mobject_hook\u001b[0m\u001b[0;34m=\u001b[0m\u001b[0mobject_hook\u001b[0m\u001b[0;34m,\u001b[0m\u001b[0;34m\u001b[0m\u001b[0;34m\u001b[0m\u001b[0m\n\u001b[1;32m    295\u001b[0m         \u001b[0mparse_float\u001b[0m\u001b[0;34m=\u001b[0m\u001b[0mparse_float\u001b[0m\u001b[0;34m,\u001b[0m \u001b[0mparse_int\u001b[0m\u001b[0;34m=\u001b[0m\u001b[0mparse_int\u001b[0m\u001b[0;34m,\u001b[0m\u001b[0;34m\u001b[0m\u001b[0;34m\u001b[0m\u001b[0m\n",
            "\u001b[0;32m/usr/lib/python3.10/json/__init__.py\u001b[0m in \u001b[0;36mloads\u001b[0;34m(s, cls, object_hook, parse_float, parse_int, parse_constant, object_pairs_hook, **kw)\u001b[0m\n\u001b[1;32m    344\u001b[0m             \u001b[0mparse_int\u001b[0m \u001b[0;32mis\u001b[0m \u001b[0;32mNone\u001b[0m \u001b[0;32mand\u001b[0m \u001b[0mparse_float\u001b[0m \u001b[0;32mis\u001b[0m \u001b[0;32mNone\u001b[0m \u001b[0;32mand\u001b[0m\u001b[0;34m\u001b[0m\u001b[0;34m\u001b[0m\u001b[0m\n\u001b[1;32m    345\u001b[0m             parse_constant is None and object_pairs_hook is None and not kw):\n\u001b[0;32m--> 346\u001b[0;31m         \u001b[0;32mreturn\u001b[0m \u001b[0m_default_decoder\u001b[0m\u001b[0;34m.\u001b[0m\u001b[0mdecode\u001b[0m\u001b[0;34m(\u001b[0m\u001b[0ms\u001b[0m\u001b[0;34m)\u001b[0m\u001b[0;34m\u001b[0m\u001b[0;34m\u001b[0m\u001b[0m\n\u001b[0m\u001b[1;32m    347\u001b[0m     \u001b[0;32mif\u001b[0m \u001b[0mcls\u001b[0m \u001b[0;32mis\u001b[0m \u001b[0;32mNone\u001b[0m\u001b[0;34m:\u001b[0m\u001b[0;34m\u001b[0m\u001b[0;34m\u001b[0m\u001b[0m\n\u001b[1;32m    348\u001b[0m         \u001b[0mcls\u001b[0m \u001b[0;34m=\u001b[0m \u001b[0mJSONDecoder\u001b[0m\u001b[0;34m\u001b[0m\u001b[0;34m\u001b[0m\u001b[0m\n",
            "\u001b[0;32m/usr/lib/python3.10/json/decoder.py\u001b[0m in \u001b[0;36mdecode\u001b[0;34m(self, s, _w)\u001b[0m\n\u001b[1;32m    338\u001b[0m         \u001b[0mend\u001b[0m \u001b[0;34m=\u001b[0m \u001b[0m_w\u001b[0m\u001b[0;34m(\u001b[0m\u001b[0ms\u001b[0m\u001b[0;34m,\u001b[0m \u001b[0mend\u001b[0m\u001b[0;34m)\u001b[0m\u001b[0;34m.\u001b[0m\u001b[0mend\u001b[0m\u001b[0;34m(\u001b[0m\u001b[0;34m)\u001b[0m\u001b[0;34m\u001b[0m\u001b[0;34m\u001b[0m\u001b[0m\n\u001b[1;32m    339\u001b[0m         \u001b[0;32mif\u001b[0m \u001b[0mend\u001b[0m \u001b[0;34m!=\u001b[0m \u001b[0mlen\u001b[0m\u001b[0;34m(\u001b[0m\u001b[0ms\u001b[0m\u001b[0;34m)\u001b[0m\u001b[0;34m:\u001b[0m\u001b[0;34m\u001b[0m\u001b[0;34m\u001b[0m\u001b[0m\n\u001b[0;32m--> 340\u001b[0;31m             \u001b[0;32mraise\u001b[0m \u001b[0mJSONDecodeError\u001b[0m\u001b[0;34m(\u001b[0m\u001b[0;34m\"Extra data\"\u001b[0m\u001b[0;34m,\u001b[0m \u001b[0ms\u001b[0m\u001b[0;34m,\u001b[0m \u001b[0mend\u001b[0m\u001b[0;34m)\u001b[0m\u001b[0;34m\u001b[0m\u001b[0;34m\u001b[0m\u001b[0m\n\u001b[0m\u001b[1;32m    341\u001b[0m         \u001b[0;32mreturn\u001b[0m \u001b[0mobj\u001b[0m\u001b[0;34m\u001b[0m\u001b[0;34m\u001b[0m\u001b[0m\n\u001b[1;32m    342\u001b[0m \u001b[0;34m\u001b[0m\u001b[0m\n",
            "\u001b[0;31mJSONDecodeError\u001b[0m: Extra data: line 2 column 1 (char 2508)"
          ]
        }
      ],
      "source": [
        "with open(jcpenney_products_file) as f:\n",
        "    file = json.load(f)\n",
        "    print(file)"
      ]
    },
    {
      "cell_type": "markdown",
      "metadata": {
        "id": "6zTc9uj5j0UC"
      },
      "source": [
        "from the error, I can deduce the json file been read is not properly structured, with proper delimiters. So I am going to read the first 5 lines to ascertain file structure"
      ]
    },
    {
      "cell_type": "code",
      "execution_count": 33,
      "metadata": {
        "id": "BT8Y0gGN1o6I",
        "colab": {
          "base_uri": "https://localhost:8080/",
          "height": 518
        },
        "outputId": "f2df5a68-5efe-4533-a75a-8d52bf5584d3"
      },
      "outputs": [
        {
          "output_type": "display_data",
          "data": {
            "text/plain": [
              "'{\"uniq_id\": \"b6c0b6bea69c722939585baeac73c13d\", \"sku\": \"pp5006380337\", \"name_title\": \"Alfred Dunner\\\\u00ae Essential Pull On Capri Pant\", \"description\": \"You\\'ll return to our Alfred Dunner pull-on capris again and again when you want an updated, casual look and all the comfort you love. \\\\u00a0 elastic waistband approx. 19-21\\\\\" inseam slash pockets polyester washable imported \\\\u00a0 \\\\u00a0 \\\\u00a0\", \"list_price\": \"41.09\", \"sale_price\": \"24.16\", \"category\": \"alfred dunner\", \"category_tree\": \"jcpenney|women|alfred dunner\", \"average_product_rating\": 2.625, \"product_url\": \"http://www.jcpenney.com/alfred-dunner-essential-pull-on-capri-pant/prod.jump?ppId=pp5006380337&catId=cat1002110079&&_dyncharset=UTF-8&urlState=/women/shop-brands/alfred-dunner/yellow/_/N-gkmp33Z132/cat.jump\", \"product_image_urls\": \"http://s7d9.scene7.com/is/image/JCPenney/DP1228201517142050M.tif?hei=380&amp;wid=380&op_usm=.4,.8,0,0&resmode=sharp2&op_usm=1.5,.8,0,0&resmode=sharp\", \"brand\": \"Alfred Dunner\", \"total_number_reviews\": 8, \"Reviews\": [{\"User\": \"fsdv4141\", \"Review\": \"You never have to worry about the fit...Alfred Dunner clothing sizes are true to size and fits perfectly. Great value for the money.\", \"Score\": 2}, {\"User\": \"krpz1113\", \"Review\": \"Good quality fabric. Perfect fit. Washed very well no iron.\", \"Score\": 4}, {\"User\": \"mbmg3241\", \"Review\": \"I do not normally wear pants or capris that have an elastic waist, but I decided to try these since they were on sale and I loved the color. I was very surprised at how comfortable they are and wear really well even wearing all day. I will buy this style again!\", \"Score\": 4}, {\"User\": \"zeqg1222\", \"Review\": \"I love these capris! They fit true to size and are so comfortable to wear. I am planning to order more of them.\", \"Score\": 1}, {\"User\": \"nvfn3212\", \"Review\": \"This product is very comfortable and the fabric launders very well\", \"Score\": 1}, {\"User\": \"aajh3423\", \"Review\": \"I did not like the fabric. It is 100% polyester I thought it was different.I bought one at the store apprx two monts ago, and I thought it was just like it\", \"Score\": 5}, {\"User\": \"usvp2142\", \"Review\": \"What a great deal. Beautiful Pants. Its more than I expected.\", \"Score\": 3}, {\"User\": \"yemw3321\", \"Review\": \"Alfred Dunner has great pants, good fit and very comfortable\", \"Score\": 1}], \"Bought With\": [\"898e42fe937a33e8ce5e900ca7a4d924\", \"8c02c262567a2267cd207e35637feb1c\", \"b62dd54545cdc1a05d8aaa2d25aed996\", \"0da4c2dcc8cfa0e71200883b00d22b30\", \"90c46b841e2eeece992c57071387899c\"]}\\n'"
            ],
            "application/vnd.google.colaboratory.intrinsic+json": {
              "type": "string"
            }
          },
          "metadata": {}
        },
        {
          "output_type": "display_data",
          "data": {
            "text/plain": [
              "'{\"uniq_id\": \"93e5272c51d8cce02597e3ce67b7ad0a\", \"sku\": \"pp5006380337\", \"name_title\": \"Alfred Dunner\\\\u00ae Essential Pull On Capri Pant\", \"description\": \"You\\'ll return to our Alfred Dunner pull-on capris again and again when you want an updated, casual look and all the comfort you love. \\\\u00a0 elastic waistband approx. 19-21\\\\\" inseam slash pockets polyester washable imported \\\\u00a0 \\\\u00a0 \\\\u00a0\", \"list_price\": \"41.09\", \"sale_price\": \"24.16\", \"category\": \"alfred dunner\", \"category_tree\": \"jcpenney|women|alfred dunner\", \"average_product_rating\": 3.0, \"product_url\": \"http://www.jcpenney.com/alfred-dunner-essential-pull-on-capri-pant/prod.jump?ppId=pp5006380337&catId=cat1002310017&&_dyncharset=UTF-8&urlState=/women/specialty-sizing/petites/shop-brands/alfred-dunner/10-petite/_/N-gkqzcxZ1z1407s/cat.jump\", \"product_image_urls\": \"http://s7d9.scene7.com/is/image/JCPenney/DP1228201517142050M.tif?hei=380&amp;wid=380&op_usm=.4,.8,0,0&resmode=sharp2&op_usm=1.5,.8,0,0&resmode=sharp\", \"brand\": \"Alfred Dunner\", \"total_number_reviews\": 8, \"Reviews\": [{\"User\": \"tpcu2211\", \"Review\": \"You never have to worry about the fit...Alfred Dunner clothing sizes are true to size and fits perfectly. Great value for the money.\", \"Score\": 1}, {\"User\": \"vutl2421\", \"Review\": \"Good quality fabric. Perfect fit. Washed very well no iron.\", \"Score\": 3}, {\"User\": \"ixlo1324\", \"Review\": \"I do not normally wear pants or capris that have an elastic waist, but I decided to try these since they were on sale and I loved the color. I was very surprised at how comfortable they are and wear really well even wearing all day. I will buy this style again!\", \"Score\": 3}, {\"User\": \"dued2313\", \"Review\": \"I love these capris! They fit true to size and are so comfortable to wear. I am planning to order more of them.\", \"Score\": 3}, {\"User\": \"nkmn4113\", \"Review\": \"This product is very comfortable and the fabric launders very well\", \"Score\": 5}, {\"User\": \"tyfr4414\", \"Review\": \"I did not like the fabric. It is 100% polyester I thought it was different.I bought one at the store apprx two monts ago, and I thought it was just like it\", \"Score\": 2}, {\"User\": \"hyhy1222\", \"Review\": \"What a great deal. Beautiful Pants. Its more than I expected.\", \"Score\": 4}, {\"User\": \"oofb2342\", \"Review\": \"Alfred Dunner has great pants, good fit and very comfortable\", \"Score\": 3}], \"Bought With\": [\"bc9ab3406dcaa84a123b9da862e6367d\", \"18eb69e8fc27e9c79b3209b672317f5b\", \"52c6e0ee4e9f1f2389510d46d0405c1f\", \"a610cd02e529a837b54e83cef5064146\", \"a1cba5df721a1b35f2c706ddb6b889a0\"]}\\n'"
            ],
            "application/vnd.google.colaboratory.intrinsic+json": {
              "type": "string"
            }
          },
          "metadata": {}
        }
      ],
      "source": [
        "#view the structure of the file\n",
        "with open(jcpenney_products_file) as f:\n",
        "    result = []\n",
        "    data = f.readlines() # read all lines of data into a list\n",
        "    for line in data[:2]: #read the first 5 lines\n",
        "      display(line)\n"
      ]
    },
    {
      "cell_type": "markdown",
      "metadata": {
        "id": "sQXxcSFl4Qnp"
      },
      "source": [
        " From the output, we can deduce that each item(equivalent of a dictionary in python) needs to be seperated by a comma delimiter and the items placed in a list to properly structure the contents of the file as a json object."
      ]
    },
    {
      "cell_type": "code",
      "execution_count": 27,
      "metadata": {
        "id": "NPEcIrxiN57z",
        "colab": {
          "base_uri": "https://localhost:8080/",
          "height": 35
        },
        "outputId": "dd389016-176c-442f-fb20-7e05687f1a98"
      },
      "outputs": [
        {
          "output_type": "display_data",
          "data": {
            "text/plain": [
              "'b6c0b6bea69c722939585baeac73c13d'"
            ],
            "application/vnd.google.colaboratory.intrinsic+json": {
              "type": "string"
            }
          },
          "metadata": {}
        }
      ],
      "source": [
        "#function that takes an unstructured json file with missing comma delimiters\n",
        "#as a parameter. The function returns a json string\n",
        "def parseJsonFile(file: str) -> json:\n",
        "  with open(file) as f:\n",
        "      unstructured_data = f.readlines()\n",
        "      return json.dumps([json.loads(line) for line in unstructured_data])\n",
        "\n",
        "data = parseJsonFile(jcpenney_products_file)\n"
      ]
    },
    {
      "cell_type": "code",
      "execution_count": 7,
      "metadata": {
        "colab": {
          "base_uri": "https://localhost:8080/",
          "height": 35
        },
        "id": "i3Sx6Con0eOH",
        "outputId": "76196d75-12ad-4cde-dd11-05104569cb4c"
      },
      "outputs": [
        {
          "output_type": "display_data",
          "data": {
            "text/plain": [
              "str"
            ]
          },
          "metadata": {}
        }
      ],
      "source": [
        "#load json content to python object\n",
        "# display(data[:10000])\n",
        "json_data = json.loads(data)\n",
        "display(type(json_data))"
      ]
    },
    {
      "cell_type": "markdown",
      "metadata": {
        "id": "ByiEWUQe0m2K"
      },
      "source": []
    }
  ],
  "metadata": {
    "colab": {
      "provenance": [],
      "include_colab_link": true
    },
    "kernelspec": {
      "display_name": "Python 3 (ipykernel)",
      "language": "python",
      "name": "python3"
    },
    "language_info": {
      "codemirror_mode": {
        "name": "ipython",
        "version": 3
      },
      "file_extension": ".py",
      "mimetype": "text/x-python",
      "name": "python",
      "nbconvert_exporter": "python",
      "pygments_lexer": "ipython3",
      "version": "3.11.2"
    }
  },
  "nbformat": 4,
  "nbformat_minor": 0
}