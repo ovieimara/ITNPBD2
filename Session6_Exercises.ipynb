{
  "cells": [
    {
      "cell_type": "markdown",
      "metadata": {
        "id": "view-in-github",
        "colab_type": "text"
      },
      "source": [
        "<a href=\"https://colab.research.google.com/github/ovieimara/ITNPBD2/blob/master/Session6_Exercises.ipynb\" target=\"_parent\"><img src=\"https://colab.research.google.com/assets/colab-badge.svg\" alt=\"Open In Colab\"/></a>"
      ]
    },
    {
      "cell_type": "markdown",
      "metadata": {
        "id": "jDTGcXiaulh_"
      },
      "source": [
        "# ITNPBD2 Practical exercises. Session 6 Files and Remote Data\n",
        "\n",
        "By the end of this session, you will be able to:\n",
        "- Read and write local files in a variety of formats\n",
        "- Use the requests library to access data over the internet\n",
        "- Extract part of a web page contents\n"
      ]
    },
    {
      "cell_type": "markdown",
      "metadata": {
        "id": "MT0eSSTHuliA"
      },
      "source": [
        "# 6.3 Local File Processing"
      ]
    },
    {
      "cell_type": "markdown",
      "metadata": {
        "id": "SIfNiNAkuliA"
      },
      "source": [
        "The first task is simple, just execute the following cell to have access to all of the __os__ package's functionality"
      ]
    },
    {
      "cell_type": "code",
      "execution_count": 2,
      "metadata": {
        "id": "0tqfD74tuliA"
      },
      "outputs": [],
      "source": [
        "import os"
      ]
    },
    {
      "cell_type": "code",
      "source": [
        "from google.colab import files\n",
        "uploaded = files.upload()"
      ],
      "metadata": {
        "colab": {
          "base_uri": "https://localhost:8080/",
          "height": 144
        },
        "id": "C4mLtbIku5gm",
        "outputId": "2a914279-8047-439a-8944-4f8575f998ca"
      },
      "execution_count": 3,
      "outputs": [
        {
          "output_type": "display_data",
          "data": {
            "text/plain": [
              "<IPython.core.display.HTML object>"
            ],
            "text/html": [
              "\n",
              "     <input type=\"file\" id=\"files-3c03a9c1-13de-47ac-a197-8356f7ed2eaa\" name=\"files[]\" multiple disabled\n",
              "        style=\"border:none\" />\n",
              "     <output id=\"result-3c03a9c1-13de-47ac-a197-8356f7ed2eaa\">\n",
              "      Upload widget is only available when the cell has been executed in the\n",
              "      current browser session. Please rerun this cell to enable.\n",
              "      </output>\n",
              "      <script>// Copyright 2017 Google LLC\n",
              "//\n",
              "// Licensed under the Apache License, Version 2.0 (the \"License\");\n",
              "// you may not use this file except in compliance with the License.\n",
              "// You may obtain a copy of the License at\n",
              "//\n",
              "//      http://www.apache.org/licenses/LICENSE-2.0\n",
              "//\n",
              "// Unless required by applicable law or agreed to in writing, software\n",
              "// distributed under the License is distributed on an \"AS IS\" BASIS,\n",
              "// WITHOUT WARRANTIES OR CONDITIONS OF ANY KIND, either express or implied.\n",
              "// See the License for the specific language governing permissions and\n",
              "// limitations under the License.\n",
              "\n",
              "/**\n",
              " * @fileoverview Helpers for google.colab Python module.\n",
              " */\n",
              "(function(scope) {\n",
              "function span(text, styleAttributes = {}) {\n",
              "  const element = document.createElement('span');\n",
              "  element.textContent = text;\n",
              "  for (const key of Object.keys(styleAttributes)) {\n",
              "    element.style[key] = styleAttributes[key];\n",
              "  }\n",
              "  return element;\n",
              "}\n",
              "\n",
              "// Max number of bytes which will be uploaded at a time.\n",
              "const MAX_PAYLOAD_SIZE = 100 * 1024;\n",
              "\n",
              "function _uploadFiles(inputId, outputId) {\n",
              "  const steps = uploadFilesStep(inputId, outputId);\n",
              "  const outputElement = document.getElementById(outputId);\n",
              "  // Cache steps on the outputElement to make it available for the next call\n",
              "  // to uploadFilesContinue from Python.\n",
              "  outputElement.steps = steps;\n",
              "\n",
              "  return _uploadFilesContinue(outputId);\n",
              "}\n",
              "\n",
              "// This is roughly an async generator (not supported in the browser yet),\n",
              "// where there are multiple asynchronous steps and the Python side is going\n",
              "// to poll for completion of each step.\n",
              "// This uses a Promise to block the python side on completion of each step,\n",
              "// then passes the result of the previous step as the input to the next step.\n",
              "function _uploadFilesContinue(outputId) {\n",
              "  const outputElement = document.getElementById(outputId);\n",
              "  const steps = outputElement.steps;\n",
              "\n",
              "  const next = steps.next(outputElement.lastPromiseValue);\n",
              "  return Promise.resolve(next.value.promise).then((value) => {\n",
              "    // Cache the last promise value to make it available to the next\n",
              "    // step of the generator.\n",
              "    outputElement.lastPromiseValue = value;\n",
              "    return next.value.response;\n",
              "  });\n",
              "}\n",
              "\n",
              "/**\n",
              " * Generator function which is called between each async step of the upload\n",
              " * process.\n",
              " * @param {string} inputId Element ID of the input file picker element.\n",
              " * @param {string} outputId Element ID of the output display.\n",
              " * @return {!Iterable<!Object>} Iterable of next steps.\n",
              " */\n",
              "function* uploadFilesStep(inputId, outputId) {\n",
              "  const inputElement = document.getElementById(inputId);\n",
              "  inputElement.disabled = false;\n",
              "\n",
              "  const outputElement = document.getElementById(outputId);\n",
              "  outputElement.innerHTML = '';\n",
              "\n",
              "  const pickedPromise = new Promise((resolve) => {\n",
              "    inputElement.addEventListener('change', (e) => {\n",
              "      resolve(e.target.files);\n",
              "    });\n",
              "  });\n",
              "\n",
              "  const cancel = document.createElement('button');\n",
              "  inputElement.parentElement.appendChild(cancel);\n",
              "  cancel.textContent = 'Cancel upload';\n",
              "  const cancelPromise = new Promise((resolve) => {\n",
              "    cancel.onclick = () => {\n",
              "      resolve(null);\n",
              "    };\n",
              "  });\n",
              "\n",
              "  // Wait for the user to pick the files.\n",
              "  const files = yield {\n",
              "    promise: Promise.race([pickedPromise, cancelPromise]),\n",
              "    response: {\n",
              "      action: 'starting',\n",
              "    }\n",
              "  };\n",
              "\n",
              "  cancel.remove();\n",
              "\n",
              "  // Disable the input element since further picks are not allowed.\n",
              "  inputElement.disabled = true;\n",
              "\n",
              "  if (!files) {\n",
              "    return {\n",
              "      response: {\n",
              "        action: 'complete',\n",
              "      }\n",
              "    };\n",
              "  }\n",
              "\n",
              "  for (const file of files) {\n",
              "    const li = document.createElement('li');\n",
              "    li.append(span(file.name, {fontWeight: 'bold'}));\n",
              "    li.append(span(\n",
              "        `(${file.type || 'n/a'}) - ${file.size} bytes, ` +\n",
              "        `last modified: ${\n",
              "            file.lastModifiedDate ? file.lastModifiedDate.toLocaleDateString() :\n",
              "                                    'n/a'} - `));\n",
              "    const percent = span('0% done');\n",
              "    li.appendChild(percent);\n",
              "\n",
              "    outputElement.appendChild(li);\n",
              "\n",
              "    const fileDataPromise = new Promise((resolve) => {\n",
              "      const reader = new FileReader();\n",
              "      reader.onload = (e) => {\n",
              "        resolve(e.target.result);\n",
              "      };\n",
              "      reader.readAsArrayBuffer(file);\n",
              "    });\n",
              "    // Wait for the data to be ready.\n",
              "    let fileData = yield {\n",
              "      promise: fileDataPromise,\n",
              "      response: {\n",
              "        action: 'continue',\n",
              "      }\n",
              "    };\n",
              "\n",
              "    // Use a chunked sending to avoid message size limits. See b/62115660.\n",
              "    let position = 0;\n",
              "    do {\n",
              "      const length = Math.min(fileData.byteLength - position, MAX_PAYLOAD_SIZE);\n",
              "      const chunk = new Uint8Array(fileData, position, length);\n",
              "      position += length;\n",
              "\n",
              "      const base64 = btoa(String.fromCharCode.apply(null, chunk));\n",
              "      yield {\n",
              "        response: {\n",
              "          action: 'append',\n",
              "          file: file.name,\n",
              "          data: base64,\n",
              "        },\n",
              "      };\n",
              "\n",
              "      let percentDone = fileData.byteLength === 0 ?\n",
              "          100 :\n",
              "          Math.round((position / fileData.byteLength) * 100);\n",
              "      percent.textContent = `${percentDone}% done`;\n",
              "\n",
              "    } while (position < fileData.byteLength);\n",
              "  }\n",
              "\n",
              "  // All done.\n",
              "  yield {\n",
              "    response: {\n",
              "      action: 'complete',\n",
              "    }\n",
              "  };\n",
              "}\n",
              "\n",
              "scope.google = scope.google || {};\n",
              "scope.google.colab = scope.google.colab || {};\n",
              "scope.google.colab._files = {\n",
              "  _uploadFiles,\n",
              "  _uploadFilesContinue,\n",
              "};\n",
              "})(self);\n",
              "</script> "
            ]
          },
          "metadata": {}
        },
        {
          "output_type": "stream",
          "name": "stdout",
          "text": [
            "Saving abalone.csv to abalone.csv\n",
            "Saving session6_people.json to session6_people.json\n",
            "Saving surveydata.xml to surveydata.xml\n"
          ]
        }
      ]
    },
    {
      "cell_type": "markdown",
      "metadata": {
        "id": "SL-otQinuliB"
      },
      "source": [
        "## The os package\n",
        "The following tasks will all involve the os package\n",
        "\n",
        "Now, using the __os__ package, print the directory/folder in which this file is being executed"
      ]
    },
    {
      "cell_type": "code",
      "execution_count": 4,
      "metadata": {
        "colab": {
          "base_uri": "https://localhost:8080/",
          "height": 35
        },
        "id": "uTA1j59_uliB",
        "outputId": "8b1134e5-4ae6-4d06-95ce-7230803c244e"
      },
      "outputs": [
        {
          "output_type": "display_data",
          "data": {
            "text/plain": [
              "'/content'"
            ],
            "application/vnd.google.colaboratory.intrinsic+json": {
              "type": "string"
            }
          },
          "metadata": {}
        }
      ],
      "source": [
        "# Write your code here\n",
        "cwd = os.getcwd()\n",
        "display(cwd)"
      ]
    },
    {
      "cell_type": "markdown",
      "metadata": {
        "id": "XmCoTmQNuliB"
      },
      "source": [
        "The __os.path__ module implements a function to expand the initial components of the __user__ directory  \n",
        "\n",
        "```Python\n",
        "os.path.expanduser('~')\n",
        "```\n",
        "execute the following cell to see what the absolute path to your **home** directory is"
      ]
    },
    {
      "cell_type": "code",
      "execution_count": 5,
      "metadata": {
        "colab": {
          "base_uri": "https://localhost:8080/",
          "height": 35
        },
        "id": "-v-PrbjQuliB",
        "outputId": "48de405a-5318-437d-8252-3cea8dc83305"
      },
      "outputs": [
        {
          "output_type": "execute_result",
          "data": {
            "text/plain": [
              "'/root'"
            ],
            "application/vnd.google.colaboratory.intrinsic+json": {
              "type": "string"
            }
          },
          "metadata": {},
          "execution_count": 5
        }
      ],
      "source": [
        "# Write your code here\n",
        "os.path.expanduser('~')"
      ]
    },
    {
      "cell_type": "markdown",
      "metadata": {
        "id": "JQ06qeBRuliB"
      },
      "source": [
        "Now use *expanduser* again with the following string argument and see what it returns  \n",
        "````\n",
        "'~/Downloads'\n",
        "````"
      ]
    },
    {
      "cell_type": "code",
      "execution_count": 6,
      "metadata": {
        "colab": {
          "base_uri": "https://localhost:8080/",
          "height": 35
        },
        "id": "ewDJCs1MuliB",
        "outputId": "ab77b506-6912-47c8-d09f-5eb76640e14e"
      },
      "outputs": [
        {
          "output_type": "execute_result",
          "data": {
            "text/plain": [
              "'/root/Downloads'"
            ],
            "application/vnd.google.colaboratory.intrinsic+json": {
              "type": "string"
            }
          },
          "metadata": {},
          "execution_count": 6
        }
      ],
      "source": [
        "# Write your code here\n",
        "os.path.expanduser('~/Downloads')"
      ]
    },
    {
      "cell_type": "markdown",
      "metadata": {
        "id": "3_P4HFnzuliB"
      },
      "source": [
        "Following on can you prove that the user directory is a directory?"
      ]
    },
    {
      "cell_type": "code",
      "execution_count": 7,
      "metadata": {
        "colab": {
          "base_uri": "https://localhost:8080/"
        },
        "id": "82ZaWoQDuliB",
        "outputId": "910870ae-a310-4c6f-ab0d-672560d53bfa"
      },
      "outputs": [
        {
          "output_type": "execute_result",
          "data": {
            "text/plain": [
              "True"
            ]
          },
          "metadata": {},
          "execution_count": 7
        }
      ],
      "source": [
        "# Write your code here\n",
        "os.path.isdir(os.path.expanduser('~'))"
      ]
    },
    {
      "cell_type": "markdown",
      "metadata": {
        "id": "pMaAKQNQuliC"
      },
      "source": [
        "Check if there's a file called __session6_exercise.txt__ in the same folder as this notebook.  \n",
        "Use relative paths and don't manually write the full path to the current folder."
      ]
    },
    {
      "cell_type": "code",
      "execution_count": 8,
      "metadata": {
        "colab": {
          "base_uri": "https://localhost:8080/"
        },
        "id": "k-eamnVxuliC",
        "outputId": "42c7e493-a8e7-49ad-89f2-2f1b2a0482c0"
      },
      "outputs": [
        {
          "output_type": "execute_result",
          "data": {
            "text/plain": [
              "False"
            ]
          },
          "metadata": {},
          "execution_count": 8
        }
      ],
      "source": [
        "# Write your code here\n",
        "# os.path.isfile('session6_exercise.txt')\n",
        "os.path.exists('~/session6_exercise.txt')"
      ]
    },
    {
      "cell_type": "markdown",
      "metadata": {
        "id": "wNEq1itjuliC"
      },
      "source": [
        "And, can you prove the following statement as __either__ **True or False**?:\n",
        "- There is a file called __dummy_test.txt__ in a folder called Documents in your home directory\n",
        "\n",
        "Do not *manually* enter the path, the string or strings you use can only contain one or more of the following:  \n",
        "````\n",
        "'~'\n",
        "'Documents'\n",
        "'dummy_test.txt'\n",
        "````\n",
        "you can add at most 2 occurrences of either back- or forwardslash (depending on your operating systems preferences) *Try to use none*"
      ]
    },
    {
      "cell_type": "code",
      "execution_count": 9,
      "metadata": {
        "colab": {
          "base_uri": "https://localhost:8080/"
        },
        "id": "R4plOiZ9uliC",
        "outputId": "c387ba47-67ab-447c-812b-1571a5d76c44"
      },
      "outputs": [
        {
          "output_type": "execute_result",
          "data": {
            "text/plain": [
              "False"
            ]
          },
          "metadata": {},
          "execution_count": 9
        }
      ],
      "source": [
        "# Write your code here\n",
        "os.path.isfile(os.path.expanduser('~/Documents/dummy_test.txt'))\n",
        "os.path.exists(os.path.expanduser('~/Documents/dummy_test.txt'))"
      ]
    },
    {
      "cell_type": "markdown",
      "metadata": {
        "id": "eCFCEcF7uliC"
      },
      "source": [
        "Can you find how many __.txt__ files are in your user directory?  \n",
        "Use any __os__ function/s you want and only the string arguments '~' and '.txt' to count how many .txt files are contained in your user directory and all its subdirectories."
      ]
    },
    {
      "cell_type": "code",
      "execution_count": 10,
      "metadata": {
        "colab": {
          "base_uri": "https://localhost:8080/"
        },
        "id": "CD5pAU8LuliC",
        "outputId": "57d7c90b-3ae4-40ab-b3f6-b7e74840bdc5"
      },
      "outputs": [
        {
          "output_type": "execute_result",
          "data": {
            "text/plain": [
              "31"
            ]
          },
          "metadata": {},
          "execution_count": 10
        }
      ],
      "source": [
        "# Write your code here\n",
        "path = os.path.expanduser('~')\n",
        "count = 0\n",
        "for root, dirs, files in os.walk(path):\n",
        "  for file in files:\n",
        "    if file.endswith('.txt'):\n",
        "      count += 1\n",
        "\n",
        "count"
      ]
    },
    {
      "cell_type": "markdown",
      "metadata": {
        "id": "I_ZUOTezuliC"
      },
      "source": [
        "## Files\n",
        "In the following tasks you are expected to use __open__, __with__, and any __os__ functionality that you find useful."
      ]
    },
    {
      "cell_type": "markdown",
      "metadata": {
        "id": "kNttFnrwuliC"
      },
      "source": [
        "### Writing to files\n",
        "Write a single line in a file called __session6_exercise.txt__, located in the same folder as this notebook.  \n",
        "Start an empty file and add the following string:  \n",
        "*This is the first line in the file*  \n",
        "\n",
        "Make sure the file is closed when the cell has finished executing.\n",
        "\n",
        "Then open the file in a separate text editor of your choice to see if it worked."
      ]
    },
    {
      "cell_type": "code",
      "execution_count": 11,
      "metadata": {
        "id": "TUbGrQruuliC"
      },
      "outputs": [],
      "source": [
        "# Write your code here\n",
        "with open('session6_exercise.txt', 'w') as f:\n",
        "  f.write('This is the first line in the file')"
      ]
    },
    {
      "cell_type": "markdown",
      "metadata": {
        "id": "Gf7XDLW5uliC"
      },
      "source": [
        "Now add another line in the same file (__session6_exercise.txt__)  \n",
        "This line should be:  \n",
        "*This is the second line in the file*\n",
        "\n",
        "So, the file should now contain:\n",
        "```\n",
        "This is the first line in the file\n",
        "This is the second line in the file\n",
        "```\n",
        "Again, make sure the file is closed when the cell has finished executing.  \n",
        "The following cell should only write the second line to the file.  Do not rewrite the first line."
      ]
    },
    {
      "cell_type": "code",
      "execution_count": 12,
      "metadata": {
        "id": "djhNdoBouliC"
      },
      "outputs": [],
      "source": [
        "# Write your code here\n",
        "with open('session6_exercise.txt', 'a') as f:\n",
        "  f.write('\\nThis is the second line in the file')"
      ]
    },
    {
      "cell_type": "markdown",
      "metadata": {
        "id": "AYbfi2ZvuliC"
      },
      "source": [
        "Again with the same file (__session6_exercise.txt__)  \n",
        "Now use a for loop to add 10 new lines to the file.  \n",
        "- Keep the two lines from before\n",
        "- The lines should be the following sequence:\n",
        "```\n",
        "This is me counting and the number is 1\n",
        "This is me counting and the number is 2\n",
        "...\n",
        "This is me counting and the number is 10\n",
        "```\n",
        "Obviously replace the the dots (...) with the lines in between"
      ]
    },
    {
      "cell_type": "code",
      "execution_count": 13,
      "metadata": {
        "id": "Q9BSfiTduliC"
      },
      "outputs": [],
      "source": [
        "# Write your code here\n",
        "with open('session6_exercise.txt', 'a') as f:\n",
        "  for i in range(1,11):\n",
        "    f.write(f'\\nThis is me counting and the number is {i}')"
      ]
    },
    {
      "cell_type": "markdown",
      "metadata": {
        "id": "GQ_Ix-LZuliC"
      },
      "source": [
        "### Reading from files\n",
        "Now you'll undertake a series of tasks with the file from before (__session6_exercise.txt__)  \n",
        "Each task will require you to open and close the file each time.\n",
        "\n",
        "1) First task is to read the file's content into a single string variable and print the first 100 __characters__"
      ]
    },
    {
      "cell_type": "code",
      "execution_count": 14,
      "metadata": {
        "colab": {
          "base_uri": "https://localhost:8080/"
        },
        "id": "CiciylSduliC",
        "outputId": "30a8ab23-d9d0-4b0e-b617-79cf47ccba19"
      },
      "outputs": [
        {
          "output_type": "stream",
          "name": "stdout",
          "text": [
            "This is the first line in the file\n",
            "This is the second line in the file\n",
            "This is me counting and the n\n"
          ]
        }
      ],
      "source": [
        "# Write your code here\n",
        "with open('session6_exercise.txt', 'r') as f:\n",
        "  content = f.read(100)\n",
        "  print(content)\n"
      ]
    },
    {
      "cell_type": "markdown",
      "metadata": {
        "id": "fqJ97B-EuliC"
      },
      "source": [
        "2) Second task is to read the file's content into a list of strings, where each string is a single line of the file. Display the first 4 lines\n",
        "\n",
        "*Optionally, remove newline characters from each line"
      ]
    },
    {
      "cell_type": "code",
      "execution_count": 18,
      "metadata": {
        "colab": {
          "base_uri": "https://localhost:8080/"
        },
        "id": "4VTCwilsuliC",
        "outputId": "cf5b9038-2174-4ade-e506-6b9a05f9c7cd"
      },
      "outputs": [
        {
          "output_type": "stream",
          "name": "stdout",
          "text": [
            "This is the first line in the file\n",
            "This is the second line in the file\n",
            "This is me counting and the number is 1\n",
            "This is me counting and the number is 2\n"
          ]
        }
      ],
      "source": [
        "# Write your code here\n",
        "with open('session6_exercise.txt', 'r') as f:\n",
        "  lines = f.readlines()\n",
        "  for line in lines[:4]:\n",
        "    print(line[:-1])"
      ]
    },
    {
      "cell_type": "markdown",
      "metadata": {
        "id": "X27RozaHuliC"
      },
      "source": [
        "3) Read the whole file into a list of strings, where each string is a separate word or number  \n",
        "Display the first 10 words"
      ]
    },
    {
      "cell_type": "code",
      "execution_count": 19,
      "metadata": {
        "colab": {
          "base_uri": "https://localhost:8080/"
        },
        "id": "blHG_D6duliD",
        "outputId": "242e566d-d196-42b6-aab7-d7d855d2f53b"
      },
      "outputs": [
        {
          "output_type": "stream",
          "name": "stdout",
          "text": [
            "This is the first line in the file This is\n"
          ]
        }
      ],
      "source": [
        "# Write your code here\n",
        "words = []\n",
        "with open('session6_exercise.txt', 'r') as f:\n",
        "  # words = f.read().split()\n",
        "  lines = f.readlines()\n",
        "  for line in lines:\n",
        "    arr_words = line.split()\n",
        "    # words = [word for word in line.split()]\n",
        "    for word in arr_words:\n",
        "      words.append(word)\n",
        "\n",
        "  print(\" \".join(words[:10]))"
      ]
    },
    {
      "cell_type": "markdown",
      "metadata": {
        "id": "58VqTOntuliD"
      },
      "source": [
        "4) Using the list of words from previous task:\n",
        "- count the words\n",
        "- count the number of unique words"
      ]
    },
    {
      "cell_type": "code",
      "execution_count": 20,
      "metadata": {
        "colab": {
          "base_uri": "https://localhost:8080/"
        },
        "id": "97GFPMVeuliD",
        "outputId": "7ae7769e-e6a6-41f5-abd1-6ce5285257d2"
      },
      "outputs": [
        {
          "output_type": "stream",
          "name": "stdout",
          "text": [
            "106\n",
            "22\n"
          ]
        }
      ],
      "source": [
        "# Write your code here\n",
        "print(len(words))\n",
        "print(len(set(words)))"
      ]
    },
    {
      "cell_type": "markdown",
      "metadata": {
        "id": "kBGMBK1ruliD"
      },
      "source": [
        "# 6.4 File formats"
      ]
    },
    {
      "cell_type": "markdown",
      "metadata": {
        "id": "eP75Eu8DuliD"
      },
      "source": [
        "## 6.4a CSV file parsing"
      ]
    },
    {
      "cell_type": "code",
      "execution_count": 21,
      "metadata": {
        "id": "x_oOZLXbuliD"
      },
      "outputs": [],
      "source": [
        "# Run this cell to load the csv module in memory\n",
        "import csv"
      ]
    },
    {
      "cell_type": "markdown",
      "metadata": {
        "id": "dA6D4cAPuliD"
      },
      "source": [
        "### Writing\n",
        "You will now undertake a couple of tasks for writing data into a csv file.  \n",
        "Both tasks will result in identical file contents.  \n",
        "Start by executing the following cell to create the data variables that will be written to the file"
      ]
    },
    {
      "cell_type": "code",
      "execution_count": 22,
      "metadata": {
        "colab": {
          "base_uri": "https://localhost:8080/",
          "height": 1000
        },
        "id": "o3LUD01OuliD",
        "outputId": "c62426f9-c8fe-44bf-b62c-fbc66313f866"
      },
      "outputs": [
        {
          "output_type": "display_data",
          "data": {
            "text/plain": [
              "['col_1', 'col_2', 'col_4', 'col_5', 'col_6', 'col_7', 'col_9', 'col_10']"
            ]
          },
          "metadata": {}
        },
        {
          "output_type": "display_data",
          "data": {
            "text/plain": [
              "[['\"X\"', 2, 3, 4, 5, 6, 7, 8, 9, 10],\n",
              " [2, '\"X\"', 6, 8, 10, 12, 14, 16, 18, 20],\n",
              " [4, 8, 12, '\"X\"', 20, 24, 28, 32, 36, 40],\n",
              " [5, 10, 15, 20, '\"X\"', 30, 35, 40, 45, 50],\n",
              " [6, 12, 18, 24, 30, '\"X\"', 42, 48, 54, 60],\n",
              " [7, 14, 21, 28, 35, 42, '\"X\"', 56, 63, 70],\n",
              " [9, 18, 27, 36, 45, 54, 63, 72, '\"X\"', 90],\n",
              " [10, 20, 30, 40, 50, 60, 70, 80, 90, '\"X\"']]"
            ]
          },
          "metadata": {}
        },
        {
          "output_type": "display_data",
          "data": {
            "text/plain": [
              "[{'col_1': '\"X\"',\n",
              "  'col_2': 2,\n",
              "  'col_3': 3,\n",
              "  'col_4': 4,\n",
              "  'col_5': 5,\n",
              "  'col_6': 6,\n",
              "  'col_7': 7,\n",
              "  'col_8': 8,\n",
              "  'col_9': 9,\n",
              "  'col_10': 10},\n",
              " {'col_1': 2,\n",
              "  'col_2': '\"X\"',\n",
              "  'col_3': 6,\n",
              "  'col_4': 8,\n",
              "  'col_5': 10,\n",
              "  'col_6': 12,\n",
              "  'col_7': 14,\n",
              "  'col_8': 16,\n",
              "  'col_9': 18,\n",
              "  'col_10': 20},\n",
              " {'col_1': 4,\n",
              "  'col_2': 8,\n",
              "  'col_3': 12,\n",
              "  'col_4': '\"X\"',\n",
              "  'col_5': 20,\n",
              "  'col_6': 24,\n",
              "  'col_7': 28,\n",
              "  'col_8': 32,\n",
              "  'col_9': 36,\n",
              "  'col_10': 40},\n",
              " {'col_1': 5,\n",
              "  'col_2': 10,\n",
              "  'col_3': 15,\n",
              "  'col_4': 20,\n",
              "  'col_5': '\"X\"',\n",
              "  'col_6': 30,\n",
              "  'col_7': 35,\n",
              "  'col_8': 40,\n",
              "  'col_9': 45,\n",
              "  'col_10': 50},\n",
              " {'col_1': 6,\n",
              "  'col_2': 12,\n",
              "  'col_3': 18,\n",
              "  'col_4': 24,\n",
              "  'col_5': 30,\n",
              "  'col_6': '\"X\"',\n",
              "  'col_7': 42,\n",
              "  'col_8': 48,\n",
              "  'col_9': 54,\n",
              "  'col_10': 60},\n",
              " {'col_1': 7,\n",
              "  'col_2': 14,\n",
              "  'col_3': 21,\n",
              "  'col_4': 28,\n",
              "  'col_5': 35,\n",
              "  'col_6': 42,\n",
              "  'col_7': '\"X\"',\n",
              "  'col_8': 56,\n",
              "  'col_9': 63,\n",
              "  'col_10': 70},\n",
              " {'col_1': 9,\n",
              "  'col_2': 18,\n",
              "  'col_3': 27,\n",
              "  'col_4': 36,\n",
              "  'col_5': 45,\n",
              "  'col_6': 54,\n",
              "  'col_7': 63,\n",
              "  'col_8': 72,\n",
              "  'col_9': '\"X\"',\n",
              "  'col_10': 90},\n",
              " {'col_1': 10,\n",
              "  'col_2': 20,\n",
              "  'col_3': 30,\n",
              "  'col_4': 40,\n",
              "  'col_5': 50,\n",
              "  'col_6': 60,\n",
              "  'col_7': 70,\n",
              "  'col_8': 80,\n",
              "  'col_9': 90,\n",
              "  'col_10': '\"X\"'}]"
            ]
          },
          "metadata": {}
        }
      ],
      "source": [
        "fieldnames = [f'col_{i}' for i in range(1,11) if i not in [3,8]]\n",
        "dat_dicts = [dict([(f'col_{i}','\"X\"' if i==j else i*j)\n",
        "                   for i in range(1,11)])\n",
        "             for j in range(1,11) if j not in [3,8]]\n",
        "dat_lists = [list(d.values()) for d in dat_dicts]\n",
        "display(fieldnames,dat_lists)\n",
        "display(dat_dicts)"
      ]
    },
    {
      "cell_type": "markdown",
      "metadata": {
        "id": "BKkFDdb6uliD"
      },
      "source": [
        "1) Using csv.writer create a file named __symmetric.csv__ which contains data from one of the data variables we just created.  \n",
        "The file's content should look like this:\n",
        "```\n",
        "\"col_1\",\"col_2\",\"col_3\",\"col_4\",\"col_5\",\"col_6\",\"col_7\",\"col_8\",\"col_9\",\"col_10\"\n",
        "\"X\",2,3,4,5,6,7,8,9,10\n",
        "2,\"X\",6,8,10,12,14,16,18,20\n",
        "3,6,\"X\",12,15,18,21,24,27,30\n",
        "4,8,12,\"X\",20,24,28,32,36,40\n",
        "5,10,15,20,\"X\",30,35,40,45,50\n",
        "6,12,18,24,30,\"X\",42,48,54,60\n",
        "7,14,21,28,35,42,\"X\",56,63,70\n",
        "8,16,24,32,40,48,56,\"X\",72,80\n",
        "9,18,27,36,45,54,63,72,\"X\",90\n",
        "10,20,30,40,50,60,70,80,90,\"X\"\n",
        "```\n",
        "*hint: You can make this task a whole lot easier if you familiarise yourself with the arguments: quotechar and quoting https://docs.python.org/3/library/csv.html#csv.writer https://docs.python.org/3/library/csv.html#csv-fmt-params\n",
        "\n",
        "*recommendation: It is recommended to use __newline=''__ when opening files for csv read and write functions. See here: https://docs.python.org/3.9/library/csv.html#examples and here: https://docs.python.org/3/library/functions.html#open-newline-parameter"
      ]
    },
    {
      "cell_type": "code",
      "execution_count": 23,
      "metadata": {
        "colab": {
          "base_uri": "https://localhost:8080/",
          "height": 160
        },
        "id": "PMzPKQF3uliK",
        "outputId": "cc80c4db-98d8-4d65-9f73-0de43fd736e5"
      },
      "outputs": [
        {
          "output_type": "display_data",
          "data": {
            "text/plain": [
              "['\"X\"', 2, 3, 4, 5, 6, 7, 8, 9, 10]"
            ]
          },
          "metadata": {}
        },
        {
          "output_type": "display_data",
          "data": {
            "text/plain": [
              "[2, '\"X\"', 6, 8, 10, 12, 14, 16, 18, 20]"
            ]
          },
          "metadata": {}
        },
        {
          "output_type": "display_data",
          "data": {
            "text/plain": [
              "[4, 8, 12, '\"X\"', 20, 24, 28, 32, 36, 40]"
            ]
          },
          "metadata": {}
        },
        {
          "output_type": "display_data",
          "data": {
            "text/plain": [
              "[5, 10, 15, 20, '\"X\"', 30, 35, 40, 45, 50]"
            ]
          },
          "metadata": {}
        },
        {
          "output_type": "display_data",
          "data": {
            "text/plain": [
              "[6, 12, 18, 24, 30, '\"X\"', 42, 48, 54, 60]"
            ]
          },
          "metadata": {}
        },
        {
          "output_type": "display_data",
          "data": {
            "text/plain": [
              "[7, 14, 21, 28, 35, 42, '\"X\"', 56, 63, 70]"
            ]
          },
          "metadata": {}
        },
        {
          "output_type": "display_data",
          "data": {
            "text/plain": [
              "[9, 18, 27, 36, 45, 54, 63, 72, '\"X\"', 90]"
            ]
          },
          "metadata": {}
        },
        {
          "output_type": "display_data",
          "data": {
            "text/plain": [
              "[10, 20, 30, 40, 50, 60, 70, 80, 90, '\"X\"']"
            ]
          },
          "metadata": {}
        }
      ],
      "source": [
        "# Write your code here\n",
        "with open('symmetric.csv', 'w', newline='') as f:\n",
        "  writer = csv.writer(f, delimiter=',', quotechar='\"', quoting=csv.QUOTE_MINIMAL)\n",
        "  writer.writerow(fieldnames)\n",
        "  for row in dat_lists:\n",
        "    display(row)\n",
        "    writer.writerow(row)"
      ]
    },
    {
      "cell_type": "markdown",
      "metadata": {
        "id": "EGDt49WSuliK"
      },
      "source": [
        "2) Now use csv.DictWriter to create the same file with the same content"
      ]
    },
    {
      "cell_type": "code",
      "execution_count": 24,
      "metadata": {
        "colab": {
          "base_uri": "https://localhost:8080/",
          "height": 1000
        },
        "id": "Pe5bWPM1uliK",
        "outputId": "f38bf223-0322-4a85-c2ea-fcaf3ee507fb"
      },
      "outputs": [
        {
          "output_type": "display_data",
          "data": {
            "text/plain": [
              "{'col_1': '\"X\"',\n",
              " 'col_2': 2,\n",
              " 'col_4': 4,\n",
              " 'col_5': 5,\n",
              " 'col_6': 6,\n",
              " 'col_7': 7,\n",
              " 'col_9': 9,\n",
              " 'col_10': 10}"
            ]
          },
          "metadata": {}
        },
        {
          "output_type": "display_data",
          "data": {
            "text/plain": [
              "{'col_1': 2,\n",
              " 'col_2': '\"X\"',\n",
              " 'col_4': 8,\n",
              " 'col_5': 10,\n",
              " 'col_6': 12,\n",
              " 'col_7': 14,\n",
              " 'col_9': 18,\n",
              " 'col_10': 20}"
            ]
          },
          "metadata": {}
        },
        {
          "output_type": "display_data",
          "data": {
            "text/plain": [
              "{'col_1': 4,\n",
              " 'col_2': 8,\n",
              " 'col_4': '\"X\"',\n",
              " 'col_5': 20,\n",
              " 'col_6': 24,\n",
              " 'col_7': 28,\n",
              " 'col_9': 36,\n",
              " 'col_10': 40}"
            ]
          },
          "metadata": {}
        },
        {
          "output_type": "display_data",
          "data": {
            "text/plain": [
              "{'col_1': 5,\n",
              " 'col_2': 10,\n",
              " 'col_4': 20,\n",
              " 'col_5': '\"X\"',\n",
              " 'col_6': 30,\n",
              " 'col_7': 35,\n",
              " 'col_9': 45,\n",
              " 'col_10': 50}"
            ]
          },
          "metadata": {}
        },
        {
          "output_type": "display_data",
          "data": {
            "text/plain": [
              "{'col_1': 6,\n",
              " 'col_2': 12,\n",
              " 'col_4': 24,\n",
              " 'col_5': 30,\n",
              " 'col_6': '\"X\"',\n",
              " 'col_7': 42,\n",
              " 'col_9': 54,\n",
              " 'col_10': 60}"
            ]
          },
          "metadata": {}
        },
        {
          "output_type": "display_data",
          "data": {
            "text/plain": [
              "{'col_1': 7,\n",
              " 'col_2': 14,\n",
              " 'col_4': 28,\n",
              " 'col_5': 35,\n",
              " 'col_6': 42,\n",
              " 'col_7': '\"X\"',\n",
              " 'col_9': 63,\n",
              " 'col_10': 70}"
            ]
          },
          "metadata": {}
        },
        {
          "output_type": "display_data",
          "data": {
            "text/plain": [
              "{'col_1': 9,\n",
              " 'col_2': 18,\n",
              " 'col_4': 36,\n",
              " 'col_5': 45,\n",
              " 'col_6': 54,\n",
              " 'col_7': 63,\n",
              " 'col_9': '\"X\"',\n",
              " 'col_10': 90}"
            ]
          },
          "metadata": {}
        },
        {
          "output_type": "display_data",
          "data": {
            "text/plain": [
              "{'col_1': 10,\n",
              " 'col_2': 20,\n",
              " 'col_4': 40,\n",
              " 'col_5': 50,\n",
              " 'col_6': 60,\n",
              " 'col_7': 70,\n",
              " 'col_9': 90,\n",
              " 'col_10': '\"X\"'}"
            ]
          },
          "metadata": {}
        }
      ],
      "source": [
        "# Write your code here\n",
        "import copy\n",
        "with open('symmetric.csv', 'w', newline='') as f:\n",
        "  writer = csv.DictWriter(f, fieldnames=fieldnames)\n",
        "  writer.writeheader()\n",
        "  dicts = copy.deepcopy(dat_dicts)\n",
        "\n",
        "  for row in dicts:\n",
        "    del row['col_3']\n",
        "    del row['col_8']\n",
        "    display(row)\n",
        "    writer.writerow(row)"
      ]
    },
    {
      "cell_type": "markdown",
      "metadata": {
        "id": "xiseWgzAuliK"
      },
      "source": [
        "### Reading\n",
        "Use __csv.reader__ to parse the file from before (__session6_exercise.csv__) into a 2 dimensional list  \n",
        "Separate the header into its own variable and convert numeric values into numeric types\n",
        "\n",
        "Print out the header and the data"
      ]
    },
    {
      "cell_type": "code",
      "execution_count": 25,
      "metadata": {
        "colab": {
          "base_uri": "https://localhost:8080/",
          "height": 178
        },
        "id": "0nEMvZ8guliK",
        "outputId": "f9b76cc7-687a-4a23-b613-24e7d06e2126"
      },
      "outputs": [
        {
          "output_type": "display_data",
          "data": {
            "text/plain": [
              "['col_1', 'col_2', 'col_4', 'col_5', 'col_6', 'col_7', 'col_9', 'col_10']"
            ]
          },
          "metadata": {}
        },
        {
          "output_type": "display_data",
          "data": {
            "text/plain": [
              "[['\"X\"', 2, 4, 5, 6, 7, 9, 10],\n",
              " [2, '\"X\"', 8, 10, 12, 14, 18, 20],\n",
              " [4, 8, '\"X\"', 20, 24, 28, 36, 40],\n",
              " [5, 10, 20, '\"X\"', 30, 35, 45, 50],\n",
              " [6, 12, 24, 30, '\"X\"', 42, 54, 60],\n",
              " [7, 14, 28, 35, 42, '\"X\"', 63, 70],\n",
              " [9, 18, 36, 45, 54, 63, '\"X\"', 90],\n",
              " [10, 20, 40, 50, 60, 70, 90, '\"X\"']]"
            ]
          },
          "metadata": {}
        }
      ],
      "source": [
        "# Write your code here\n",
        "with open('symmetric.csv', 'r', newline='') as f:\n",
        "  reader = csv.reader(f, delimiter=',', quotechar='\"')\n",
        "  header = next(reader)\n",
        "  # print(next(reader))\n",
        "  data = [row for row in reader]\n",
        "  for i in range(len(data)):\n",
        "    for j in range(len(data[i])):\n",
        "      if data[i][j].isnumeric():\n",
        "        data[i][j] = int(data[i][j])\n",
        "\n",
        "display(header)\n",
        "display(data)"
      ]
    },
    {
      "cell_type": "markdown",
      "metadata": {
        "id": "2NBFE8vMuliL"
      },
      "source": [
        "Now repeat the same with __csv.DictReader__ but this time, store the content of the same file in a list of dictionary type objects.\n",
        "\n",
        "*Dictionary type objects are any kind of object that stores the data as key, value pairs (e.g. OrderedDict for older versions of Python)"
      ]
    },
    {
      "cell_type": "code",
      "execution_count": 26,
      "metadata": {
        "colab": {
          "base_uri": "https://localhost:8080/",
          "height": 1000
        },
        "id": "KaSHSnHFuliL",
        "outputId": "25433568-60b1-4fcf-dc2a-68ed9280e1e6"
      },
      "outputs": [
        {
          "output_type": "display_data",
          "data": {
            "text/plain": [
              "[{'col_1': '\"X\"',\n",
              "  'col_2': '2',\n",
              "  'col_4': '4',\n",
              "  'col_5': '5',\n",
              "  'col_6': '6',\n",
              "  'col_7': '7',\n",
              "  'col_9': '9',\n",
              "  'col_10': '10'},\n",
              " {'col_1': '2',\n",
              "  'col_2': '\"X\"',\n",
              "  'col_4': '8',\n",
              "  'col_5': '10',\n",
              "  'col_6': '12',\n",
              "  'col_7': '14',\n",
              "  'col_9': '18',\n",
              "  'col_10': '20'},\n",
              " {'col_1': '4',\n",
              "  'col_2': '8',\n",
              "  'col_4': '\"X\"',\n",
              "  'col_5': '20',\n",
              "  'col_6': '24',\n",
              "  'col_7': '28',\n",
              "  'col_9': '36',\n",
              "  'col_10': '40'},\n",
              " {'col_1': '5',\n",
              "  'col_2': '10',\n",
              "  'col_4': '20',\n",
              "  'col_5': '\"X\"',\n",
              "  'col_6': '30',\n",
              "  'col_7': '35',\n",
              "  'col_9': '45',\n",
              "  'col_10': '50'},\n",
              " {'col_1': '6',\n",
              "  'col_2': '12',\n",
              "  'col_4': '24',\n",
              "  'col_5': '30',\n",
              "  'col_6': '\"X\"',\n",
              "  'col_7': '42',\n",
              "  'col_9': '54',\n",
              "  'col_10': '60'},\n",
              " {'col_1': '7',\n",
              "  'col_2': '14',\n",
              "  'col_4': '28',\n",
              "  'col_5': '35',\n",
              "  'col_6': '42',\n",
              "  'col_7': '\"X\"',\n",
              "  'col_9': '63',\n",
              "  'col_10': '70'},\n",
              " {'col_1': '9',\n",
              "  'col_2': '18',\n",
              "  'col_4': '36',\n",
              "  'col_5': '45',\n",
              "  'col_6': '54',\n",
              "  'col_7': '63',\n",
              "  'col_9': '\"X\"',\n",
              "  'col_10': '90'},\n",
              " {'col_1': '10',\n",
              "  'col_2': '20',\n",
              "  'col_4': '40',\n",
              "  'col_5': '50',\n",
              "  'col_6': '60',\n",
              "  'col_7': '70',\n",
              "  'col_9': '90',\n",
              "  'col_10': '\"X\"'}]"
            ]
          },
          "metadata": {}
        }
      ],
      "source": [
        "# Write your code here\n",
        "with open('symmetric.csv', 'r', newline='') as f:\n",
        "  reader = csv.DictReader(f, delimiter=',', quotechar='\"')\n",
        "  data = [row for row in reader]\n",
        "  display(data)"
      ]
    },
    {
      "cell_type": "markdown",
      "metadata": {
        "id": "H4qcjrfjuliL"
      },
      "source": [
        "### Pretending we have big data\n",
        "This task requires the use of a number coding solutions from previous sessions  \n",
        "__It is a bit advanced and entirely optional__\n",
        "\n",
        "The file __abalone.csv__ contains data from the Abalone ML dataset, which is available from here:  \n",
        "https://archive.ics.uci.edu/ml/datasets/Abalone\n",
        "\n",
        "We are going to pretend that it is a massive dataset and display a calculated value without reading the whole thing into memory. That is, we are going to treat it as a stream. Use as little memory as possible.\n",
        "\n",
        "The calculated value is the __running average__ of the *height* without dropping any values. See a definition of the running average here: https://en.wikipedia.org/wiki/Moving_average\n",
        "\n",
        "First try to accomplish this using __csv.reader__ and then __csv.DictReader__\\\n",
        "The first four values displayed should be:\\\n",
        "0.095\\\n",
        "0.0925\\\n",
        "0.10666666666666667\\\n",
        "0.11125"
      ]
    },
    {
      "cell_type": "code",
      "execution_count": 152,
      "metadata": {
        "id": "ujeVYiCxuliL"
      },
      "outputs": [],
      "source": [
        "# Write your csv.reader code here\n",
        "# f = open('abalone.csv', 'r', newline='')\n",
        "\n",
        "def openfile(file):\n",
        "  f = open(file, 'r', newline='')\n",
        "  reader = csv.reader(f, delimiter=',', quotechar='\"')\n",
        "  header = next(reader)\n",
        "  data = (row[3] for row in reader)\n",
        "  return (data, f)\n",
        "\n",
        "res, f = openfile('abalone.csv')"
      ]
    },
    {
      "cell_type": "code",
      "source": [
        "def calc_running_average(res):\n",
        "  moving_average = 0\n",
        "  i = 0\n",
        "  while True:\n",
        "    try:\n",
        "      moving_average = (moving_average * i + float(next(res))) / (i + 1)\n",
        "      i += 1\n",
        "      yield moving_average\n",
        "    except StopIteration:\n",
        "      break\n"
      ],
      "metadata": {
        "id": "bojcLWksZ5_r"
      },
      "execution_count": 153,
      "outputs": []
    },
    {
      "cell_type": "code",
      "source": [
        "mavg = calc_running_average(res)"
      ],
      "metadata": {
        "id": "mIijKXHspTcf"
      },
      "execution_count": 154,
      "outputs": []
    },
    {
      "cell_type": "code",
      "source": [
        "print(next(mavg))"
      ],
      "metadata": {
        "colab": {
          "base_uri": "https://localhost:8080/"
        },
        "id": "YSehkIiLo3FU",
        "outputId": "e293495f-5864-4fef-9f37-f1336485b610"
      },
      "execution_count": 157,
      "outputs": [
        {
          "output_type": "stream",
          "name": "stdout",
          "text": [
            "0.10666666666666667\n"
          ]
        }
      ]
    },
    {
      "cell_type": "code",
      "source": [
        "f.close()"
      ],
      "metadata": {
        "id": "_VIUsJ4Pb0E3"
      },
      "execution_count": 147,
      "outputs": []
    },
    {
      "cell_type": "code",
      "execution_count": 164,
      "metadata": {
        "id": "UsH8YSMHuliL"
      },
      "outputs": [],
      "source": [
        "# Write your csv.DictReader code here\n",
        "def openfileWithDict(file):\n",
        "  f = open(file, 'r', newline='')\n",
        "  reader = csv.DictReader(f, delimiter=',', quotechar='\"')\n",
        "  data = (row['height'] for row in reader)\n",
        "  return (data, f)\n",
        "\n",
        "\n",
        "res, f = openfileWithDict('abalone.csv')"
      ]
    },
    {
      "cell_type": "code",
      "source": [
        "def calc_running_average(res):\n",
        "  moving_average = 0\n",
        "  i = 0\n",
        "  while True:\n",
        "    try:\n",
        "      moving_average = (moving_average * i + float(next(res))) / (i + 1)\n",
        "      i += 1\n",
        "      yield moving_average\n",
        "    except StopIteration:\n",
        "      break"
      ],
      "metadata": {
        "id": "t3LUuCDvtikU"
      },
      "execution_count": 165,
      "outputs": []
    },
    {
      "cell_type": "code",
      "source": [
        "mavg = calc_running_average(res)"
      ],
      "metadata": {
        "id": "_RkP4251t4nv"
      },
      "execution_count": 166,
      "outputs": []
    },
    {
      "cell_type": "code",
      "source": [
        "print(next(mavg))"
      ],
      "metadata": {
        "colab": {
          "base_uri": "https://localhost:8080/"
        },
        "id": "AgdLVq0JuLU2",
        "outputId": "571e43e4-489f-42e9-e8a9-4877b5ccebf1"
      },
      "execution_count": 172,
      "outputs": [
        {
          "output_type": "stream",
          "name": "stdout",
          "text": [
            "0.10500000000000001\n"
          ]
        }
      ]
    },
    {
      "cell_type": "markdown",
      "metadata": {
        "id": "kH9e4b2OuliL"
      },
      "source": [
        "## 6.4b JSON file parsing"
      ]
    },
    {
      "cell_type": "code",
      "execution_count": 173,
      "metadata": {
        "id": "zClp4AxjuliL"
      },
      "outputs": [],
      "source": [
        "# Execute this cell to get access to the json module\n",
        "import json"
      ]
    },
    {
      "cell_type": "markdown",
      "metadata": {
        "id": "bBPBWHeKuliL"
      },
      "source": [
        "### Reading json data into memory\n",
        "Accompanying this notebook was a file called session6_people.json it is not a well formed json file as in you won't be able to load the whole thing by using json.load(). Instead you will have to read it line by line and use json.loads()\n",
        "\n",
        "1) Read the data from __session6_people.json__ into a list of dictionary objects\n",
        "\n",
        "*open the file in a text editor before coding your solution to see what the file contains"
      ]
    },
    {
      "cell_type": "code",
      "execution_count": 178,
      "metadata": {
        "colab": {
          "base_uri": "https://localhost:8080/",
          "height": 35
        },
        "id": "Dqf3M6bmuliL",
        "outputId": "ee1a6551-f119-4ed2-e4ec-507aa59dbcc9"
      },
      "outputs": [
        {
          "output_type": "display_data",
          "data": {
            "text/plain": [
              "{'age': 59, 'name': 'Sascha Raybourne'}"
            ]
          },
          "metadata": {}
        }
      ],
      "source": [
        "# Write your code here\n",
        "with open('session6_people.json', 'r') as f:\n",
        "  data = [{'age': json.loads(line)[1], 'name': json.loads(line)[0] } for line in f]\n",
        "  display(data[0])"
      ]
    },
    {
      "cell_type": "markdown",
      "metadata": {
        "id": "9HoiVQk0uliL"
      },
      "source": [
        "2) Filter the data into a new list.  \n",
        "The new list should only contain people in the age group [30, 40] (inclusive)"
      ]
    },
    {
      "cell_type": "code",
      "execution_count": 179,
      "metadata": {
        "colab": {
          "base_uri": "https://localhost:8080/",
          "height": 1000
        },
        "id": "DvQBdiC9uliL",
        "outputId": "5a59b76f-846f-4224-d9a1-b0c5a316c2e1"
      },
      "outputs": [
        {
          "output_type": "display_data",
          "data": {
            "text/plain": [
              "[{'age': 35, 'name': 'Phaedra Quartus'},\n",
              " {'age': 33, 'name': 'Roslyn Bocock'},\n",
              " {'age': 39, 'name': 'Helen Friedrick'},\n",
              " {'age': 31, 'name': 'Laney Uno'},\n",
              " {'age': 30, 'name': 'Debbie Walford'},\n",
              " {'age': 37, 'name': 'Tamera Brady'},\n",
              " {'age': 39, 'name': 'Margaretta Jena'},\n",
              " {'age': 32, 'name': 'Lisha Casey'},\n",
              " {'age': 40, 'name': 'Honey Jacqueline'},\n",
              " {'age': 32, 'name': 'Allegra Jacquenette'},\n",
              " {'age': 39, 'name': 'Shir Minny'},\n",
              " {'age': 37, 'name': 'Mellisa Goddard'},\n",
              " {'age': 34, 'name': 'Felicia Valry'},\n",
              " {'age': 33, 'name': 'Bendite Arny'},\n",
              " {'age': 39, 'name': 'Saraann Ebneter'},\n",
              " {'age': 40, 'name': 'Nicoli Derrik'},\n",
              " {'age': 38, 'name': 'Dreddy Kermy'},\n",
              " {'age': 32, 'name': 'Roxanne Bowes'},\n",
              " {'age': 33, 'name': 'Renate Max'},\n",
              " {'age': 30, 'name': 'Bill Madaras'},\n",
              " {'age': 35, 'name': 'Minna Balliol'},\n",
              " {'age': 31, 'name': 'Fan Delastre'},\n",
              " {'age': 30, 'name': 'Fae Schenck'},\n",
              " {'age': 34, 'name': 'Etti Dempsey'},\n",
              " {'age': 32, 'name': 'Indira Frayda'},\n",
              " {'age': 39, 'name': 'Felecia Irvin'},\n",
              " {'age': 35, 'name': 'Harriot Coralie'},\n",
              " {'age': 31, 'name': 'Madella Ethe'},\n",
              " {'age': 36, 'name': 'Joni Durant'},\n",
              " {'age': 37, 'name': 'Marice Tare'},\n",
              " {'age': 37, 'name': 'Ginnie Adelbert'},\n",
              " {'age': 40, 'name': 'Kirbie Fairman'},\n",
              " {'age': 34, 'name': 'Brittni Todhunter'},\n",
              " {'age': 39, 'name': 'Sherline Taite'},\n",
              " {'age': 39, 'name': 'Vevay Hynda'},\n",
              " {'age': 35, 'name': 'Laura Vogele'},\n",
              " {'age': 34, 'name': 'Judith Rexer'},\n",
              " {'age': 30, 'name': 'Nonna Cinelli'},\n",
              " {'age': 37, 'name': 'Sella Aramenta'},\n",
              " {'age': 30, 'name': 'Dniren Kyl'},\n",
              " {'age': 31, 'name': 'Tatum Sarene'},\n",
              " {'age': 31, 'name': 'Cecelia Moretta'},\n",
              " {'age': 32, 'name': 'Karalee Stedman'},\n",
              " {'age': 36, 'name': 'Nat Rahel'},\n",
              " {'age': 34, 'name': 'Gilbertina Armalla'},\n",
              " {'age': 39, 'name': 'Elsie Laurentia'},\n",
              " {'age': 35, 'name': 'Rosamond Ranitta'},\n",
              " {'age': 36, 'name': 'Dulcine Fritze'},\n",
              " {'age': 40, 'name': 'Janessa Childers'},\n",
              " {'age': 34, 'name': 'Emogene Veal'},\n",
              " {'age': 34, 'name': 'Carlye Helsell'},\n",
              " {'age': 36, 'name': 'Dru Carmela'},\n",
              " {'age': 34, 'name': 'Ericka Donald'},\n",
              " {'age': 40, 'name': 'Nicolea Barabas'},\n",
              " {'age': 36, 'name': 'Angelika Hans'},\n",
              " {'age': 39, 'name': 'Tonya Cicely'},\n",
              " {'age': 38, 'name': 'Wilma Maria'},\n",
              " {'age': 35, 'name': 'Christabel Crawley'},\n",
              " {'age': 32, 'name': 'Jobye Chapland'},\n",
              " {'age': 32, 'name': 'Cassandre Thorin'},\n",
              " {'age': 38, 'name': 'Bren Lothar'},\n",
              " {'age': 34, 'name': 'Brandi Barren'},\n",
              " {'age': 40, 'name': 'Vanessa Meadow'},\n",
              " {'age': 37, 'name': 'Shannon Dulcinea'},\n",
              " {'age': 34, 'name': 'Ysabel Bick'},\n",
              " {'age': 40, 'name': 'Katrina Emelyne'},\n",
              " {'age': 39, 'name': 'Aurelea Lisan'},\n",
              " {'age': 39, 'name': 'Ree Garlan'},\n",
              " {'age': 32, 'name': 'Kizzee Driscoll'},\n",
              " {'age': 40, 'name': 'Cathie Sapienza'},\n",
              " {'age': 35, 'name': 'Reyna Marchall'},\n",
              " {'age': 33, 'name': 'Etta Sisak'},\n",
              " {'age': 31, 'name': 'Allx Clardy'},\n",
              " {'age': 36, 'name': 'Nikoletta Dysart'},\n",
              " {'age': 37, 'name': 'Bunnie Nonna'},\n",
              " {'age': 38, 'name': 'Annadiane Leann'},\n",
              " {'age': 38, 'name': 'Brenda Mulry'},\n",
              " {'age': 35, 'name': 'Corette Crotty'},\n",
              " {'age': 38, 'name': 'Goldia Fulviah'},\n",
              " {'age': 31, 'name': 'Frances Lyns'},\n",
              " {'age': 30, 'name': 'Gabi Chor'},\n",
              " {'age': 37, 'name': 'Juliette Jemmie'},\n",
              " {'age': 35, 'name': 'Louise Busby'},\n",
              " {'age': 38, 'name': 'Jannelle Kaia'},\n",
              " {'age': 33, 'name': 'Antoinette Okubo'},\n",
              " {'age': 31, 'name': 'Kaycee Pate'},\n",
              " {'age': 37, 'name': 'Celestyn Naldo'},\n",
              " {'age': 33, 'name': 'Violante Attlee'},\n",
              " {'age': 38, 'name': 'Agnola Peder'},\n",
              " {'age': 31, 'name': 'Denys Baryram'},\n",
              " {'age': 34, 'name': 'Karole Trenna'},\n",
              " {'age': 38, 'name': 'Sigrid Sidwel'},\n",
              " {'age': 34, 'name': 'Lacee Lissner'},\n",
              " {'age': 32, 'name': 'Ros Bartie'},\n",
              " {'age': 35, 'name': 'Cindra Darrill'},\n",
              " {'age': 31, 'name': 'Marrilee Ronald'},\n",
              " {'age': 40, 'name': 'Jenni Solley'},\n",
              " {'age': 30, 'name': 'Cinda Zacek'},\n",
              " {'age': 30, 'name': 'Julia Brownley'},\n",
              " {'age': 35, 'name': 'Gennie Erving'},\n",
              " {'age': 32, 'name': 'Ermina Faline'},\n",
              " {'age': 34, 'name': 'Cal Edwyna'},\n",
              " {'age': 32, 'name': 'Sybyl Sibby'},\n",
              " {'age': 33, 'name': 'Winni Pavia'},\n",
              " {'age': 31, 'name': 'Zia Atkinson'},\n",
              " {'age': 31, 'name': 'Sibel Paryavi'},\n",
              " {'age': 30, 'name': 'Greta Reilly'},\n",
              " {'age': 35, 'name': 'Marysa Waylen'},\n",
              " {'age': 40, 'name': 'Brynne Henden'},\n",
              " {'age': 36, 'name': 'Aurel Felise'},\n",
              " {'age': 33, 'name': 'Jorey Hoppe'},\n",
              " {'age': 31, 'name': 'Janessa Johppah'},\n",
              " {'age': 37, 'name': 'Jess Fotinas'},\n",
              " {'age': 31, 'name': 'Jonis Willis'},\n",
              " {'age': 34, 'name': 'Doro Khudari'},\n",
              " {'age': 40, 'name': 'Nichol Cecilius'},\n",
              " {'age': 31, 'name': 'Ivonne Dehnel'},\n",
              " {'age': 34, 'name': 'Zorine Romola'},\n",
              " {'age': 33, 'name': 'Brandais Leo'},\n",
              " {'age': 33, 'name': 'Denna Rica'},\n",
              " {'age': 39, 'name': 'Kirsteni Iaverne'},\n",
              " {'age': 34, 'name': 'Olva Sissie'},\n",
              " {'age': 35, 'name': 'Annetta Shepp'},\n",
              " {'age': 38, 'name': 'Colline Moyers'},\n",
              " {'age': 32, 'name': 'Devinne Edeline'},\n",
              " {'age': 35, 'name': 'Carlin Laurie'},\n",
              " {'age': 36, 'name': 'Janey Berkow'},\n",
              " {'age': 31, 'name': 'Koo Flemming'},\n",
              " {'age': 36, 'name': 'Eydie Aleksandr'},\n",
              " {'age': 37, 'name': 'Jackquelin Merrilee'},\n",
              " {'age': 36, 'name': 'Amandi Bigford'},\n",
              " {'age': 30, 'name': 'Kaleena Sheelah'},\n",
              " {'age': 34, 'name': 'Hilda Sneed'},\n",
              " {'age': 37, 'name': 'Muire Binetta'},\n",
              " {'age': 31, 'name': 'Bridget Cooperman'},\n",
              " {'age': 38, 'name': 'Alfi Iorgos'},\n",
              " {'age': 39, 'name': 'Joice Evangelina'},\n",
              " {'age': 31, 'name': 'Caritta Tristan'},\n",
              " {'age': 38, 'name': 'Gweneth Craven'},\n",
              " {'age': 34, 'name': 'Susanna Marguerite'},\n",
              " {'age': 39, 'name': 'Glori Rubinstein'},\n",
              " {'age': 36, 'name': 'Ulrike Saffren'},\n",
              " {'age': 39, 'name': 'Blisse LaMori'},\n",
              " {'age': 39, 'name': 'Rochella Pilloff'},\n",
              " {'age': 31, 'name': 'Kanya Faro'},\n",
              " {'age': 35, 'name': 'Lorine Vanthe'},\n",
              " {'age': 35, 'name': 'Henrietta Veal'},\n",
              " {'age': 40, 'name': 'Hermina Fregger'},\n",
              " {'age': 31, 'name': 'Dita Griselda'},\n",
              " {'age': 37, 'name': 'Hedda Bainter'},\n",
              " {'age': 37, 'name': 'Janaye Whallon'},\n",
              " {'age': 40, 'name': 'Florance Glynas'},\n",
              " {'age': 37, 'name': 'Carmelle Duff'},\n",
              " {'age': 33, 'name': 'Martguerita Athene'},\n",
              " {'age': 32, 'name': 'Tommi Petulia'},\n",
              " {'age': 34, 'name': 'Ailsun Miko'},\n",
              " {'age': 32, 'name': 'Benny Lesli'},\n",
              " {'age': 40, 'name': 'Bellina Hillard'},\n",
              " {'age': 36, 'name': 'Marya Adler'},\n",
              " {'age': 31, 'name': 'Carin Icken'},\n",
              " {'age': 33, 'name': 'Morna Ellita'},\n",
              " {'age': 33, 'name': 'Christiana Kristof'},\n",
              " {'age': 30, 'name': 'Tonye Onia'},\n",
              " {'age': 31, 'name': 'Abby Barbuto'},\n",
              " {'age': 39, 'name': 'Jaquelyn Jacey'},\n",
              " {'age': 38, 'name': 'Aggy Rauch'},\n",
              " {'age': 32, 'name': 'Riane Mazonson'},\n",
              " {'age': 39, 'name': 'Lanni Grous'},\n",
              " {'age': 37, 'name': 'Paulette Rem'},\n",
              " {'age': 40, 'name': 'Tomasine Christianson'},\n",
              " {'age': 31, 'name': 'Kalindi Eada'},\n",
              " {'age': 34, 'name': 'Ruthe Wivestad'},\n",
              " {'age': 37, 'name': 'Anni Rosmunda'},\n",
              " {'age': 33, 'name': 'Ruthann Jacinthe'},\n",
              " {'age': 32, 'name': 'Marilee Flanigan'},\n",
              " {'age': 33, 'name': 'Shoshanna Nathaniel'},\n",
              " {'age': 30, 'name': 'Rhiamon Clarine'},\n",
              " {'age': 36, 'name': 'George Davina'},\n",
              " {'age': 31, 'name': 'Kari Luisa'},\n",
              " {'age': 35, 'name': 'Julita Bajaj'},\n",
              " {'age': 38, 'name': 'Issy Kezer'},\n",
              " {'age': 35, 'name': 'Bevvy Su'},\n",
              " {'age': 37, 'name': 'Marchelle Crista'},\n",
              " {'age': 33, 'name': 'Julina Scarito'},\n",
              " {'age': 30, 'name': 'Lyndsay Charlotta'},\n",
              " {'age': 30, 'name': 'Seana Flavio'},\n",
              " {'age': 35, 'name': 'Kristen Mohandis'},\n",
              " {'age': 32, 'name': 'Cinderella Sheepshanks'},\n",
              " {'age': 32, 'name': 'Eugenie Horn'},\n",
              " {'age': 35, 'name': 'Adiana Veedis'},\n",
              " {'age': 36, 'name': 'Adria Tidwell'},\n",
              " {'age': 34, 'name': 'TEirtza Nashom'},\n",
              " {'age': 34, 'name': 'Marylynne Iverson'},\n",
              " {'age': 30, 'name': 'Debbie Mellman'},\n",
              " {'age': 35, 'name': 'Janaye Christophe'},\n",
              " {'age': 35, 'name': 'Gleda Romy'},\n",
              " {'age': 39, 'name': 'Wendie Laverne'},\n",
              " {'age': 38, 'name': 'Meara Gowrie'},\n",
              " {'age': 34, 'name': 'Rhianon Emyle'},\n",
              " {'age': 33, 'name': 'Jacintha Patt'},\n",
              " {'age': 39, 'name': 'Vallie Hazlett'},\n",
              " {'age': 38, 'name': 'Ann-Marie Zipah'},\n",
              " {'age': 38, 'name': 'Ranice Lewin'},\n",
              " {'age': 37, 'name': 'Josi Gustave'},\n",
              " {'age': 36, 'name': 'Peggy Nesta'},\n",
              " {'age': 40, 'name': 'Cindy Sheeran'},\n",
              " {'age': 30, 'name': 'Klarrisa Erasmus'},\n",
              " {'age': 40, 'name': 'Betsey Ernestus'},\n",
              " {'age': 34, 'name': 'Giselle Munro'},\n",
              " {'age': 39, 'name': 'Corrie Medea'},\n",
              " {'age': 38, 'name': 'Inesita Lemuela'},\n",
              " {'age': 37, 'name': 'Rubina Dorsman'},\n",
              " {'age': 31, 'name': 'Daffie Southard'},\n",
              " {'age': 38, 'name': 'Hildegarde Estren'},\n",
              " {'age': 36, 'name': 'Margarethe Hogle'},\n",
              " {'age': 35, 'name': 'Edin Art'},\n",
              " {'age': 32, 'name': 'Aubrette Ardyce'},\n",
              " {'age': 38, 'name': 'Gnni Sidra'},\n",
              " {'age': 37, 'name': 'Winni Volny'},\n",
              " {'age': 40, 'name': 'Felice Dalury'},\n",
              " {'age': 36, 'name': 'Ardeen Grishilde'},\n",
              " {'age': 37, 'name': 'Fawne Betthezel'},\n",
              " {'age': 40, 'name': 'Jane Laurita'},\n",
              " {'age': 37, 'name': 'Charlot Burl'},\n",
              " {'age': 39, 'name': 'Leticia Trever'},\n",
              " {'age': 35, 'name': 'Adore Cassell'},\n",
              " {'age': 39, 'name': 'Karlie Hanae'}]"
            ]
          },
          "metadata": {}
        }
      ],
      "source": [
        "# Write your code her\n",
        "filtered_data = [person for person in data if 30 <= person['age'] <= 40]\n",
        "display(filtered_data)"
      ]
    },
    {
      "cell_type": "markdown",
      "metadata": {
        "id": "mh-3UW2RuliL"
      },
      "source": [
        "3) write the resulting sample of people and their data into a json file that can be loaded with *json.load()*, name it __session6_people_age30-40.json__"
      ]
    },
    {
      "cell_type": "code",
      "execution_count": 180,
      "metadata": {
        "id": "iilX-khNuliL"
      },
      "outputs": [],
      "source": [
        "# Write your code here\n",
        "with open('session6_people_age30-40.json', 'w') as f:\n",
        "  json.dump(filtered_data, f)\n"
      ]
    },
    {
      "cell_type": "markdown",
      "metadata": {
        "id": "qohnp5pguliL"
      },
      "source": [
        "# 6.5 XML file handling\n",
        "In this exercise you will be undertaking a series of tasks with a single XML tree.  \n",
        "You can accomplish all of them with coding solutions you've learnt in this module so far.  \n",
        "However using xpath, which hasn't been covered extensively, might produce shorter and faster solutions.  \n",
        "https://docs.python.org/3/library/xml.etree.elementtree.html#xpath-support"
      ]
    },
    {
      "cell_type": "code",
      "execution_count": 181,
      "metadata": {
        "id": "TfSlv1DSuliL"
      },
      "outputs": [],
      "source": [
        "# Execute this cell to have access to the ElementTree module\n",
        "import xml.etree.ElementTree as ET"
      ]
    },
    {
      "cell_type": "markdown",
      "metadata": {
        "id": "LsFCX0b8uliL"
      },
      "source": [
        "#### Loading an XML into memory\n",
        "The file __surveydata.xml__ contains a subsample of data from here: https://www.reddit.com/r/TheSilphRoad/comments/6n4ttu/survey_results_pokemon_go_1_year_later/\n",
        "and it is in an xml format.\n",
        "\n",
        "Your first task is to load the document into a variable called __tree__ and extract the root element into a variable called __root__"
      ]
    },
    {
      "cell_type": "code",
      "execution_count": 182,
      "metadata": {
        "id": "6CX51NMHuliM"
      },
      "outputs": [],
      "source": [
        "# Write your code here\n",
        "tree = ET.parse('surveydata.xml')\n",
        "root = tree.getroot()"
      ]
    },
    {
      "cell_type": "markdown",
      "metadata": {
        "id": "4dwir4E5uliM"
      },
      "source": [
        "Each entry has an element indicating the month when the participant started playing.\n",
        "Find out if there are any months *missing*, as in are there any months that no players started playing?\n",
        "Print the months presented in the data and only print each month once."
      ]
    },
    {
      "cell_type": "code",
      "execution_count": 186,
      "metadata": {
        "colab": {
          "base_uri": "https://localhost:8080/"
        },
        "id": "gyPlwEIVuliM",
        "outputId": "f28bff56-bac4-4bfd-8955-07e4447ff516"
      },
      "outputs": [
        {
          "output_type": "stream",
          "name": "stdout",
          "text": [
            "{'September', 'February', 'June', 'March', 'December', 'November', 'May', 'July', 'August', 'January'}\n"
          ]
        }
      ],
      "source": [
        "# Write your code here\n",
        "months = set()\n",
        "for child in root:\n",
        "  months.add(child.find('month').text)\n",
        "print((months))"
      ]
    },
    {
      "cell_type": "markdown",
      "metadata": {
        "id": "jXo4RaGyuliM"
      },
      "source": [
        "Now count how many players started in each month and print the results.\\\n",
        "The results for July for example should be:\\\n",
        "July 311"
      ]
    },
    {
      "cell_type": "code",
      "execution_count": 199,
      "metadata": {
        "colab": {
          "base_uri": "https://localhost:8080/"
        },
        "id": "nI2KEEPCuliM",
        "outputId": "8def4b0b-1c7c-4c9a-e25a-4bd6c9db94d2"
      },
      "outputs": [
        {
          "output_type": "stream",
          "name": "stdout",
          "text": [
            "June 14\n",
            "July 311\n",
            "August 23\n",
            "September 6\n",
            "November 3\n",
            "December 6\n",
            "January 1\n",
            "February 1\n",
            "March 1\n",
            "May 92\n"
          ]
        }
      ],
      "source": [
        "# Write your code here\n",
        "players_months = {}\n",
        "for child in root:\n",
        "\n",
        "  if child.find('month').text not in players_months:\n",
        "    players_months[child.find('month').text] = 1\n",
        "  else:\n",
        "    players_months[child.find('month').text] += 1\n",
        "\n",
        "\n",
        "for month, count in players_months.items():\n",
        "  print(f'{month} {count}')"
      ]
    },
    {
      "cell_type": "markdown",
      "metadata": {
        "id": "jJNRsXbPuliM"
      },
      "source": [
        "Now, for each participant find out how many Pokemons they have caught per km travelled and add that to each participants data as an element with the tag __efficiency__.  \n",
        "Round the resulting number to 2 decimal places\n"
      ]
    },
    {
      "cell_type": "code",
      "execution_count": 215,
      "metadata": {
        "id": "2JQ5xUZNuliM"
      },
      "outputs": [],
      "source": [
        "# Write your code here\n",
        "for child in root:\n",
        "  caught = int(child.find('caught').text)\n",
        "  km = f\"{float(child.find('km').text):.2f}\"\n",
        "  efficiency = f\"{caught/float(km):.2f}\"\n",
        "  efficiency_element = ET.SubElement(child, 'efficiency')\n",
        "  efficiency_element.text = efficiency\n",
        "  child.append(efficiency_element)\n",
        "  # child.set('efficiency', efficiency)\n"
      ]
    },
    {
      "cell_type": "markdown",
      "metadata": {
        "id": "YR-18fJGuliM"
      },
      "source": [
        "Write the resulting xml tree to a file called __survey_added.xml__  \n",
        "The first entry of the xml should then be like the following (don't worry about formatting)\n",
        "```xml\n",
        "<participant id=\"1\">\n",
        "   <month>June</month>\n",
        "   <os>Android</os>\n",
        "   <team>Mystic (Blue)</team>\n",
        "   <level>25</level>\n",
        "   <caught>1000</caught>\n",
        "   <km>202</km>\n",
        "   <efficiency>4.95</efficiency>\n",
        "</participant>\n",
        "```"
      ]
    },
    {
      "cell_type": "code",
      "execution_count": 217,
      "metadata": {
        "id": "YmOznxZquliM"
      },
      "outputs": [],
      "source": [
        "# Write your code here\n",
        "tree.write('survey_added.xml')\n",
        "# print(ET.tostring(root[0], encoding='utf8').decode('utf8'))"
      ]
    },
    {
      "cell_type": "code",
      "source": [
        "tree = ET.parse('survey_added.xml')\n",
        "root = tree.getroot()\n",
        "print(ET.tostring(root[0], encoding='utf8').decode('utf8'))"
      ],
      "metadata": {
        "colab": {
          "base_uri": "https://localhost:8080/"
        },
        "id": "r7Ema05zKBW6",
        "outputId": "435e7a0c-e434-4e03-8ee0-30286bf1dc8c"
      },
      "execution_count": 218,
      "outputs": [
        {
          "output_type": "stream",
          "name": "stdout",
          "text": [
            "<?xml version='1.0' encoding='utf8'?>\n",
            "<participant id=\"1\" efficiency=\"4.95\">\n",
            "      <month>June</month>\n",
            "      <os>Android</os>\n",
            "      <team>Mystic (Blue)</team>\n",
            "      <level>25</level>\n",
            "      <caught>1000</caught>\n",
            "      <km>202</km>\n",
            "   <efficiency>4.95</efficiency><efficiency>4.95</efficiency><efficiency>4.95</efficiency><efficiency>4.95</efficiency><efficiency>4.95</efficiency><efficiency>4.95</efficiency></participant>\n",
            "   \n"
          ]
        }
      ]
    },
    {
      "cell_type": "markdown",
      "metadata": {
        "id": "tBwb-HCCuliM"
      },
      "source": [
        "# 6.6 Remote data"
      ]
    },
    {
      "cell_type": "code",
      "execution_count": 219,
      "metadata": {
        "id": "mfDtnS8XuliM"
      },
      "outputs": [],
      "source": [
        "# Execute this cell to have access to the necessary modules\n",
        "import requests\n",
        "import json"
      ]
    },
    {
      "cell_type": "markdown",
      "metadata": {
        "id": "iDzTrk5xuliM"
      },
      "source": [
        "For this exercise we are going to use a free REST api that provides foreign exchange reference rates.  \n",
        "The documenation for it can be found here: https://www.frankfurter.app/docs/\n",
        "\n",
        "Get the exchange rate from GBP to USD over the period 1st January 2020 to today and save it in a variable calle __ratedata__  \n",
        "You are provided with the url but you will have to replace *add today's date here* with the actual date\n",
        "\n",
        "*tip: read the documentation to find out how to get what you want from the API"
      ]
    },
    {
      "cell_type": "code",
      "execution_count": 220,
      "metadata": {
        "colab": {
          "base_uri": "https://localhost:8080/"
        },
        "id": "aTndRNB4uliM",
        "outputId": "ff73a2a3-6a45-41eb-e295-3af37397fca7"
      },
      "outputs": [
        {
          "output_type": "stream",
          "name": "stdout",
          "text": [
            "{'amount': 1.0, 'base': 'EUR', 'start_date': '2019-12-30', 'end_date': '2024-11-04', 'rates': {'2019-12-30': {'AUD': 1.6018, 'BGN': 1.9558, 'BRL': 4.507, 'CAD': 1.451, 'CHF': 1.0852, 'CNY': 7.7829, 'CZK': 25.386, 'DKK': 7.4725, 'GBP': 0.84972, 'HKD': 8.6958, 'HRK': 7.4454, 'HUF': 330.26, 'IDR': 15539, 'ILS': 3.8728, 'INR': 79.958, 'ISK': 136.9, 'JPY': 121.14, 'KRW': 1299.28, 'MXN': 21.141, 'MYR': 4.5744, 'NOK': 9.8362, 'NZD': 1.6718, 'PHP': 56.904, 'PLN': 4.2518, 'RON': 4.7806, 'RUB': 69.154, 'SEK': 10.4793, 'SGD': 1.5066, 'THB': 33.678, 'TRY': 6.6643, 'USD': 1.117, 'ZAR': 15.8359}, '2020-01-06': {'AUD': 1.6178, 'BGN': 1.9558, 'BRL': 4.5312, 'CAD': 1.4504, 'CHF': 1.0824, 'CNY': 7.7316, 'CZK': 25.272, 'DKK': 7.4731, 'GBP': 0.85072, 'HKD': 8.6538, 'HRK': 7.4465, 'HUF': 331.68, 'IDR': 15440, 'ILS': 3.8643, 'INR': 79.669, 'ISK': 137.2, 'JPY': 121.23, 'KRW': 1296.59, 'MXN': 20.972, 'MYR': 4.5582, 'NOK': 9.8591, 'NZD': 1.6785, 'PHP': 56.549, 'PLN': 4.2437, 'RON': 4.7775, 'RUB': 68.684, 'SEK': 10.5336, 'SGD': 1.5038, 'THB': 33.698, 'TRY': 6.6069, 'USD': 1.1136, 'ZAR': 15.8655}, '2020-01-13': {'AUD': 1.613, 'BGN': 1.9558, 'BRL': 4.6229, 'CAD': 1.4533, 'CHF': 1.0761, 'CNY': 7.66, 'CZK': 25.169, 'DKK': 7.473, 'GBP': 0.85527, 'HKD': 8.6529, 'HRK': 7.4427, 'HUF': 333.89, 'IDR': 15227, 'ILS': 3.8531, 'INR': 78.922, 'ISK': 137.08, 'JPY': 122.42, 'KRW': 1289.06, 'MXN': 20.925, 'MYR': 4.5263, 'NOK': 9.8929, 'NZD': 1.6806, 'PHP': 56.447, 'PLN': 4.2305, 'RON': 4.7795, 'RUB': 68.366, 'SEK': 10.5513, 'SGD': 1.4993, 'THB': 33.72, 'TRY': 6.5387, 'USD': 1.1132, 'ZAR': 16.045}, '2020-01-20': {'AUD': 1.6158, 'BGN': 1.9558, 'BRL': 4.6369, 'CAD': 1.4511, 'CHF': 1.0737, 'CNY': 7.6556, 'CZK': 25.129, 'DKK': 7.4728, 'GBP': 0.84712, 'HKD': 8.6123, 'HRK': 7.4392, 'HUF': 336.1, 'IDR': 15120, 'ILS': 3.8289, 'INR': 78.91, 'ISK': 137.68, 'JPY': 121.77, 'KRW': 1291.81, 'MXN': 20.745, 'MYR': 4.507, 'NOK': 9.9364, 'NZD': 1.6774, 'PHP': 56.457, 'PLN': 4.2451, 'RON': 4.779, 'RUB': 68.486, 'SEK': 10.5487, 'SGD': 1.4954, 'THB': 33.746, 'TRY': 6.5705, 'USD': 1.1083, 'ZAR': 15.9956}, '2020-01-27': {'AUD': 1.6357, 'BGN': 1.9558, 'BRL': 4.6549, 'CAD': 1.4551, 'CHF': 1.0701, 'CNY': 7.6459, 'CZK': 25.224, 'DKK': 7.4729, 'GBP': 0.8438, 'HKD': 8.5669, 'HRK': 7.4422, 'HUF': 337.5, 'IDR': 15037, 'ILS': 3.8081, 'INR': 78.706, 'ISK': 136.54, 'JPY': 120.11, 'KRW': 1305.76, 'MXN': 20.743, 'MYR': 4.5012, 'NOK': 10.1063, 'NZD': 1.6916, 'PHP': 56.104, 'PLN': 4.2833, 'RON': 4.7784, 'RUB': 69.386, 'SEK': 10.6141, 'SGD': 1.5001, 'THB': 34.15, 'TRY': 6.5737, 'USD': 1.1022, 'ZAR': 16.1994}, '2020-02-03': {'AUD': 1.6392, 'BGN': 1.9558, 'BRL': 4.6824, 'CAD': 1.4635, 'CHF': 1.0702, 'CNY': 7.7045, 'CZK': 25.06, 'DKK': 7.4727, 'GBP': 0.84731, 'HKD': 8.558, 'HRK': 7.4533, 'HUF': 336.94, 'IDR': 15091, 'ILS': 3.792, 'INR': 78.559, 'ISK': 137.86, 'JPY': 120.59, 'KRW': 1308.88, 'MXN': 20.599, 'MYR': 4.5419, 'NOK': 10.1734, 'NZD': 1.706, 'PHP': 55.998, 'PLN': 4.2663, 'RON': 4.7711, 'RUB': 69.796, 'SEK': 10.5908, 'SGD': 1.5193, 'THB': 34.241, 'TRY': 6.5969, 'USD': 1.1022, 'ZAR': 16.3509}, '2020-02-10': {'AUD': 1.6219, 'BGN': 1.9558, 'BRL': 4.712, 'CAD': 1.4462, 'CHF': 1.0657, 'CNY': 7.6043, 'CZK': 24.906, 'DKK': 7.4719, 'GBP': 0.83919, 'HKD': 8.4619, 'HRK': 7.4544, 'HUF': 337.52, 'IDR': 14926, 'ILS': 3.7283, 'INR': 77.71, 'ISK': 137.78, 'JPY': 119.65, 'KRW': 1289.96, 'MXN': 20.326, 'MYR': 4.5103, 'NOK': 10.0652, 'NZD': 1.6939, 'PHP': 55.115, 'PLN': 4.2556, 'RON': 4.767, 'RUB': 69.223, 'SEK': 10.5195, 'SGD': 1.5129, 'THB': 33.999, 'TRY': 6.5835, 'USD': 1.0895, 'ZAR': 16.2167}, '2020-02-17': {'AUD': 1.6225, 'BGN': 1.9558, 'BRL': 4.7165, 'CAD': 1.4317, 'CHF': 1.0621, 'CNY': 7.5729, 'CZK': 24.95, 'DKK': 7.4696, 'GBP': 0.83344, 'HKD': 8.4037, 'HRK': 7.4469, 'HUF': 336.18, 'IDR': 14803, 'ILS': 3.702, 'INR': 77.399, 'ISK': 137.98, 'JPY': 119.78, 'KRW': 1293.49, 'MXN': 20.208, 'MYR': 4.5045, 'NOK': 10.0552, 'NZD': 1.6964, 'PHP': 54.776, 'PLN': 4.2748, 'RON': 4.788, 'RUB': 68.94, 'SEK': 10.5648, 'SGD': 1.5076, 'THB': 33.867, 'TRY': 6.5746, 'USD': 1.0808, 'ZAR': 16.2449}, '2020-02-24': {'AUD': 1.6588, 'BGN': 1.9558, 'BRL': 4.8198, 'CAD': 1.4527, 'CHF': 1.061, 'CNY': 7.639, 'CZK': 25.286, 'DKK': 7.4712, 'GBP': 0.84385, 'HKD': 8.4903, 'HRK': 7.4628, 'HUF': 338.05, 'IDR': 15311, 'ILS': 3.7504, 'INR': 78.259, 'ISK': 139.3, 'JPY': 120.08, 'KRW': 1322.0, 'MXN': 21.009, 'MYR': 4.5999, 'NOK': 10.2369, 'NZD': 1.7292, 'PHP': 55.588, 'PLN': 4.3096, 'RON': 4.8088, 'RUB': 71.683, 'SEK': 10.5965, 'SGD': 1.5229, 'THB': 34.545, 'TRY': 6.7231, 'USD': 1.0895, 'ZAR': 16.6435}, '2020-03-02': {'AUD': 1.6945, 'BGN': 1.9558, 'BRL': 5.0869, 'CAD': 1.4962, 'CHF': 1.064, 'CNY': 7.7629, 'CZK': 25.429, 'DKK': 7.4719, 'GBP': 0.86962, 'HKD': 8.6892, 'HRK': 7.4895, 'HUF': 335.95, 'IDR': 15980, 'ILS': 3.8827, 'INR': 81.92, 'ISK': 142.4, 'JPY': 119.58, 'KRW': 1329.41, 'MXN': 22.027, 'MYR': 4.6765, 'NOK': 10.3823, 'NZD': 1.7747, 'PHP': 56.719, 'PLN': 4.3096, 'RON': 4.8097, 'RUB': 74.719, 'SEK': 10.5854, 'SGD': 1.5491, 'THB': 35.166, 'TRY': 6.8591, 'USD': 1.1177, 'ZAR': 17.3698}, '2020-03-09': {'AUD': 1.7491, 'BGN': 1.9558, 'BRL': 5.3532, 'CAD': 1.5537, 'CHF': 1.0587, 'CNY': 7.8821, 'CZK': 25.849, 'DKK': 7.4719, 'GBP': 0.8803, 'HKD': 8.7866, 'HRK': 7.566, 'HUF': 337.03, 'IDR': 16375, 'ILS': 4.0503, 'INR': 83.59, 'ISK': 146.93, 'JPY': 118.05, 'KRW': 1356.14, 'MXN': 24.138, 'MYR': 4.8005, 'NOK': 11.0108, 'NZD': 1.8054, 'PHP': 57.406, 'PLN': 4.3348, 'RON': 4.8198, 'RUB': 82.58, 'SEK': 10.7971, 'SGD': 1.5772, 'THB': 35.661, 'TRY': 7.0067, 'USD': 1.1305, 'ZAR': 18.2055}, '2020-03-16': {'AUD': 1.8383, 'BGN': 1.9558, 'BRL': 5.5354, 'CAD': 1.5536, 'CHF': 1.0547, 'CNY': 7.7028, 'CZK': 27.179, 'DKK': 7.4723, 'GBP': 0.91589, 'HKD': 8.4756, 'HRK': 7.5944, 'HUF': 350.07, 'IDR': 16914, 'ILS': 4.0869, 'INR': 81.42, 'ISK': 152.24, 'JPY': 118.01, 'KRW': 1363.23, 'MXN': 25.736, 'MYR': 4.768, 'NOK': 11.8244, 'NZD': 1.8614, 'PHP': 56.223, 'PLN': 4.4925, 'RON': 4.8432, 'RUB': 85.01, 'SEK': 11.0187, 'SGD': 1.5695, 'THB': 35.355, 'TRY': 7.0755, 'USD': 1.0916, 'ZAR': 18.5088}, '2020-03-23': {'AUD': 1.8253, 'BGN': 1.9558, 'BRL': 5.5083, 'CAD': 1.555, 'CHF': 1.0596, 'CNY': 7.7069, 'CZK': 27.548, 'DKK': 7.4664, 'GBP': 0.91533, 'HKD': 8.4378, 'HRK': 7.6103, 'HUF': 354.2, 'IDR': 17685, 'ILS': 3.9472, 'INR': 82.52, 'ISK': 152.52, 'JPY': 119.86, 'KRW': 1343.87, 'MXN': 26.404, 'MYR': 4.7737, 'NOK': 11.8378, 'NZD': 1.8634, 'PHP': 55.631, 'PLN': 4.5815, 'RON': 4.8399, 'RUB': 85.55, 'SEK': 11.0294, 'SGD': 1.5722, 'THB': 35.613, 'TRY': 7.0428, 'USD': 1.0882, 'ZAR': 19.0854}, '2020-03-30': {'AUD': 1.8003, 'BGN': 1.9558, 'BRL': 5.6955, 'CAD': 1.5519, 'CHF': 1.0564, 'CNY': 7.7527, 'CZK': 27.418, 'DKK': 7.4667, 'GBP': 0.88318, 'HKD': 8.4691, 'HRK': 7.6282, 'HUF': 363.4, 'IDR': 18056, 'ILS': 3.9324, 'INR': 83.11, 'ISK': 155.4, 'JPY': 117.99, 'KRW': 1342.35, 'MXN': 26.376, 'MYR': 4.7464, 'NOK': 11.3929, 'NZD': 1.8434, 'PHP': 55.612, 'PLN': 4.5658, 'RON': 4.8306, 'RUB': 85.84, 'SEK': 10.9828, 'SGD': 1.5632, 'THB': 35.936, 'TRY': 7.2485, 'USD': 1.0923, 'ZAR': 19.8882}, '2020-04-06': {'AUD': 1.7602, 'BGN': 1.9558, 'BRL': 5.6608, 'CAD': 1.5259, 'CHF': 1.0564, 'CNY': 7.6712, 'CZK': 27.228, 'DKK': 7.4658, 'GBP': 0.87852, 'HKD': 8.4142, 'HRK': 7.6246, 'HUF': 359.24, 'IDR': 17538, 'ILS': 3.9074, 'INR': 82.54, 'ISK': 155.62, 'JPY': 118.2, 'KRW': 1323.07, 'MXN': 26.469, 'MYR': 4.7194, 'NOK': 11.2226, 'NZD': 1.817, 'PHP': 54.874, 'PLN': 4.5507, 'RON': 4.8336, 'RUB': 81.96, 'SEK': 10.9354, 'SGD': 1.5494, 'THB': 35.6, 'TRY': 7.3432, 'USD': 1.0854, 'ZAR': 19.9345}, '2020-04-13': {'AUD': 1.7198, 'BGN': 1.9558, 'BRL': 5.6872, 'CAD': 1.5306, 'CHF': 1.0527, 'CNY': 7.7044, 'CZK': 27.018, 'DKK': 7.462, 'GBP': 0.87195, 'HKD': 8.4512, 'HRK': 7.5989, 'HUF': 350.59, 'IDR': 17112, 'ILS': 3.919, 'INR': 83.42, 'ISK': 156.25, 'JPY': 117.19, 'KRW': 1329.78, 'MXN': 26.079, 'MYR': 4.7484, 'NOK': 11.3653, 'NZD': 1.8121, 'PHP': 55.368, 'PLN': 4.5332, 'RON': 4.8362, 'RUB': 80.65, 'SEK': 10.8981, 'SGD': 1.551, 'THB': 35.595, 'TRY': 7.5013, 'USD': 1.0904, 'ZAR': 20.26}, '2020-04-20': {'AUD': 1.7082, 'BGN': 1.9558, 'BRL': 5.8348, 'CAD': 1.5298, 'CHF': 1.0519, 'CNY': 7.6677, 'CZK': 27.434, 'DKK': 7.4582, 'GBP': 0.87616, 'HKD': 8.3914, 'HRK': 7.5635, 'HUF': 355.48, 'IDR': 16891, 'ILS': 3.8399, 'INR': 82.8, 'ISK': 158.1, 'JPY': 116.5, 'KRW': 1331.58, 'MXN': 26.414, 'MYR': 4.7327, 'NOK': 11.4853, 'NZD': 1.8056, 'PHP': 54.956, 'PLN': 4.5315, 'RON': 4.8397, 'RUB': 81.69, 'SEK': 10.9039, 'SGD': 1.544, 'THB': 35.115, 'TRY': 7.5408, 'USD': 1.0827, 'ZAR': 20.484}, '2020-04-27': {'AUD': 1.6696, 'BGN': 1.9558, 'BRL': 5.9804, 'CAD': 1.516, 'CHF': 1.0568, 'CNY': 7.6806, 'CZK': 27.158, 'DKK': 7.4579, 'GBP': 0.87156, 'HKD': 8.4184, 'HRK': 7.5639, 'HUF': 354.7, 'IDR': 16550, 'ILS': 3.8079, 'INR': 82.19, 'ISK': 159.28, 'JPY': 115.92, 'KRW': 1322.32, 'MXN': 26.375, 'MYR': 4.7151, 'NOK': 11.2966, 'NZD': 1.7846, 'PHP': 54.888, 'PLN': 4.5383, 'RON': 4.842, 'RUB': 80.22, 'SEK': 10.7551, 'SGD': 1.5366, 'THB': 35.22, 'TRY': 7.5909, 'USD': 1.0862, 'ZAR': 20.086}, '2020-05-04': {'AUD': 1.6842, 'BGN': 1.9558, 'BRL': 6.132, 'CAD': 1.5222, 'CHF': 1.0532, 'CNY': 7.6741, 'CZK': 27.099, 'DKK': 7.4611, 'GBP': 0.87445, 'HKD': 8.4058, 'HRK': 7.5697, 'HUF': 350.37, 'IDR': 16321, 'ILS': 3.812, 'INR': 82.13, 'ISK': 159.14, 'JPY': 115.49, 'KRW': 1326.18, 'MXN': 26.158, 'MYR': 4.6848, 'NOK': 11.1402, 'NZD': 1.7864, 'PHP': 54.808, 'PLN': 4.5465, 'RON': 4.8275, 'RUB': 80.6, 'SEK': 10.6689, 'SGD': 1.5364, 'THB': 35.091, 'TRY': 7.7204, 'USD': 1.0844, 'ZAR': 20.084}, '2020-05-11': {'AUD': 1.6726, 'BGN': 1.9558, 'BRL': 6.322, 'CAD': 1.5202, 'CHF': 1.0518, 'CNY': 7.6846, 'CZK': 27.518, 'DKK': 7.4575, 'GBP': 0.88225, 'HKD': 8.3935, 'HRK': 7.5686, 'HUF': 352.71, 'IDR': 16126, 'ILS': 3.8144, 'INR': 81.83, 'ISK': 158.3, 'JPY': 116.0, 'KRW': 1328.92, 'MXN': 26.024, 'MYR': 4.6951, 'NOK': 11.0305, 'NZD': 1.7949, 'PHP': 54.566, 'PLN': 4.5598, 'RON': 4.8346, 'RUB': 79.668, 'SEK': 10.6184, 'SGD': 1.5369, 'THB': 34.773, 'TRY': 7.5657, 'USD': 1.0829, 'ZAR': 19.9714}, '2020-05-18': {'AUD': 1.6709, 'BGN': 1.9558, 'BRL': 6.2221, 'CAD': 1.5249, 'CHF': 1.0591, 'CNY': 7.7728, 'CZK': 27.39, 'DKK': 7.4563, 'GBP': 0.8951, 'HKD': 8.4726, 'HRK': 7.5743, 'HUF': 350.47, 'IDR': 16167, 'ILS': 3.8487, 'INR': 82.73, 'ISK': 156.54, 'JPY': 117.59, 'KRW': 1345.49, 'MXN': 25.536, 'MYR': 4.7591, 'NOK': 10.9138, 'NZD': 1.7956, 'PHP': 55.423, 'PLN': 4.5411, 'RON': 4.8419, 'RUB': 78.559, 'SEK': 10.5606, 'SGD': 1.5505, 'THB': 34.854, 'TRY': 7.443, 'USD': 1.0929, 'ZAR': 19.7024}, '2020-05-25': {'AUD': 1.6617, 'BGN': 1.9558, 'BRL': 5.9237, 'CAD': 1.5201, 'CHF': 1.0655, 'CNY': 7.8613, 'CZK': 27.067, 'DKK': 7.4559, 'GBP': 0.89561, 'HKD': 8.5327, 'HRK': 7.587, 'HUF': 349.5, 'IDR': 16178, 'ILS': 3.864, 'INR': 83.31, 'ISK': 152.44, 'JPY': 118.39, 'KRW': 1361.17, 'MXN': 24.543, 'MYR': 4.7934, 'NOK': 10.8603, 'NZD': 1.7793, 'PHP': 55.686, 'PLN': 4.4529, 'RON': 4.8444, 'RUB': 78.104, 'SEK': 10.5402, 'SGD': 1.5605, 'THB': 35.093, 'TRY': 7.4816, 'USD': 1.1006, 'ZAR': 19.2231}, '2020-06-01': {'AUD': 1.6316, 'BGN': 1.9558, 'BRL': 5.8217, 'CAD': 1.5189, 'CHF': 1.0774, 'CNY': 7.9751, 'CZK': 26.675, 'DKK': 7.4552, 'GBP': 0.89391, 'HKD': 8.6906, 'HRK': 7.5781, 'HUF': 345.31, 'IDR': 15994, 'ILS': 3.8964, 'INR': 84.61, 'ISK': 150.08, 'JPY': 121.67, 'KRW': 1365.45, 'MXN': 24.459, 'MYR': 4.7985, 'NOK': 10.6583, 'NZD': 1.7588, 'PHP': 56.101, 'PLN': 4.4241, 'RON': 4.8402, 'RUB': 77.374, 'SEK': 10.4433, 'SGD': 1.5705, 'THB': 35.401, 'TRY': 7.5952, 'USD': 1.1213, 'ZAR': 19.1695}, '2020-06-08': {'AUD': 1.6302, 'BGN': 1.9558, 'BRL': 5.5944, 'CAD': 1.5242, 'CHF': 1.0757, 'CNY': 8.0081, 'CZK': 26.641, 'DKK': 7.4555, 'GBP': 0.89315, 'HKD': 8.7741, 'HRK': 7.5679, 'HUF': 344.63, 'IDR': 15943, 'ILS': 3.906, 'INR': 85.66, 'ISK': 150.74, 'JPY': 122.1, 'KRW': 1355.66, 'MXN': 24.917, 'MYR': 4.8254, 'NOK': 10.6216, 'NZD': 1.7421, 'PHP': 56.648, 'PLN': 4.4507, 'RON': 4.8352, 'RUB': 78.041, 'SEK': 10.4578, 'SGD': 1.5726, 'THB': 35.284, 'TRY': 7.7039, 'USD': 1.1321, 'ZAR': 19.0255}, '2020-06-15': {'AUD': 1.6342, 'BGN': 1.9558, 'BRL': 5.8797, 'CAD': 1.5259, 'CHF': 1.0678, 'CNY': 7.9672, 'CZK': 26.636, 'DKK': 7.4558, 'GBP': 0.898, 'HKD': 8.7151, 'HRK': 7.5527, 'HUF': 345.69, 'IDR': 15940, 'ILS': 3.8954, 'INR': 85.63, 'ISK': 153.0, 'JPY': 120.53, 'KRW': 1362.04, 'MXN': 25.179, 'MYR': 4.8088, 'NOK': 10.751, 'NZD': 1.7433, 'PHP': 56.405, 'PLN': 4.4451, 'RON': 4.8374, 'RUB': 78.268, 'SEK': 10.5369, 'SGD': 1.5664, 'THB': 34.987, 'TRY': 7.7055, 'USD': 1.1245, 'ZAR': 19.356}, '2020-06-22': {'AUD': 1.6308, 'BGN': 1.9558, 'BRL': 5.9457, 'CAD': 1.5282, 'CHF': 1.0661, 'CNY': 7.9514, 'CZK': 26.726, 'DKK': 7.4533, 'GBP': 0.90402, 'HKD': 8.715, 'HRK': 7.5737, 'HUF': 351.62, 'IDR': 15986, 'ILS': 3.8637, 'INR': 85.11, 'ISK': 155.92, 'JPY': 120.28, 'KRW': 1355.62, 'MXN': 25.435, 'MYR': 4.8122, 'NOK': 10.8177, 'NZD': 1.7437, 'PHP': 56.293, 'PLN': 4.4536, 'RON': 4.8428, 'RUB': 77.853, 'SEK': 10.5097, 'SGD': 1.5652, 'THB': 34.773, 'TRY': 7.7083, 'USD': 1.1245, 'ZAR': 19.4748}, '2020-06-29': {'AUD': 1.6298, 'BGN': 1.9558, 'BRL': 6.0625, 'CAD': 1.5305, 'CHF': 1.0642, 'CNY': 7.9456, 'CZK': 26.711, 'DKK': 7.4521, 'GBP': 0.90712, 'HKD': 8.7102, 'HRK': 7.5644, 'HUF': 354.3, 'IDR': 16178, 'ILS': 3.8748, 'INR': 84.52, 'ISK': 155.78, 'JPY': 120.79, 'KRW': 1349.38, 'MXN': 25.682, 'MYR': 4.8168, 'NOK': 10.7903, 'NZD': 1.7375, 'PHP': 55.899, 'PLN': 4.4647, 'RON': 4.8386, 'RUB': 79.577, 'SEK': 10.4809, 'SGD': 1.5673, 'THB': 34.83, 'TRY': 7.7043, 'USD': 1.1238, 'ZAR': 19.2867}, '2020-07-06': {'AUD': 1.6244, 'BGN': 1.9558, 'BRL': 6.0419, 'CAD': 1.5328, 'CHF': 1.0634, 'CNY': 7.9226, 'CZK': 26.689, 'DKK': 7.4503, 'GBP': 0.89961, 'HKD': 8.7607, 'HRK': 7.5439, 'HUF': 353.98, 'IDR': 16300, 'ILS': 3.898, 'INR': 84.69, 'ISK': 157.86, 'JPY': 121.39, 'KRW': 1351.5, 'MXN': 25.527, 'MYR': 4.8275, 'NOK': 10.6573, 'NZD': 1.724, 'PHP': 55.903, 'PLN': 4.4707, 'RON': 4.8402, 'RUB': 80.6, 'SEK': 10.4333, 'SGD': 1.5745, 'THB': 35.274, 'TRY': 7.7598, 'USD': 1.1304, 'ZAR': 19.1775}, '2020-07-13': {'AUD': 1.6317, 'BGN': 1.9558, 'BRL': 6.0865, 'CAD': 1.5469, 'CHF': 1.074, 'CNY': 7.9785, 'CZK': 26.65, 'DKK': 7.4453, 'GBP': 0.90642, 'HKD': 8.8365, 'HRK': 7.5336, 'HUF': 354.07, 'IDR': 16592, 'ILS': 3.9164, 'INR': 85.7, 'ISK': 159.94, 'JPY': 122.12, 'KRW': 1371.44, 'MXN': 25.564, 'MYR': 4.863, 'NOK': 10.6436, 'NZD': 1.7388, 'PHP': 56.379, 'PLN': 4.4796, 'RON': 4.8434, 'RUB': 81.01, 'SEK': 10.3597, 'SGD': 1.585, 'THB': 35.981, 'TRY': 7.8247, 'USD': 1.1398, 'ZAR': 19.0039}, '2020-07-20': {'AUD': 1.6255, 'BGN': 1.9558, 'BRL': 6.0423, 'CAD': 1.5507, 'CHF': 1.0744, 'CNY': 8.0697, 'CZK': 26.4, 'DKK': 7.4448, 'GBP': 0.90787, 'HKD': 8.9369, 'HRK': 7.5249, 'HUF': 349.35, 'IDR': 16911, 'ILS': 3.9461, 'INR': 86.15, 'ISK': 158.58, 'JPY': 123.32, 'KRW': 1383.11, 'MXN': 25.867, 'MYR': 4.9113, 'NOK': 10.5872, 'NZD': 1.7392, 'PHP': 56.917, 'PLN': 4.4286, 'RON': 4.8381, 'RUB': 82.18, 'SEK': 10.2629, 'SGD': 1.5986, 'THB': 36.524, 'TRY': 7.898, 'USD': 1.1529, 'ZAR': 19.1258}, '2020-07-27': {'AUD': 1.6433, 'BGN': 1.9558, 'BRL': 6.0825, 'CAD': 1.5751, 'CHF': 1.0775, 'CNY': 8.2266, 'CZK': 26.232, 'DKK': 7.4432, 'GBP': 0.90603, 'HKD': 9.1134, 'HRK': 7.4974, 'HUF': 346.22, 'IDR': 17131, 'ILS': 4.0082, 'INR': 87.97, 'ISK': 159.04, 'JPY': 123.68, 'KRW': 1405.44, 'MXN': 25.954, 'MYR': 4.9921, 'NOK': 10.6946, 'NZD': 1.7675, 'PHP': 57.765, 'PLN': 4.4076, 'RON': 4.8327, 'RUB': 85.63, 'SEK': 10.2854, 'SGD': 1.6186, 'THB': 36.947, 'TRY': 8.1631, 'USD': 1.1759, 'ZAR': 19.5799}, '2020-08-03': {'AUD': 1.6463, 'BGN': 1.9558, 'BRL': 6.2609, 'CAD': 1.575, 'CHF': 1.0776, 'CNY': 8.2179, 'CZK': 26.224, 'DKK': 7.4484, 'GBP': 0.90204, 'HKD': 9.1461, 'HRK': 7.4679, 'HUF': 345.42, 'IDR': 17284, 'ILS': 4.0262, 'INR': 88.53, 'ISK': 160.2, 'JPY': 124.91, 'KRW': 1404.08, 'MXN': 26.57, 'MYR': 4.9588, 'NOK': 10.6862, 'NZD': 1.7786, 'PHP': 57.913, 'PLN': 4.4069, 'RON': 4.8358, 'RUB': 86.72, 'SEK': 10.3035, 'SGD': 1.6202, 'THB': 36.732, 'TRY': 8.3607, 'USD': 1.1801, 'ZAR': 20.532}, '2020-08-10': {'AUD': 1.6482, 'BGN': 1.9558, 'BRL': 6.3813, 'CAD': 1.5665, 'CHF': 1.0765, 'CNY': 8.1981, 'CZK': 26.14, 'DKK': 7.4473, 'GBP': 0.90204, 'HKD': 9.1397, 'HRK': 7.4998, 'HUF': 345.28, 'IDR': 17423, 'ILS': 4.0162, 'INR': 88.21, 'ISK': 161.0, 'JPY': 125.64, 'KRW': 1397.66, 'MXN': 26.317, 'MYR': 4.9452, 'NOK': 10.5592, 'NZD': 1.7957, 'PHP': 57.671, 'PLN': 4.4005, 'RON': 4.8356, 'RUB': 86.47, 'SEK': 10.2767, 'SGD': 1.6184, 'THB': 36.668, 'TRY': 8.6296, 'USD': 1.1793, 'ZAR': 20.647}, '2020-08-17': {'AUD': 1.6469, 'BGN': 1.9558, 'BRL': 6.5284, 'CAD': 1.5652, 'CHF': 1.0776, 'CNY': 8.2122, 'CZK': 26.107, 'DKK': 7.4456, 'GBP': 0.90255, 'HKD': 9.1935, 'HRK': 7.5305, 'HUF': 349.85, 'IDR': 17565, 'ILS': 4.0363, 'INR': 88.81, 'ISK': 162.1, 'JPY': 125.45, 'KRW': 1406.66, 'MXN': 26.235, 'MYR': 4.9583, 'NOK': 10.5513, 'NZD': 1.8094, 'PHP': 57.688, 'PLN': 4.3934, 'RON': 4.8379, 'RUB': 87.43, 'SEK': 10.3327, 'SGD': 1.6223, 'THB': 37.146, 'TRY': 8.7304, 'USD': 1.1862, 'ZAR': 20.524}, '2020-08-24': {'AUD': 1.6361, 'BGN': 1.9558, 'BRL': 6.5747, 'CAD': 1.5558, 'CHF': 1.0752, 'CNY': 8.158, 'CZK': 26.19, 'DKK': 7.4433, 'GBP': 0.89757, 'HKD': 9.1718, 'HRK': 7.5286, 'HUF': 354.04, 'IDR': 17338, 'ILS': 4.0087, 'INR': 87.52, 'ISK': 163.26, 'JPY': 125.4, 'KRW': 1402.88, 'MXN': 25.935, 'MYR': 4.9353, 'NOK': 10.5471, 'NZD': 1.7927, 'PHP': 57.426, 'PLN': 4.3979, 'RON': 4.8406, 'RUB': 88.6, 'SEK': 10.3261, 'SGD': 1.6165, 'THB': 37.061, 'TRY': 8.7043, 'USD': 1.1834, 'ZAR': 19.9159}, '2020-08-31': {'AUD': 1.6227, 'BGN': 1.9558, 'BRL': 6.4054, 'CAD': 1.5539, 'CHF': 1.0801, 'CNY': 8.1247, 'CZK': 26.315, 'DKK': 7.4418, 'GBP': 0.89176, 'HKD': 9.2139, 'HRK': 7.5336, 'HUF': 357.0, 'IDR': 17470, 'ILS': 3.9973, 'INR': 87.05, 'ISK': 164.5, 'JPY': 126.21, 'KRW': 1411.93, 'MXN': 25.849, 'MYR': 4.934, 'NOK': 10.4814, 'NZD': 1.7643, 'PHP': 57.718, 'PLN': 4.4173, 'RON': 4.8444, 'RUB': 88.49, 'SEK': 10.3328, 'SGD': 1.619, 'THB': 37.151, 'TRY': 8.7935, 'USD': 1.1889, 'ZAR': 19.8508}, '2020-09-07': {'AUD': 1.6262, 'BGN': 1.9558, 'BRL': 6.2871, 'CAD': 1.5556, 'CHF': 1.0796, 'CNY': 8.0819, 'CZK': 26.532, 'DKK': 7.4405, 'GBP': 0.911, 'HKD': 9.1586, 'HRK': 7.5364, 'HUF': 358.79, 'IDR': 17579, 'ILS': 4.028, 'INR': 86.97, 'ISK': 164.3, 'JPY': 125.48, 'KRW': 1403.6, 'MXN': 25.479, 'MYR': 4.9192, 'NOK': 10.6643, 'NZD': 1.7711, 'PHP': 57.46, 'PLN': 4.4495, 'RON': 4.858, 'RUB': 89.36, 'SEK': 10.3692, 'SGD': 1.6165, 'THB': 37.057, 'TRY': 8.8309, 'USD': 1.1817, 'ZAR': 19.8371}, '2020-09-14': {'AUD': 1.6223, 'BGN': 1.9558, 'BRL': 6.2377, 'CAD': 1.5614, 'CHF': 1.0761, 'CNY': 8.035, 'CZK': 26.737, 'DKK': 7.4398, 'GBP': 0.91711, 'HKD': 9.1865, 'HRK': 7.5398, 'HUF': 359.16, 'IDR': 17574, 'ILS': 4.0593, 'INR': 87.2, 'ISK': 160.84, 'JPY': 124.56, 'KRW': 1391.06, 'MXN': 24.93, 'MYR': 4.8977, 'NOK': 10.7056, 'NZD': 1.7604, 'PHP': 57.393, 'PLN': 4.4522, 'RON': 4.8586, 'RUB': 89.05, 'SEK': 10.4081, 'SGD': 1.612, 'THB': 36.971, 'TRY': 8.9127, 'USD': 1.1853, 'ZAR': 19.4293}, '2020-09-21': {'AUD': 1.6411, 'BGN': 1.9558, 'BRL': 6.4386, 'CAD': 1.5598, 'CHF': 1.077, 'CNY': 7.9591, 'CZK': 27.015, 'DKK': 7.4429, 'GBP': 0.91561, 'HKD': 9.0673, 'HRK': 7.5476, 'HUF': 363.55, 'IDR': 17362, 'ILS': 4.0484, 'INR': 86.15, 'ISK': 161.72, 'JPY': 122.77, 'KRW': 1366.93, 'MXN': 25.675, 'MYR': 4.8546, 'NOK': 11.0155, 'NZD': 1.7716, 'PHP': 56.759, 'PLN': 4.5124, 'RON': 4.8681, 'RUB': 89.84, 'SEK': 10.4918, 'SGD': 1.6013, 'THB': 36.821, 'TRY': 8.9408, 'USD': 1.17, 'ZAR': 19.8095}, '2020-09-28': {'AUD': 1.6411, 'BGN': 1.9558, 'BRL': 6.5748, 'CAD': 1.5634, 'CHF': 1.0798, 'CNY': 7.9694, 'CZK': 27.09, 'DKK': 7.4443, 'GBP': 0.9082, 'HKD': 9.0774, 'HRK': 7.5565, 'HUF': 362.82, 'IDR': 17435, 'ILS': 4.033, 'INR': 86.09, 'ISK': 162.2, 'JPY': 123.55, 'KRW': 1365.77, 'MXN': 25.903, 'MYR': 4.8732, 'NOK': 11.0049, 'NZD': 1.7736, 'PHP': 56.775, 'PLN': 4.5256, 'RON': 4.8729, 'RUB': 91.69, 'SEK': 10.5204, 'SGD': 1.6015, 'THB': 37.025, 'TRY': 9.1021, 'USD': 1.1712, 'ZAR': 19.6811}, '2020-10-05': {'AUD': 1.6435, 'BGN': 1.9558, 'BRL': 6.5801, 'CAD': 1.5602, 'CHF': 1.0784, 'CNY': 7.9823, 'CZK': 27.079, 'DKK': 7.4415, 'GBP': 0.91097, 'HKD': 9.1285, 'HRK': 7.57, 'HUF': 358.18, 'IDR': 17353, 'ILS': 4.005, 'INR': 86.26, 'ISK': 162.72, 'JPY': 124.64, 'KRW': 1360.18, 'MXN': 25.181, 'MYR': 4.8887, 'NOK': 10.8886, 'NZD': 1.7795, 'PHP': 57.033, 'PLN': 4.4852, 'RON': 4.8744, 'RUB': 91.66, 'SEK': 10.4656, 'SGD': 1.6, 'THB': 36.75, 'TRY': 9.2509, 'USD': 1.1779, 'ZAR': 19.4616}, '2020-10-12': {'AUD': 1.6449, 'BGN': 1.9558, 'BRL': 6.5616, 'CAD': 1.5465, 'CHF': 1.0726, 'CNY': 7.9091, 'CZK': 27.293, 'DKK': 7.443, 'GBP': 0.90607, 'HKD': 9.1102, 'HRK': 7.5784, 'HUF': 361.89, 'IDR': 17338, 'ILS': 3.9794, 'INR': 86.2, 'ISK': 163.2, 'JPY': 123.85, 'KRW': 1347.65, 'MXN': 25.045, 'MYR': 4.8765, 'NOK': 10.8663, 'NZD': 1.772, 'PHP': 57.208, 'PLN': 4.5162, 'RON': 4.8749, 'RUB': 91.1, 'SEK': 10.3678, 'SGD': 1.5968, 'THB': 36.652, 'TRY': 9.3095, 'USD': 1.1755, 'ZAR': 19.447}, '2020-10-19': {'AUD': 1.6666, 'BGN': 1.9558, 'BRL': 6.6176, 'CAD': 1.5556, 'CHF': 1.0721, 'CNY': 7.894, 'CZK': 27.243, 'DKK': 7.4417, 'GBP': 0.90724, 'HKD': 9.1643, 'HRK': 7.5794, 'HUF': 364.7, 'IDR': 17380, 'ILS': 3.998, 'INR': 87.01, 'ISK': 164.3, 'JPY': 124.21, 'KRW': 1342.19, 'MXN': 24.906, 'MYR': 4.9047, 'NOK': 10.9397, 'NZD': 1.7815, 'PHP': 57.392, 'PLN': 4.5776, 'RON': 4.8753, 'RUB': 91.27, 'SEK': 10.3677, 'SGD': 1.6045, 'THB': 36.959, 'TRY': 9.3535, 'USD': 1.1825, 'ZAR': 19.3618}, '2020-10-26': {'AUD': 1.6603, 'BGN': 1.9558, 'BRL': 6.7181, 'CAD': 1.5592, 'CHF': 1.0705, 'CNY': 7.8844, 'CZK': 27.335, 'DKK': 7.4436, 'GBP': 0.90555, 'HKD': 9.1125, 'HRK': 7.5756, 'HUF': 366.6, 'IDR': 17288, 'ILS': 3.9931, 'INR': 87.14, 'ISK': 164.96, 'JPY': 122.94, 'KRW': 1330.97, 'MXN': 24.871, 'MYR': 4.8892, 'NOK': 10.9998, 'NZD': 1.7641, 'PHP': 56.878, 'PLN': 4.6058, 'RON': 4.8751, 'RUB': 91.74, 'SEK': 10.3624, 'SGD': 1.6025, 'THB': 36.721, 'TRY': 9.6865, 'USD': 1.1756, 'ZAR': 19.1514}, '2020-11-02': {'AUD': 1.64, 'BGN': 1.9558, 'BRL': 6.6479, 'CAD': 1.5453, 'CHF': 1.0697, 'CNY': 7.8199, 'CZK': 26.852, 'DKK': 7.4469, 'GBP': 0.90186, 'HKD': 9.1169, 'HRK': 7.5586, 'HUF': 361.87, 'IDR': 16950, 'ILS': 3.9948, 'INR': 87.35, 'ISK': 163.7, 'JPY': 122.46, 'KRW': 1326.97, 'MXN': 24.665, 'MYR': 4.8821, 'NOK': 10.9703, 'NZD': 1.7537, 'PHP': 56.824, 'PLN': 4.5493, 'RON': 4.8668, 'RUB': 92.65, 'SEK': 10.3311, 'SGD': 1.5955, 'THB': 36.352, 'TRY': 9.9736, 'USD': 1.176, 'ZAR': 18.7714}, '2020-11-09': {'AUD': 1.6241, 'BGN': 1.9558, 'BRL': 6.3598, 'CAD': 1.5423, 'CHF': 1.08, 'CNY': 7.814, 'CZK': 26.456, 'DKK': 7.4456, 'GBP': 0.89558, 'HKD': 9.1595, 'HRK': 7.5667, 'HUF': 356.25, 'IDR': 16693, 'ILS': 3.9852, 'INR': 87.82, 'ISK': 162.46, 'JPY': 124.25, 'KRW': 1315.55, 'MXN': 24.103, 'MYR': 4.8695, 'NOK': 10.7255, 'NZD': 1.7259, 'PHP': 57.089, 'PLN': 4.4861, 'RON': 4.8675, 'RUB': 90.67, 'SEK': 10.2016, 'SGD': 1.5922, 'THB': 35.795, 'TRY': 9.3759, 'USD': 1.1813, 'ZAR': 18.3622}, '2020-11-16': {'AUD': 1.6237, 'BGN': 1.9558, 'BRL': 6.3599, 'CAD': 1.5507, 'CHF': 1.0811, 'CNY': 7.79, 'CZK': 26.392, 'DKK': 7.4493, 'GBP': 0.8951, 'HKD': 9.1912, 'HRK': 7.5666, 'HUF': 360.06, 'IDR': 16774, 'ILS': 3.9725, 'INR': 88.06, 'ISK': 161.38, 'JPY': 123.49, 'KRW': 1316.02, 'MXN': 24.023, 'MYR': 4.8611, 'NOK': 10.7124, 'NZD': 1.7169, 'PHP': 57.198, 'PLN': 4.4741, 'RON': 4.8729, 'RUB': 90.37, 'SEK': 10.2255, 'SGD': 1.5934, 'THB': 35.893, 'TRY': 9.1045, 'USD': 1.1855, 'ZAR': 18.2713}, '2020-11-23': {'AUD': 1.6189, 'BGN': 1.9558, 'BRL': 6.3781, 'CAD': 1.5496, 'CHF': 1.0823, 'CNY': 7.8239, 'CZK': 26.219, 'DKK': 7.443, 'GBP': 0.8912, 'HKD': 9.2205, 'HRK': 7.559, 'HUF': 361.24, 'IDR': 16853, 'ILS': 3.9596, 'INR': 88.01, 'ISK': 160.64, 'JPY': 124.0, 'KRW': 1318.8, 'MXN': 23.852, 'MYR': 4.854, 'NOK': 10.6099, 'NZD': 1.7026, 'PHP': 57.286, 'PLN': 4.4747, 'RON': 4.8736, 'RUB': 90.32, 'SEK': 10.1767, 'SGD': 1.5949, 'THB': 36.081, 'TRY': 9.382, 'USD': 1.1896, 'ZAR': 18.1981}, '2020-11-30': {'AUD': 1.633, 'BGN': 1.9558, 'BRL': 6.317, 'CAD': 1.5596, 'CHF': 1.0829, 'CNY': 7.9126, 'CZK': 26.355, 'DKK': 7.4432, 'GBP': 0.90155, 'HKD': 9.352, 'HRK': 7.5492, 'HUF': 358.08, 'IDR': 17099, 'ILS': 3.967, 'INR': 89.05, 'ISK': 155.55, 'JPY': 125.75, 'KRW': 1325.9, 'MXN': 24.119, 'MYR': 4.9132, 'NOK': 10.6462, 'NZD': 1.7121, 'PHP': 58.0, 'PLN': 4.4757, 'RON': 4.8722, 'RUB': 90.83, 'SEK': 10.2466, 'SGD': 1.6137, 'THB': 36.461, 'TRY': 9.4301, 'USD': 1.2065, 'ZAR': 18.4658}, '2020-12-07': {'AUD': 1.6229, 'BGN': 1.9558, 'BRL': 6.1815, 'CAD': 1.5492, 'CHF': 1.0778, 'CNY': 7.9246, 'CZK': 26.351, 'DKK': 7.443, 'GBP': 0.9115, 'HKD': 9.3933, 'HRK': 7.5425, 'HUF': 357.26, 'IDR': 17118, 'ILS': 3.9444, 'INR': 89.35, 'ISK': 153.64, 'JPY': 126.27, 'KRW': 1317.9, 'MXN': 24.116, 'MYR': 4.9248, 'NOK': 10.6468, 'NZD': 1.7172, 'PHP': 58.344, 'PLN': 4.4441, 'RON': 4.8708, 'RUB': 89.06, 'SEK': 10.2415, 'SGD': 1.6202, 'THB': 36.477, 'TRY': 9.5125, 'USD': 1.2119, 'ZAR': 18.247}, '2020-12-14': {'AUD': 1.6088, 'BGN': 1.9558, 'BRL': 6.2026, 'CAD': 1.5537, 'CHF': 1.08, 'CNY': 7.9767, 'CZK': 26.244, 'DKK': 7.4411, 'GBP': 0.90465, 'HKD': 9.457, 'HRK': 7.5314, 'HUF': 355.4, 'IDR': 17261, 'ILS': 3.9651, 'INR': 89.76, 'ISK': 155.36, 'JPY': 126.21, 'KRW': 1334.7, 'MXN': 24.329, 'MYR': 4.9371, 'NOK': 10.5588, 'NZD': 1.7147, 'PHP': 58.617, 'PLN': 4.4471, 'RON': 4.8693, 'RUB': 89.43, 'SEK': 10.1662, 'SGD': 1.6222, 'THB': 36.555, 'TRY': 9.5012, 'USD': 1.2199, 'ZAR': 18.0688}, '2020-12-21': {'AUD': 1.6137, 'BGN': 1.9558, 'BRL': 6.3115, 'CAD': 1.5692, 'CHF': 1.0834, 'CNY': 7.9753, 'CZK': 26.312, 'DKK': 7.4393, 'GBP': 0.90813, 'HKD': 9.4529, 'HRK': 7.5424, 'HUF': 361.88, 'IDR': 17357, 'ILS': 3.94, 'INR': 90.0, 'ISK': 156.12, 'JPY': 126.23, 'KRW': 1349.1, 'MXN': 24.535, 'MYR': 4.9491, 'NOK': 10.595, 'NZD': 1.7245, 'PHP': 58.679, 'PLN': 4.5068, 'RON': 4.8676, 'RUB': 91.54, 'SEK': 10.1108, 'SGD': 1.6261, 'THB': 36.754, 'TRY': 9.3016, 'USD': 1.2193, 'ZAR': 17.8885}, '2020-12-28': {'AUD': 1.6031, 'BGN': 1.9558, 'BRL': 6.3617, 'CAD': 1.5681, 'CHF': 1.0844, 'CNY': 8.0084, 'CZK': 26.261, 'DKK': 7.4386, 'GBP': 0.9037, 'HKD': 9.5032, 'HRK': 7.5465, 'HUF': 364.19, 'IDR': 17285, 'ILS': 3.9378, 'INR': 89.82, 'ISK': 156.15, 'JPY': 126.71, 'KRW': 1338.26, 'MXN': 24.376, 'MYR': 4.9516, 'NOK': 10.5346, 'NZD': 1.7096, 'PHP': 58.938, 'PLN': 4.5344, 'RON': 4.8716, 'RUB': 90.9, 'SEK': 10.0705, 'SGD': 1.6246, 'THB': 36.797, 'TRY': 9.0721, 'USD': 1.2258, 'ZAR': 17.9483}, '2021-01-04': {'AUD': 1.5855, 'BGN': 1.9558, 'BRL': 6.4959, 'CAD': 1.5611, 'CHF': 1.0819, 'CNY': 7.9406, 'CZK': 26.165, 'DKK': 7.4384, 'GBP': 0.90289, 'HKD': 9.5257, 'HRK': 7.562, 'HUF': 359.37, 'IDR': 17163, 'ILS': 3.9201, 'INR': 89.94, 'ISK': 155.86, 'JPY': 126.86, 'KRW': 1337.47, 'MXN': 24.394, 'MYR': 4.9394, 'NOK': 10.3852, 'NZD': 1.6961, 'PHP': 59.073, 'PLN': 4.5244, 'RON': 4.8715, 'RUB': 90.97, 'SEK': 10.0641, 'SGD': 1.6221, 'THB': 36.826, 'TRY': 9.0392, 'USD': 1.2286, 'ZAR': 18.4732}, '2021-01-11': {'AUD': 1.5716, 'BGN': 1.9558, 'BRL': 6.5122, 'CAD': 1.5468, 'CHF': 1.0807, 'CNY': 7.8601, 'CZK': 26.191, 'DKK': 7.4387, 'GBP': 0.8932, 'HKD': 9.4198, 'HRK': 7.5727, 'HUF': 360.03, 'IDR': 17143, 'ILS': 3.8594, 'INR': 88.95, 'ISK': 156.46, 'JPY': 126.38, 'KRW': 1334.26, 'MXN': 24.207, 'MYR': 4.9141, 'NOK': 10.3416, 'NZD': 1.6912, 'PHP': 58.37, 'PLN': 4.531, 'RON': 4.8723, 'RUB': 89.75, 'SEK': 10.1077, 'SGD': 1.6132, 'THB': 36.531, 'TRY': 9.036, 'USD': 1.2147, 'ZAR': 18.609}, '2021-01-18': {'AUD': 1.5703, 'BGN': 1.9558, 'BRL': 6.4397, 'CAD': 1.5407, 'CHF': 1.0768, 'CNY': 7.8527, 'CZK': 26.143, 'DKK': 7.4393, 'GBP': 0.88881, 'HKD': 9.3979, 'HRK': 7.5626, 'HUF': 358.26, 'IDR': 17058, 'ILS': 3.9482, 'INR': 88.61, 'ISK': 156.96, 'JPY': 125.77, 'KRW': 1337.56, 'MXN': 23.923, 'MYR': 4.9024, 'NOK': 10.3266, 'NZD': 1.6952, 'PHP': 58.242, 'PLN': 4.5346, 'RON': 4.8741, 'RUB': 89.77, 'SEK': 10.1103, 'SGD': 1.6095, 'THB': 36.395, 'TRY': 9.0133, 'USD': 1.2123, 'ZAR': 18.22}, '2021-01-25': {'AUD': 1.5783, 'BGN': 1.9558, 'BRL': 6.5928, 'CAD': 1.5488, 'CHF': 1.078, 'CNY': 7.8387, 'CZK': 26.064, 'DKK': 7.4382, 'GBP': 0.88576, 'HKD': 9.4015, 'HRK': 7.5639, 'HUF': 359.11, 'IDR': 17084, 'ILS': 3.9721, 'INR': 88.48, 'ISK': 156.62, 'JPY': 126.22, 'KRW': 1345.24, 'MXN': 24.468, 'MYR': 4.9058, 'NOK': 10.4108, 'NZD': 1.6872, 'PHP': 58.307, 'PLN': 4.5434, 'RON': 4.8751, 'RUB': 91.79, 'SEK': 10.0988, 'SGD': 1.611, 'THB': 36.357, 'TRY': 8.9352, 'USD': 1.2127, 'ZAR': 18.4157}, '2021-02-01': {'AUD': 1.5789, 'BGN': 1.9558, 'BRL': 6.4892, 'CAD': 1.5394, 'CHF': 1.0814, 'CNY': 7.772, 'CZK': 25.9, 'DKK': 7.437, 'GBP': 0.8793, 'HKD': 9.322, 'HRK': 7.5715, 'HUF': 355.95, 'IDR': 16880, 'ILS': 3.9633, 'INR': 87.73, 'ISK': 155.9, 'JPY': 126.49, 'KRW': 1344.6, 'MXN': 24.345, 'MYR': 4.8741, 'NOK': 10.3468, 'NZD': 1.6755, 'PHP': 57.764, 'PLN': 4.4983, 'RON': 4.8743, 'RUB': 90.81, 'SEK': 10.1422, 'SGD': 1.6042, 'THB': 36.118, 'TRY': 8.5982, 'USD': 1.2025, 'ZAR': 18.0151}, '2021-02-08': {'AUD': 1.5672, 'BGN': 1.9558, 'BRL': 6.5273, 'CAD': 1.5395, 'CHF': 1.0814, 'CNY': 7.808, 'CZK': 25.767, 'DKK': 7.437, 'GBP': 0.87764, 'HKD': 9.382, 'HRK': 7.5659, 'HUF': 358.16, 'IDR': 16932, 'ILS': 3.9447, 'INR': 88.12, 'ISK': 155.12, 'JPY': 126.97, 'KRW': 1342.76, 'MXN': 24.292, 'MYR': 4.8996, 'NOK': 10.2608, 'NZD': 1.6779, 'PHP': 58.156, 'PLN': 4.4876, 'RON': 4.8749, 'RUB': 89.54, 'SEK': 10.0938, 'SGD': 1.6073, 'THB': 36.218, 'TRY': 8.5392, 'USD': 1.2102, 'ZAR': 17.837}, '2021-02-15': {'AUD': 1.555, 'BGN': 1.9558, 'BRL': 6.52, 'CAD': 1.5326, 'CHF': 1.0818, 'CNY': 7.8226, 'CZK': 25.806, 'DKK': 7.4366, 'GBP': 0.86913, 'HKD': 9.3894, 'HRK': 7.5738, 'HUF': 358.58, 'IDR': 16977, 'ILS': 3.9407, 'INR': 87.99, 'ISK': 155.68, 'JPY': 127.86, 'KRW': 1337.88, 'MXN': 24.43, 'MYR': 4.8893, 'NOK': 10.2057, 'NZD': 1.6744, 'PHP': 58.527, 'PLN': 4.4907, 'RON': 4.8754, 'RUB': 89.19, 'SEK': 10.0384, 'SGD': 1.6049, 'THB': 36.283, 'TRY': 8.4377, 'USD': 1.2111, 'ZAR': 17.6558}, '2021-02-22': {'AUD': 1.5408, 'BGN': 1.9558, 'BRL': 6.6371, 'CAD': 1.53, 'CHF': 1.0985, 'CNY': 7.852, 'CZK': 26.029, 'DKK': 7.4364, 'GBP': 0.86466, 'HKD': 9.4243, 'HRK': 7.5803, 'HUF': 359.92, 'IDR': 17221, 'ILS': 3.9836, 'INR': 88.46, 'ISK': 154.32, 'JPY': 128.65, 'KRW': 1354.99, 'MXN': 25.156, 'MYR': 4.9145, 'NOK': 10.3029, 'NZD': 1.653, 'PHP': 59.157, 'PLN': 4.5107, 'RON': 4.8753, 'RUB': 90.28, 'SEK': 10.0802, 'SGD': 1.6076, 'THB': 36.609, 'TRY': 8.739, 'USD': 1.2154, 'ZAR': 17.9436}, '2021-03-01': {'AUD': 1.5492, 'BGN': 1.9558, 'BRL': 6.7981, 'CAD': 1.5221, 'CHF': 1.1062, 'CNY': 7.7808, 'CZK': 26.176, 'DKK': 7.4361, 'GBP': 0.86382, 'HKD': 9.3261, 'HRK': 7.5804, 'HUF': 364.23, 'IDR': 17202, 'ILS': 3.9721, 'INR': 87.89, 'ISK': 152.94, 'JPY': 128.91, 'KRW': 1351.08, 'MXN': 25.057, 'MYR': 4.8791, 'NOK': 10.2662, 'NZD': 1.6622, 'PHP': 58.347, 'PLN': 4.544, 'RON': 4.8782, 'RUB': 88.89, 'SEK': 10.1588, 'SGD': 1.6026, 'THB': 36.467, 'TRY': 8.8701, 'USD': 1.202, 'ZAR': 18.1294}, '2021-03-08': {'AUD': 1.5429, 'BGN': 1.9558, 'BRL': 6.801, 'CAD': 1.5018, 'CHF': 1.1077, 'CNY': 7.7521, 'CZK': 26.247, 'DKK': 7.4365, 'GBP': 0.85718, 'HKD': 9.2465, 'HRK': 7.5861, 'HUF': 366.71, 'IDR': 17145, 'ILS': 3.9584, 'INR': 86.86, 'ISK': 152.75, 'JPY': 129.5, 'KRW': 1354.13, 'MXN': 25.163, 'MYR': 4.9018, 'NOK': 10.1042, 'NZD': 1.661, 'PHP': 57.81, 'PLN': 4.5845, 'RON': 4.8855, 'RUB': 88.09, 'SEK': 10.143, 'SGD': 1.6022, 'THB': 36.605, 'TRY': 9.0367, 'USD': 1.1911, 'ZAR': 18.1006}, '2021-03-15': {'AUD': 1.539, 'BGN': 1.9558, 'BRL': 6.657, 'CAD': 1.4859, 'CHF': 1.106, 'CNY': 7.7476, 'CZK': 26.169, 'DKK': 7.4361, 'GBP': 0.85724, 'HKD': 9.25, 'HRK': 7.5767, 'HUF': 367.76, 'IDR': 17177, 'ILS': 3.9277, 'INR': 86.45, 'ISK': 151.9, 'JPY': 129.94, 'KRW': 1346.78, 'MXN': 24.528, 'MYR': 4.8996, 'NOK': 10.1261, 'NZD': 1.659, 'PHP': 57.927, 'PLN': 4.6087, 'RON': 4.886, 'RUB': 87.57, 'SEK': 10.1581, 'SGD': 1.6022, 'THB': 36.677, 'TRY': 8.8551, 'USD': 1.1911, 'ZAR': 17.6563}, '2021-03-22': {'AUD': 1.5486, 'BGN': 1.9558, 'BRL': 6.6161, 'CAD': 1.4878, 'CHF': 1.1058, 'CNY': 7.7273, 'CZK': 26.159, 'DKK': 7.436, 'GBP': 0.8605, 'HKD': 9.2001, 'HRK': 7.5743, 'HUF': 365.34, 'IDR': 17075, 'ILS': 3.9155, 'INR': 85.9, 'ISK': 149.84, 'JPY': 129.09, 'KRW': 1339.69, 'MXN': 24.534, 'MYR': 4.8937, 'NOK': 10.153, 'NZD': 1.6862, 'PHP': 57.511, 'PLN': 4.6276, 'RON': 4.8876, 'RUB': 89.78, 'SEK': 10.1774, 'SGD': 1.5926, 'THB': 36.739, 'TRY': 9.4116, 'USD': 1.1844, 'ZAR': 17.6084}, '2021-03-29': {'AUD': 1.5432, 'BGN': 1.9558, 'BRL': 6.7302, 'CAD': 1.4804, 'CHF': 1.1075, 'CNY': 7.7124, 'CZK': 26.107, 'DKK': 7.437, 'GBP': 0.85226, 'HKD': 9.135, 'HRK': 7.5708, 'HUF': 362.68, 'IDR': 17046, 'ILS': 3.9179, 'INR': 85.95, 'ISK': 149.08, 'JPY': 129.65, 'KRW': 1329.6, 'MXN': 24.152, 'MYR': 4.8713, 'NOK': 10.0428, 'NZD': 1.6794, 'PHP': 57.026, 'PLN': 4.6409, 'RON': 4.9136, 'RUB': 89.13, 'SEK': 10.2454, 'SGD': 1.5811, 'THB': 36.708, 'TRY': 9.679, 'USD': 1.1749, 'ZAR': 17.447}, '2021-04-05': {'AUD': 1.5545, 'BGN': 1.9558, 'BRL': 6.6568, 'CAD': 1.493, 'CHF': 1.1036, 'CNY': 7.7708, 'CZK': 25.948, 'DKK': 7.4373, 'GBP': 0.86093, 'HKD': 9.2303, 'HRK': 7.5763, 'HUF': 359.15, 'IDR': 17262, 'ILS': 3.9082, 'INR': 88.12, 'ISK': 150.7, 'JPY': 130.24, 'KRW': 1326.85, 'MXN': 23.959, 'MYR': 4.9046, 'NOK': 10.0803, 'NZD': 1.6859, 'PHP': 57.716, 'PLN': 4.5644, 'RON': 4.9189, 'RUB': 91.53, 'SEK': 10.2192, 'SGD': 1.5904, 'THB': 37.269, 'TRY': 9.6802, 'USD': 1.1864, 'ZAR': 17.2495}, '2021-04-12': {'AUD': 1.5547, 'BGN': 1.9558, 'BRL': 6.7779, 'CAD': 1.4981, 'CHF': 1.1018, 'CNY': 7.8049, 'CZK': 25.969, 'DKK': 7.4371, 'GBP': 0.86736, 'HKD': 9.2818, 'HRK': 7.5671, 'HUF': 358.9, 'IDR': 17447, 'ILS': 3.9272, 'INR': 89.58, 'ISK': 151.86, 'JPY': 130.25, 'KRW': 1336.13, 'MXN': 23.974, 'MYR': 4.9324, 'NOK': 10.0795, 'NZD': 1.6824, 'PHP': 57.949, 'PLN': 4.5503, 'RON': 4.9236, 'RUB': 91.5, 'SEK': 10.1574, 'SGD': 1.5979, 'THB': 37.48, 'TRY': 9.6905, 'USD': 1.1944, 'ZAR': 17.2503}, '2021-04-19': {'AUD': 1.5542, 'BGN': 1.9558, 'BRL': 6.6632, 'CAD': 1.5079, 'CHF': 1.1025, 'CNY': 7.8228, 'CZK': 25.881, 'DKK': 7.4364, 'GBP': 0.86532, 'HKD': 9.3472, 'HRK': 7.572, 'HUF': 362.13, 'IDR': 17496, 'ILS': 3.9216, 'INR': 90.42, 'ISK': 151.28, 'JPY': 130.16, 'KRW': 1344.25, 'MXN': 23.944, 'MYR': 4.9565, 'NOK': 10.0205, 'NZD': 1.676, 'PHP': 58.244, 'PLN': 4.555, 'RON': 4.9263, 'RUB': 91.55, 'SEK': 10.1286, 'SGD': 1.6001, 'THB': 37.713, 'TRY': 9.8661, 'USD': 1.2041, 'ZAR': 17.191}, '2021-04-26': {'AUD': 1.5552, 'BGN': 1.9558, 'BRL': 6.5364, 'CAD': 1.4941, 'CHF': 1.1033, 'CNY': 7.8323, 'CZK': 25.872, 'DKK': 7.436, 'GBP': 0.86926, 'HKD': 9.3854, 'HRK': 7.5572, 'HUF': 361.61, 'IDR': 17491, 'ILS': 3.9236, 'INR': 89.95, 'ISK': 149.56, 'JPY': 131.34, 'KRW': 1344.32, 'MXN': 24.141, 'MYR': 4.9566, 'NOK': 9.9781, 'NZD': 1.6721, 'PHP': 58.485, 'PLN': 4.5673, 'RON': 4.9257, 'RUB': 90.39, 'SEK': 10.1317, 'SGD': 1.6036, 'THB': 37.851, 'TRY': 9.9553, 'USD': 1.2091, 'ZAR': 17.3121}, '2021-05-03': {'AUD': 1.5552, 'BGN': 1.9558, 'BRL': 6.4995, 'CAD': 1.4765, 'CHF': 1.0975, 'CNY': 7.792, 'CZK': 25.794, 'DKK': 7.4361, 'GBP': 0.8668, 'HKD': 9.3508, 'HRK': 7.5367, 'HUF': 359.22, 'IDR': 17308, 'ILS': 3.9222, 'INR': 88.82, 'ISK': 150.4, 'JPY': 131.56, 'KRW': 1351.96, 'MXN': 24.34, 'MYR': 4.9545, 'NOK': 10.0163, 'NZD': 1.676, 'PHP': 57.824, 'PLN': 4.57, 'RON': 4.9269, 'RUB': 90.03, 'SEK': 10.1725, 'SGD': 1.6062, 'THB': 37.541, 'TRY': 10.0176, 'USD': 1.2038, 'ZAR': 17.3069}, '2021-05-10': {'AUD': 1.5555, 'BGN': 1.9558, 'BRL': 6.3777, 'CAD': 1.4696, 'CHF': 1.0959, 'CNY': 7.8053, 'CZK': 25.55, 'DKK': 7.4362, 'GBP': 0.8603, 'HKD': 9.4228, 'HRK': 7.5309, 'HUF': 357.13, 'IDR': 17275, 'ILS': 3.9752, 'INR': 89.04, 'ISK': 150.78, 'JPY': 132.22, 'KRW': 1362.69, 'MXN': 24.184, 'MYR': 4.9989, 'NOK': 10.0387, 'NZD': 1.676, 'PHP': 58.034, 'PLN': 4.5455, 'RON': 4.9263, 'RUB': 89.85, 'SEK': 10.1282, 'SGD': 1.6124, 'THB': 37.875, 'TRY': 10.1451, 'USD': 1.2132, 'ZAR': 17.0364}, '2021-05-17': {'AUD': 1.5707, 'BGN': 1.9558, 'BRL': 6.4433, 'CAD': 1.4724, 'CHF': 1.0973, 'CNY': 7.8455, 'CZK': 25.468, 'DKK': 7.4362, 'GBP': 0.86143, 'HKD': 9.4683, 'HRK': 7.5133, 'HUF': 350.79, 'IDR': 17501, 'ILS': 3.9848, 'INR': 89.11, 'ISK': 149.7, 'JPY': 132.91, 'KRW': 1378.63, 'MXN': 24.228, 'MYR': 5.0438, 'NOK': 10.1009, 'NZD': 1.6916, 'PHP': 58.39, 'PLN': 4.5181, 'RON': 4.9271, 'RUB': 89.86, 'SEK': 10.1516, 'SGD': 1.6244, 'THB': 38.309, 'TRY': 10.2144, 'USD': 1.2194, 'ZAR': 17.1173}, '2021-05-24': {'AUD': 1.5774, 'BGN': 1.9558, 'BRL': 6.476, 'CAD': 1.4746, 'CHF': 1.0964, 'CNY': 7.8085, 'CZK': 25.442, 'DKK': 7.4363, 'GBP': 0.86229, 'HKD': 9.4776, 'HRK': 7.5128, 'HUF': 348.66, 'IDR': 17487, 'ILS': 3.9674, 'INR': 88.78, 'ISK': 148.16, 'JPY': 133.34, 'KRW': 1367.1, 'MXN': 24.312, 'MYR': 5.0558, 'NOK': 10.1916, 'NZD': 1.6837, 'PHP': 58.659, 'PLN': 4.4872, 'RON': 4.9208, 'RUB': 89.82, 'SEK': 10.1412, 'SGD': 1.6186, 'THB': 38.226, 'TRY': 10.3262, 'USD': 1.2209, 'ZAR': 16.9017}, '2021-05-31': {'AUD': 1.5784, 'BGN': 1.9558, 'BRL': 6.2825, 'CAD': 1.4706, 'CHF': 1.0972, 'CNY': 7.7831, 'CZK': 25.456, 'DKK': 7.4366, 'GBP': 0.86014, 'HKD': 9.453, 'HRK': 7.5048, 'HUF': 346.5, 'IDR': 17400, 'ILS': 3.9589, 'INR': 88.82, 'ISK': 146.92, 'JPY': 133.75, 'KRW': 1354.84, 'MXN': 24.347, 'MYR': 5.0259, 'NOK': 10.155, 'NZD': 1.6866, 'PHP': 58.188, 'PLN': 4.4679, 'RON': 4.9209, 'RUB': 89.37, 'SEK': 10.1052, 'SGD': 1.6133, 'THB': 37.987, 'TRY': 10.4673, 'USD': 1.2183, 'ZAR': 16.6834}, '2021-06-07': {'AUD': 1.5709, 'BGN': 1.9558, 'BRL': 6.1409, 'CAD': 1.4708, 'CHF': 1.0911, 'CNY': 7.7792, 'CZK': 25.379, 'DKK': 7.4365, 'GBP': 0.85996, 'HKD': 9.441, 'HRK': 7.4981, 'HUF': 346.67, 'IDR': 17330, 'ILS': 3.9486, 'INR': 88.78, 'ISK': 146.9, 'JPY': 133.17, 'KRW': 1355.94, 'MXN': 23.989, 'MYR': 5.0117, 'NOK': 10.0685, 'NZD': 1.6901, 'PHP': 58.055, 'PLN': 4.4687, 'RON': 4.9225, 'RUB': 87.93, 'SEK': 10.0652, 'SGD': 1.6107, 'THB': 37.908, 'TRY': 10.3894, 'USD': 1.2168, 'ZAR': 16.4938}, '2021-06-14': {'AUD': 1.575, 'BGN': 1.9558, 'BRL': 6.0833, 'CAD': 1.474, 'CHF': 1.091, 'CNY': 7.7216, 'CZK': 25.475, 'DKK': 7.4364, 'GBP': 0.85838, 'HKD': 9.3436, 'HRK': 7.4938, 'HUF': 352.92, 'IDR': 17247, 'ILS': 3.9135, 'INR': 88.58, 'ISK': 146.92, 'JPY': 132.53, 'KRW': 1353.32, 'MXN': 24.259, 'MYR': 4.9655, 'NOK': 10.154, 'NZD': 1.6998, 'PHP': 57.981, 'PLN': 4.5284, 'RON': 4.9235, 'RUB': 86.88, 'SEK': 10.1464, 'SGD': 1.6037, 'THB': 37.62, 'TRY': 10.3028, 'USD': 1.2036, 'ZAR': 16.7369}, '2021-06-21': {'AUD': 1.5777, 'BGN': 1.9558, 'BRL': 5.9351, 'CAD': 1.4705, 'CHF': 1.0957, 'CNY': 7.7131, 'CZK': 25.484, 'DKK': 7.4362, 'GBP': 0.857, 'HKD': 9.2585, 'HRK': 7.4991, 'HUF': 352.2, 'IDR': 17226, 'ILS': 3.8829, 'INR': 88.48, 'ISK': 146.67, 'JPY': 131.86, 'KRW': 1351.06, 'MXN': 24.169, 'MYR': 4.9573, 'NOK': 10.1939, 'NZD': 1.6959, 'PHP': 58.019, 'PLN': 4.5252, 'RON': 4.9253, 'RUB': 86.67, 'SEK': 10.1451, 'SGD': 1.6027, 'THB': 37.867, 'TRY': 10.378, 'USD': 1.1924, 'ZAR': 16.9532}, '2021-06-28': {'AUD': 1.5818, 'BGN': 1.9558, 'BRL': 5.9082, 'CAD': 1.4698, 'CHF': 1.0969, 'CNY': 7.6783, 'CZK': 25.515, 'DKK': 7.4363, 'GBP': 0.859, 'HKD': 9.2232, 'HRK': 7.4923, 'HUF': 351.75, 'IDR': 17269, 'ILS': 3.8763, 'INR': 88.4, 'ISK': 147.02, 'JPY': 131.85, 'KRW': 1343.99, 'MXN': 23.632, 'MYR': 4.9344, 'NOK': 10.1971, 'NZD': 1.6981, 'PHP': 58.144, 'PLN': 4.5178, 'RON': 4.9276, 'RUB': 86.61, 'SEK': 10.1442, 'SGD': 1.5987, 'THB': 38.101, 'TRY': 10.3407, 'USD': 1.1878, 'ZAR': 17.0202}, '2021-07-05': {'AUD': 1.5786, 'BGN': 1.9558, 'BRL': 6.1283, 'CAD': 1.4745, 'CHF': 1.0897, 'CNY': 7.6673, 'CZK': 25.714, 'DKK': 7.4363, 'GBP': 0.85701, 'HKD': 9.2022, 'HRK': 7.489, 'HUF': 354.83, 'IDR': 17189, 'ILS': 3.8751, 'INR': 88.33, 'ISK': 146.62, 'JPY': 130.76, 'KRW': 1349.46, 'MXN': 23.586, 'MYR': 4.9388, 'NOK': 10.2779, 'NZD': 1.6879, 'PHP': 58.987, 'PLN': 4.5239, 'RON': 4.927, 'RUB': 87.78, 'SEK': 10.17, 'SGD': 1.5971, 'THB': 38.302, 'TRY': 10.2729, 'USD': 1.1846, 'ZAR': 16.9014}, '2021-07-12': {'AUD': 1.5866, 'BGN': 1.9558, 'BRL': 6.0911, 'CAD': 1.4798, 'CHF': 1.0846, 'CNY': 7.6459, 'CZK': 25.628, 'DKK': 7.4377, 'GBP': 0.85346, 'HKD': 9.1835, 'HRK': 7.4936, 'HUF': 357.86, 'IDR': 17135, 'ILS': 3.8757, 'INR': 88.15, 'ISK': 146.22, 'JPY': 130.27, 'KRW': 1354.4, 'MXN': 23.546, 'MYR': 4.965, 'NOK': 10.3473, 'NZD': 1.6909, 'PHP': 59.417, 'PLN': 4.5716, 'RON': 4.9284, 'RUB': 87.75, 'SEK': 10.2128, 'SGD': 1.6004, 'THB': 38.632, 'TRY': 10.1433, 'USD': 1.1824, 'ZAR': 17.181}, '2021-07-19': {'AUD': 1.6023, 'BGN': 1.9558, 'BRL': 6.1243, 'CAD': 1.491, 'CHF': 1.0839, 'CNY': 7.6245, 'CZK': 25.646, 'DKK': 7.4381, 'GBP': 0.85985, 'HKD': 9.1478, 'HRK': 7.5245, 'HUF': 359.23, 'IDR': 17104, 'ILS': 3.8676, 'INR': 87.84, 'ISK': 147.64, 'JPY': 129.51, 'KRW': 1355.25, 'MXN': 23.662, 'MYR': 4.9749, 'NOK': 10.5044, 'NZD': 1.6958, 'PHP': 59.461, 'PLN': 4.5836, 'RON': 4.9246, 'RUB': 87.34, 'SEK': 10.2373, 'SGD': 1.6054, 'THB': 38.688, 'TRY': 10.0832, 'USD': 1.1771, 'ZAR': 17.2046}, '2021-07-26': {'AUD': 1.6063, 'BGN': 1.9558, 'BRL': 6.098, 'CAD': 1.4816, 'CHF': 1.0799, 'CNY': 7.6695, 'CZK': 25.589, 'DKK': 7.4374, 'GBP': 0.85257, 'HKD': 9.2035, 'HRK': 7.5093, 'HUF': 359.22, 'IDR': 17134, 'ILS': 3.8463, 'INR': 88.01, 'ISK': 147.96, 'JPY': 130.16, 'KRW': 1362.65, 'MXN': 23.625, 'MYR': 5.0075, 'NOK': 10.4384, 'NZD': 1.6967, 'PHP': 59.512, 'PLN': 4.5835, 'RON': 4.921, 'RUB': 86.93, 'SEK': 10.1841, 'SGD': 1.6062, 'THB': 38.928, 'TRY': 10.077, 'USD': 1.1834, 'ZAR': 17.4274}, '2021-08-02': {'AUD': 1.6037, 'BGN': 1.9558, 'BRL': 6.1504, 'CAD': 1.483, 'CHF': 1.0736, 'CNY': 7.6639, 'CZK': 25.447, 'DKK': 7.4372, 'GBP': 0.85195, 'HKD': 9.221, 'HRK': 7.4993, 'HUF': 354.3, 'IDR': 16996, 'ILS': 3.8114, 'INR': 87.98, 'ISK': 147.36, 'JPY': 129.72, 'KRW': 1358.04, 'MXN': 23.568, 'MYR': 5.0049, 'NOK': 10.441, 'NZD': 1.6855, 'PHP': 59.29, 'PLN': 4.5521, 'RON': 4.9173, 'RUB': 86.53, 'SEK': 10.1918, 'SGD': 1.6015, 'THB': 39.283, 'TRY': 10.0282, 'USD': 1.1858, 'ZAR': 17.0484}, '2021-08-09': {'AUD': 1.5979, 'BGN': 1.9558, 'BRL': 6.1439, 'CAD': 1.4714, 'CHF': 1.0814, 'CNY': 7.6087, 'CZK': 25.391, 'DKK': 7.4371, 'GBP': 0.84769, 'HKD': 9.1369, 'HRK': 7.4981, 'HUF': 353.57, 'IDR': 16881, 'ILS': 3.7805, 'INR': 87.23, 'ISK': 148.0, 'JPY': 129.58, 'KRW': 1357.63, 'MXN': 23.475, 'MYR': 4.9705, 'NOK': 10.4324, 'NZD': 1.6743, 'PHP': 59.236, 'PLN': 4.5775, 'RON': 4.9143, 'RUB': 86.41, 'SEK': 10.21, 'SGD': 1.5937, 'THB': 39.118, 'TRY': 10.1032, 'USD': 1.1741, 'ZAR': 17.3269}, '2021-08-16': {'AUD': 1.6212, 'BGN': 1.9558, 'BRL': 6.2681, 'CAD': 1.488, 'CHF': 1.0726, 'CNY': 7.6044, 'CZK': 25.475, 'DKK': 7.4367, 'GBP': 0.8533, 'HKD': 9.1338, 'HRK': 7.4965, 'HUF': 351.09, 'IDR': 16907, 'ILS': 3.7932, 'INR': 87.13, 'ISK': 148.64, 'JPY': 128.43, 'KRW': 1376.79, 'MXN': 23.509, 'MYR': 4.9693, 'NOK': 10.474, 'NZD': 1.6985, 'PHP': 59.222, 'PLN': 4.5724, 'RON': 4.9257, 'RUB': 86.56, 'SEK': 10.245, 'SGD': 1.595, 'THB': 39.108, 'TRY': 9.9502, 'USD': 1.1726, 'ZAR': 17.5776}, '2021-08-23': {'AUD': 1.6226, 'BGN': 1.9558, 'BRL': 6.2082, 'CAD': 1.4862, 'CHF': 1.0756, 'CNY': 7.6109, 'CZK': 25.537, 'DKK': 7.4367, 'GBP': 0.85645, 'HKD': 9.1472, 'HRK': 7.4918, 'HUF': 349.73, 'IDR': 16935, 'ILS': 3.7902, 'INR': 87.01, 'ISK': 149.32, 'JPY': 129.19, 'KRW': 1372.17, 'MXN': 23.868, 'MYR': 4.9407, 'NOK': 10.3985, 'NZD': 1.6933, 'PHP': 58.729, 'PLN': 4.5809, 'RON': 4.9304, 'RUB': 86.87, 'SEK': 10.2334, 'SGD': 1.591, 'THB': 38.616, 'TRY': 9.8806, 'USD': 1.1744, 'ZAR': 17.6339}, '2021-08-30': {'AUD': 1.6082, 'BGN': 1.9558, 'BRL': 6.1302, 'CAD': 1.4893, 'CHF': 1.0831, 'CNY': 7.6458, 'CZK': 25.46, 'DKK': 7.4361, 'GBP': 0.85848, 'HKD': 9.2049, 'HRK': 7.4944, 'HUF': 348.28, 'IDR': 16896, 'ILS': 3.7969, 'INR': 86.49, 'ISK': 149.92, 'JPY': 130.16, 'KRW': 1372.21, 'MXN': 23.713, 'MYR': 4.9164, 'NOK': 10.2661, 'NZD': 1.6747, 'PHP': 58.991, 'PLN': 4.5242, 'RON': 4.9376, 'RUB': 86.48, 'SEK': 10.1809, 'SGD': 1.5911, 'THB': 38.334, 'TRY': 9.8344, 'USD': 1.1834, 'ZAR': 17.1112}, '2021-09-06': {'AUD': 1.6009, 'BGN': 1.9558, 'BRL': 6.1757, 'CAD': 1.4944, 'CHF': 1.0865, 'CNY': 7.6457, 'CZK': 25.381, 'DKK': 7.4361, 'GBP': 0.85703, 'HKD': 9.211, 'HRK': 7.4834, 'HUF': 349.3, 'IDR': 16866, 'ILS': 3.7945, 'INR': 86.98, 'ISK': 150.84, 'JPY': 130.26, 'KRW': 1378.77, 'MXN': 23.579, 'MYR': 4.915, 'NOK': 10.2609, 'NZD': 1.6617, 'PHP': 59.249, 'PLN': 4.5264, 'RON': 4.9472, 'RUB': 86.5, 'SEK': 10.1724, 'SGD': 1.5908, 'THB': 38.642, 'TRY': 9.9331, 'USD': 1.1846, 'ZAR': 16.8355}, '2021-09-13': {'AUD': 1.6094, 'BGN': 1.9558, 'BRL': 6.1796, 'CAD': 1.4932, 'CHF': 1.0884, 'CNY': 7.6038, 'CZK': 25.326, 'DKK': 7.4361, 'GBP': 0.85256, 'HKD': 9.1765, 'HRK': 7.4901, 'HUF': 350.03, 'IDR': 16800, 'ILS': 3.7828, 'INR': 86.75, 'ISK': 151.28, 'JPY': 129.42, 'KRW': 1382.77, 'MXN': 23.449, 'MYR': 4.9065, 'NOK': 10.151, 'NZD': 1.6614, 'PHP': 58.793, 'PLN': 4.5626, 'RON': 4.948, 'RUB': 85.73, 'SEK': 10.1547, 'SGD': 1.5841, 'THB': 38.923, 'TRY': 10.0014, 'USD': 1.1792, 'ZAR': 16.9322}, '2021-09-20': {'AUD': 1.6171, 'BGN': 1.9558, 'BRL': 6.2147, 'CAD': 1.4959, 'CHF': 1.0842, 'CNY': 7.5793, 'CZK': 25.394, 'DKK': 7.4361, 'GBP': 0.85752, 'HKD': 9.1271, 'HRK': 7.4973, 'HUF': 355.4, 'IDR': 16713, 'ILS': 3.7576, 'INR': 86.44, 'ISK': 151.8, 'JPY': 128.68, 'KRW': 1385.46, 'MXN': 23.569, 'MYR': 4.9093, 'NOK': 10.1455, 'NZD': 1.6681, 'PHP': 59.026, 'PLN': 4.6141, 'RON': 4.9501, 'RUB': 85.64, 'SEK': 10.1694, 'SGD': 1.5845, 'THB': 39.131, 'TRY': 10.2134, 'USD': 1.1722, 'ZAR': 17.3562}, '2021-09-27': {'AUD': 1.6087, 'BGN': 1.9558, 'BRL': 6.2795, 'CAD': 1.4766, 'CHF': 1.0828, 'CNY': 7.5203, 'CZK': 25.444, 'DKK': 7.4362, 'GBP': 0.85904, 'HKD': 9.0628, 'HRK': 7.4977, 'HUF': 359.09, 'IDR': 16635, 'ILS': 3.7415, 'INR': 86.3, 'ISK': 150.22, 'JPY': 129.69, 'KRW': 1378.31, 'MXN': 23.669, 'MYR': 4.8712, 'NOK': 10.0992, 'NZD': 1.6785, 'PHP': 59.306, 'PLN': 4.6083, 'RON': 4.948, 'RUB': 84.7, 'SEK': 10.1744, 'SGD': 1.58, 'THB': 39.297, 'TRY': 10.3178, 'USD': 1.1642, 'ZAR': 17.5353}, '2021-10-04': {'AUD': 1.5897, 'BGN': 1.9558, 'BRL': 6.3257, 'CAD': 1.458, 'CHF': 1.0736, 'CNY': 7.467, 'CZK': 25.378, 'DKK': 7.4393, 'GBP': 0.85117, 'HKD': 9.0174, 'HRK': 7.508, 'HUF': 358.12, 'IDR': 16481, 'ILS': 3.7422, 'INR': 86.5, 'ISK': 148.98, 'JPY': 128.96, 'KRW': 1377.24, 'MXN': 23.828, 'MYR': 4.8411, 'NOK': 9.928, 'NZD': 1.6685, 'PHP': 58.699, 'PLN': 4.585, 'RON': 4.9474, 'RUB': 83.78, 'SEK': 10.1393, 'SGD': 1.5722, 'THB': 39.155, 'TRY': 10.2806, 'USD': 1.1582, 'ZAR': 17.317}, '2021-10-11': {'AUD': 1.5683, 'BGN': 1.9558, 'BRL': 6.3735, 'CAD': 1.4383, 'CHF': 1.0718, 'CNY': 7.4599, 'CZK': 25.387, 'DKK': 7.4407, 'GBP': 0.84703, 'HKD': 9.0084, 'HRK': 7.5144, 'HUF': 359.9, 'IDR': 16385, 'ILS': 3.7364, 'INR': 87.2, 'ISK': 149.84, 'JPY': 131.47, 'KRW': 1378.34, 'MXN': 23.936, 'MYR': 4.8186, 'NOK': 9.8319, 'NZD': 1.6574, 'PHP': 58.776, 'PLN': 4.5765, 'RON': 4.9489, 'RUB': 82.95, 'SEK': 10.0772, 'SGD': 1.5651, 'THB': 38.673, 'TRY': 10.5168, 'USD': 1.1579, 'ZAR': 17.1964}, '2021-10-18': {'AUD': 1.5575, 'BGN': 1.9558, 'BRL': 6.5097, 'CAD': 1.4364, 'CHF': 1.0705, 'CNY': 7.4437, 'CZK': 25.549, 'DKK': 7.4404, 'GBP': 0.84375, 'HKD': 9.0435, 'HRK': 7.5131, 'HUF': 362.1, 'IDR': 16432, 'ILS': 3.7373, 'INR': 87.23, 'ISK': 150.0, 'JPY': 132.73, 'KRW': 1370.83, 'MXN': 23.608, 'MYR': 4.8409, 'NOK': 9.7312, 'NZD': 1.6284, 'PHP': 59.072, 'PLN': 4.5874, 'RON': 4.9477, 'RUB': 82.53, 'SEK': 10.0144, 'SGD': 1.5659, 'THB': 38.821, 'TRY': 10.9111, 'USD': 1.163, 'ZAR': 16.9874}, '2021-10-25': {'AUD': 1.5459, 'BGN': 1.9558, 'BRL': 6.5006, 'CAD': 1.4366, 'CHF': 1.0657, 'CNY': 7.4237, 'CZK': 25.705, 'DKK': 7.4393, 'GBP': 0.8439, 'HKD': 9.0324, 'HRK': 7.5214, 'HUF': 363.7, 'IDR': 16479, 'ILS': 3.6995, 'INR': 87.1, 'ISK': 149.8, 'JPY': 132.13, 'KRW': 1358.49, 'MXN': 23.539, 'MYR': 4.8188, 'NOK': 9.7251, 'NZD': 1.6204, 'PHP': 58.811, 'PLN': 4.6162, 'RON': 4.9483, 'RUB': 81.44, 'SEK': 9.9724, 'SGD': 1.5647, 'THB': 38.559, 'TRY': 11.0995, 'USD': 1.1615, 'ZAR': 17.3961}, '2021-11-01': {'AUD': 1.5543, 'BGN': 1.9558, 'BRL': 6.5204, 'CAD': 1.4361, 'CHF': 1.0567, 'CNY': 7.4027, 'CZK': 25.499, 'DKK': 7.4386, 'GBP': 0.8505, 'HKD': 9.005, 'HRK': 7.5243, 'HUF': 359.61, 'IDR': 16564, 'ILS': 3.6176, 'INR': 86.24, 'ISK': 150.32, 'JPY': 131.77, 'KRW': 1366.6, 'MXN': 23.909, 'MYR': 4.8052, 'NOK': 9.8273, 'NZD': 1.6211, 'PHP': 58.45, 'PLN': 4.6056, 'RON': 4.9495, 'RUB': 82.72, 'SEK': 9.9064, 'SGD': 1.5619, 'THB': 38.538, 'TRY': 11.1488, 'USD': 1.1569, 'ZAR': 17.7231}, '2021-11-08': {'AUD': 1.567, 'BGN': 1.9558, 'BRL': 6.3153, 'CAD': 1.4403, 'CHF': 1.0573, 'CNY': 7.3648, 'CZK': 25.23, 'DKK': 7.4376, 'GBP': 0.8549, 'HKD': 8.978, 'HRK': 7.5157, 'HUF': 362.77, 'IDR': 16410, 'ILS': 3.5812, 'INR': 85.6, 'ISK': 150.4, 'JPY': 130.84, 'KRW': 1359.16, 'MXN': 23.574, 'MYR': 4.7923, 'NOK': 9.907, 'NZD': 1.6248, 'PHP': 57.645, 'PLN': 4.6145, 'RON': 4.9485, 'RUB': 82.17, 'SEK': 9.9592, 'SGD': 1.5561, 'THB': 37.844, 'TRY': 11.3308, 'USD': 1.1524, 'ZAR': 17.4534}, '2021-11-15': {'AUD': 1.5542, 'BGN': 1.9558, 'BRL': 6.2369, 'CAD': 1.4267, 'CHF': 1.0513, 'CNY': 7.2455, 'CZK': 25.261, 'DKK': 7.4367, 'GBP': 0.84378, 'HKD': 8.8408, 'HRK': 7.5125, 'HUF': 365.71, 'IDR': 16154, 'ILS': 3.5027, 'INR': 84.32, 'ISK': 149.44, 'JPY': 129.56, 'KRW': 1343.54, 'MXN': 23.48, 'MYR': 4.7373, 'NOK': 9.9387, 'NZD': 1.6145, 'PHP': 57.13, 'PLN': 4.6575, 'RON': 4.9495, 'RUB': 82.74, 'SEK': 10.0436, 'SGD': 1.5393, 'THB': 37.11, 'TRY': 12.0007, 'USD': 1.1349, 'ZAR': 17.5324}, '2021-11-22': {'AUD': 1.5617, 'BGN': 1.9558, 'BRL': 6.2995, 'CAD': 1.4286, 'CHF': 1.0471, 'CNY': 7.1869, 'CZK': 25.491, 'DKK': 7.4365, 'GBP': 0.84192, 'HKD': 8.771, 'HRK': 7.5214, 'HUF': 368.87, 'IDR': 16089, 'ILS': 3.527, 'INR': 83.86, 'ISK': 147.36, 'JPY': 129.07, 'KRW': 1339.35, 'MXN': 23.972, 'MYR': 4.7399, 'NOK': 10.0791, 'NZD': 1.6305, 'PHP': 56.843, 'PLN': 4.6937, 'RON': 4.9495, 'RUB': 84.33, 'SEK': 10.1775, 'SGD': 1.5378, 'THB': 37.456, 'TRY': 13.5085, 'USD': 1.1251, 'ZAR': 17.8998}, '2021-11-29': {'AUD': 1.5901, 'BGN': 1.9558, 'BRL': 6.3613, 'CAD': 1.4462, 'CHF': 1.042, 'CNY': 7.2139, 'CZK': 25.495, 'DKK': 7.4364, 'GBP': 0.84988, 'HKD': 8.8217, 'HRK': 7.5262, 'HUF': 364.87, 'IDR': 16270, 'ILS': 3.5737, 'INR': 84.93, 'ISK': 146.84, 'JPY': 128.12, 'KRW': 1338.63, 'MXN': 24.289, 'MYR': 4.7805, 'NOK': 10.2593, 'NZD': 1.6608, 'PHP': 57.086, 'PLN': 4.6352, 'RON': 4.9491, 'RUB': 83.76, 'SEK': 10.2773, 'SGD': 1.5472, 'THB': 38.216, 'TRY': 15.0648, 'USD': 1.1317, 'ZAR': 18.059}, '2021-12-06': {'AUD': 1.5863, 'BGN': 1.9558, 'BRL': 6.3296, 'CAD': 1.4336, 'CHF': 1.0426, 'CNY': 7.1862, 'CZK': 25.432, 'DKK': 7.4362, 'GBP': 0.85352, 'HKD': 8.8, 'HRK': 7.5255, 'HUF': 365.97, 'IDR': 16231, 'ILS': 3.5292, 'INR': 85.21, 'ISK': 147.44, 'JPY': 128.12, 'KRW': 1330.07, 'MXN': 23.783, 'MYR': 4.7673, 'NOK': 10.1738, 'NZD': 1.6655, 'PHP': 56.852, 'PLN': 4.5999, 'RON': 4.9485, 'RUB': 83.31, 'SEK': 10.2561, 'SGD': 1.5419, 'THB': 37.979, 'TRY': 15.5442, 'USD': 1.1285, 'ZAR': 17.9723}, '2021-12-13': {'AUD': 1.5791, 'BGN': 1.9558, 'BRL': 6.4059, 'CAD': 1.4477, 'CHF': 1.0421, 'CNY': 7.1968, 'CZK': 25.309, 'DKK': 7.4362, 'GBP': 0.85105, 'HKD': 8.8175, 'HRK': 7.5205, 'HUF': 367.96, 'IDR': 16207, 'ILS': 3.5275, 'INR': 85.96, 'ISK': 147.04, 'JPY': 128.51, 'KRW': 1338.29, 'MXN': 23.705, 'MYR': 4.7734, 'NOK': 10.1918, 'NZD': 1.6682, 'PHP': 56.698, 'PLN': 4.6281, 'RON': 4.9496, 'RUB': 83.22, 'SEK': 10.2581, 'SGD': 1.5442, 'THB': 37.714, 'TRY': 17.1042, 'USD': 1.1303, 'ZAR': 18.0658}, '2021-12-20': {'AUD': 1.5747, 'BGN': 1.9558, 'BRL': 6.433, 'CAD': 1.4554, 'CHF': 1.0414, 'CNY': 7.1993, 'CZK': 25.163, 'DKK': 7.4362, 'GBP': 0.848, 'HKD': 8.8136, 'HRK': 7.5169, 'HUF': 368.78, 'IDR': 16116, 'ILS': 3.571, 'INR': 85.25, 'ISK': 146.88, 'JPY': 128.87, 'KRW': 1344.3, 'MXN': 23.42, 'MYR': 4.7557, 'NOK': 10.0834, 'NZD': 1.6675, 'PHP': 56.528, 'PLN': 4.63, 'RON': 4.9496, 'RUB': 83.41, 'SEK': 10.3113, 'SGD': 1.5395, 'THB': 37.961, 'TRY': 14.9442, 'USD': 1.1299, 'ZAR': 17.8111}, '2021-12-27': {'AUD': 1.5627, 'BGN': 1.9558, 'BRL': 6.3759, 'CAD': 1.4475, 'CHF': 1.037, 'CNY': 7.2083, 'CZK': 24.97, 'DKK': 7.4364, 'GBP': 0.8413, 'HKD': 8.8297, 'HRK': 7.5153, 'HUF': 369.77, 'IDR': 16117, 'ILS': 3.5246, 'INR': 84.46, 'ISK': 147.48, 'JPY': 130.15, 'KRW': 1344.75, 'MXN': 23.273, 'MYR': 4.7295, 'NOK': 9.9921, 'NZD': 1.6602, 'PHP': 57.464, 'PLN': 4.6016, 'RON': 4.9496, 'RUB': 84.09, 'SEK': 10.2665, 'SGD': 1.5321, 'THB': 37.864, 'TRY': 14.0533, 'USD': 1.1321, 'ZAR': 17.8798}, '2022-01-03': {'AUD': 1.5711, 'BGN': 1.9558, 'BRL': 6.4124, 'CAD': 1.4405, 'CHF': 1.0382, 'CNY': 7.2086, 'CZK': 24.622, 'DKK': 7.4383, 'GBP': 0.83664, 'HKD': 8.8218, 'HRK': 7.5195, 'HUF': 362.7, 'IDR': 16229, 'ILS': 3.5084, 'INR': 84.2, 'ISK': 147.0, 'JPY': 130.94, 'KRW': 1356.79, 'MXN': 23.183, 'MYR': 4.7456, 'NOK': 10.0092, 'NZD': 1.6683, 'PHP': 57.948, 'PLN': 4.5668, 'RON': 4.9462, 'RUB': 85.4, 'SEK': 10.2883, 'SGD': 1.5345, 'THB': 37.778, 'TRY': 15.3463, 'USD': 1.1313, 'ZAR': 17.8949}, '2022-01-10': {'AUD': 1.577, 'BGN': 1.9558, 'BRL': 6.3639, 'CAD': 1.431, 'CHF': 1.0463, 'CNY': 7.2481, 'CZK': 24.429, 'DKK': 7.4404, 'GBP': 0.83453, 'HKD': 8.8731, 'HRK': 7.5232, 'HUF': 356.63, 'IDR': 16293, 'ILS': 3.548, 'INR': 84.25, 'ISK': 146.84, 'JPY': 130.75, 'KRW': 1356.46, 'MXN': 23.198, 'MYR': 4.767, 'NOK': 9.9777, 'NZD': 1.6744, 'PHP': 58.3, 'PLN': 4.5381, 'RON': 4.9444, 'RUB': 85.84, 'SEK': 10.2763, 'SGD': 1.5378, 'THB': 37.997, 'TRY': 15.6213, 'USD': 1.1387, 'ZAR': 17.6432}, '2022-01-17': {'AUD': 1.5758, 'BGN': 1.9558, 'BRL': 6.2389, 'CAD': 1.4206, 'CHF': 1.0392, 'CNY': 7.21, 'CZK': 24.363, 'DKK': 7.4423, 'GBP': 0.83462, 'HKD': 8.8491, 'HRK': 7.5254, 'HUF': 356.59, 'IDR': 16290, 'ILS': 3.5559, 'INR': 84.55, 'ISK': 145.8, 'JPY': 129.91, 'KRW': 1352.67, 'MXN': 23.164, 'MYR': 4.7565, 'NOK': 9.9746, 'NZD': 1.6772, 'PHP': 58.387, 'PLN': 4.5258, 'RON': 4.9449, 'RUB': 86.87, 'SEK': 10.3502, 'SGD': 1.5307, 'THB': 37.508, 'TRY': 15.3147, 'USD': 1.136, 'ZAR': 17.3875}, '2022-01-24': {'AUD': 1.583, 'BGN': 1.9558, 'BRL': 6.1068, 'CAD': 1.4218, 'CHF': 1.0365, 'CNY': 7.1214, 'CZK': 24.486, 'DKK': 7.443, 'GBP': 0.83504, 'HKD': 8.7456, 'HRK': 7.5299, 'HUF': 359.09, 'IDR': 16134, 'ILS': 3.5794, 'INR': 84.09, 'ISK': 145.28, 'JPY': 128.68, 'KRW': 1349.42, 'MXN': 23.212, 'MYR': 4.7069, 'NOK': 10.066, 'NZD': 1.6916, 'PHP': 57.57, 'PLN': 4.5707, 'RON': 4.9456, 'RUB': 88.08, 'SEK': 10.4904, 'SGD': 1.5147, 'THB': 37.237, 'TRY': 15.2118, 'USD': 1.1229, 'ZAR': 17.2198}, '2022-01-31': {'AUD': 1.5906, 'BGN': 1.9558, 'BRL': 5.999, 'CAD': 1.4356, 'CHF': 1.043, 'CNY': 7.1866, 'CZK': 24.3, 'DKK': 7.4406, 'GBP': 0.83569, 'HKD': 8.8054, 'HRK': 7.528, 'HUF': 354.98, 'IDR': 16229, 'ILS': 3.5953, 'INR': 84.47, 'ISK': 143.08, 'JPY': 129.73, 'KRW': 1358.88, 'MXN': 23.27, 'MYR': 4.7269, 'NOK': 9.9796, 'NZD': 1.7063, 'PHP': 57.73, 'PLN': 4.5587, 'RON': 4.9466, 'RUB': 86.47, 'SEK': 10.4303, 'SGD': 1.5239, 'THB': 37.464, 'TRY': 15.2217, 'USD': 1.1298, 'ZAR': 17.3513}, '2022-02-07': {'AUD': 1.5975, 'BGN': 1.9558, 'BRL': 5.9976, 'CAD': 1.4512, 'CHF': 1.056, 'CNY': 7.2698, 'CZK': 24.305, 'DKK': 7.4424, 'GBP': 0.84302, 'HKD': 8.9085, 'HRK': 7.5257, 'HUF': 353.38, 'IDR': 16404, 'ILS': 3.6774, 'INR': 85.63, 'ISK': 142.32, 'JPY': 131.99, 'KRW': 1367.31, 'MXN': 23.457, 'MYR': 4.7838, 'NOK': 10.0685, 'NZD': 1.7148, 'PHP': 58.672, 'PLN': 4.5201, 'RON': 4.9454, 'RUB': 85.75, 'SEK': 10.4759, 'SGD': 1.5354, 'THB': 37.472, 'TRY': 15.5041, 'USD': 1.1429, 'ZAR': 17.4895}, '2022-02-14': {'AUD': 1.5838, 'BGN': 1.9558, 'BRL': 5.8727, 'CAD': 1.4429, 'CHF': 1.0478, 'CNY': 7.1981, 'CZK': 24.406, 'DKK': 7.4405, 'GBP': 0.83669, 'HKD': 8.8556, 'HRK': 7.5313, 'HUF': 356.1, 'IDR': 16241, 'ILS': 3.6439, 'INR': 85.25, 'ISK': 141.52, 'JPY': 130.95, 'KRW': 1358.09, 'MXN': 23.096, 'MYR': 4.753, 'NOK': 10.1074, 'NZD': 1.7042, 'PHP': 58.264, 'PLN': 4.5133, 'RON': 4.9438, 'RUB': 85.98, 'SEK': 10.5797, 'SGD': 1.5267, 'THB': 36.653, 'TRY': 15.4532, 'USD': 1.1351, 'ZAR': 17.1194}, '2022-02-21': {'AUD': 1.5643, 'BGN': 1.9558, 'BRL': 5.7357, 'CAD': 1.4386, 'CHF': 1.0392, 'CNY': 7.134, 'CZK': 24.613, 'DKK': 7.44, 'GBP': 0.8353, 'HKD': 8.8045, 'HRK': 7.5429, 'HUF': 360.92, 'IDR': 16201, 'ILS': 3.6508, 'INR': 84.54, 'ISK': 141.32, 'JPY': 129.85, 'KRW': 1350.15, 'MXN': 22.957, 'MYR': 4.7268, 'NOK': 10.0745, 'NZD': 1.6748, 'PHP': 57.897, 'PLN': 4.584, 'RON': 4.9472, 'RUB': 91.61, 'SEK': 10.6275, 'SGD': 1.5217, 'THB': 36.578, 'TRY': 15.6769, 'USD': 1.1281, 'ZAR': 17.1224}, '2022-02-28': {'AUD': 1.5231, 'BGN': 1.9558, 'BRL': 5.6819, 'CAD': 1.4088, 'CHF': 1.0209, 'CNY': 7.0069, 'CZK': 25.54, 'DKK': 7.4392, 'GBP': 0.83063, 'HKD': 8.6698, 'HRK': 7.567, 'HUF': 379.36, 'IDR': 15955, 'ILS': 3.5976, 'INR': 84.17, 'ISK': 142.88, 'JPY': 127.98, 'KRW': 1339.13, 'MXN': 22.881, 'MYR': 4.6489, 'NOK': 9.8733, 'NZD': 1.637, 'PHP': 57.208, 'PLN': 4.7805, 'RON': 4.9492, 'RUB': 116.34, 'SEK': 10.729, 'SGD': 1.5065, 'THB': 36.255, 'TRY': 15.578, 'USD': 1.1094, 'ZAR': 17.0751}, '2022-03-07': {'AUD': 1.4968, 'BGN': 1.9558, 'BRL': 5.5329, 'CAD': 1.4033, 'CHF': 1.0176, 'CNY': 6.936, 'CZK': 25.424, 'DKK': 7.4418, 'GBP': 0.83505, 'HKD': 8.5801, 'HRK': 7.5664, 'HUF': 384.75, 'IDR': 15711, 'ILS': 3.5911, 'INR': 84.11, 'ISK': 145.48, 'JPY': 127.18, 'KRW': 1350.95, 'MXN': 23.159, 'MYR': 4.5904, 'NOK': 9.8291, 'NZD': 1.6022, 'PHP': 57.255, 'PLN': 4.8577, 'RON': 4.9491, 'SEK': 10.765, 'SGD': 1.4932, 'THB': 36.32, 'TRY': 16.0875, 'USD': 1.0971, 'ZAR': 16.6544}, '2022-03-14': {'AUD': 1.5107, 'BGN': 1.9558, 'BRL': 5.6063, 'CAD': 1.3991, 'CHF': 1.0321, 'CNY': 6.9976, 'CZK': 24.812, 'DKK': 7.4418, 'GBP': 0.84039, 'HKD': 8.6066, 'HRK': 7.5727, 'HUF': 372.77, 'IDR': 15739, 'ILS': 3.5872, 'INR': 83.86, 'ISK': 143.7, 'JPY': 130.34, 'KRW': 1350.98, 'MXN': 22.8, 'MYR': 4.6199, 'NOK': 9.7961, 'NZD': 1.6134, 'PHP': 57.536, 'PLN': 4.7072, 'RON': 4.9479, 'SEK': 10.4728, 'SGD': 1.4968, 'THB': 36.725, 'TRY': 16.2186, 'USD': 1.1001, 'ZAR': 16.5497}, '2022-03-21': {'AUD': 1.4744, 'BGN': 1.9558, 'BRL': 5.3744, 'CAD': 1.3838, 'CHF': 1.0251, 'CNY': 7.0046, 'CZK': 24.666, 'DKK': 7.4399, 'GBP': 0.8339, 'HKD': 8.6127, 'HRK': 7.5738, 'HUF': 373.24, 'IDR': 15797, 'ILS': 3.5475, 'INR': 83.95, 'ISK': 142.04, 'JPY': 132.99, 'KRW': 1342.01, 'MXN': 22.242, 'MYR': 4.6404, 'NOK': 9.5872, 'NZD': 1.5856, 'PHP': 57.576, 'PLN': 4.7118, 'RON': 4.9474, 'SEK': 10.3795, 'SGD': 1.4933, 'THB': 36.925, 'TRY': 16.3307, 'USD': 1.1005, 'ZAR': 16.2468}, '2022-03-28': {'AUD': 1.4744, 'BGN': 1.9558, 'BRL': 5.2514, 'CAD': 1.3833, 'CHF': 1.0282, 'CNY': 7.0358, 'CZK': 24.463, 'DKK': 7.4388, 'GBP': 0.84277, 'HKD': 8.6645, 'HRK': 7.5737, 'HUF': 369.99, 'IDR': 15885, 'ILS': 3.5355, 'INR': 83.99, 'ISK': 142.24, 'JPY': 135.72, 'KRW': 1345.61, 'MXN': 22.059, 'MYR': 4.6587, 'NOK': 9.6251, 'NZD': 1.5953, 'PHP': 57.437, 'PLN': 4.6677, 'RON': 4.9471, 'SEK': 10.3541, 'SGD': 1.501, 'THB': 37.063, 'TRY': 16.2911, 'USD': 1.1066, 'ZAR': 16.1286}, '2022-04-04': {'AUD': 1.4517, 'BGN': 1.9558, 'BRL': 5.1117, 'CAD': 1.3684, 'CHF': 1.0174, 'CNY': 6.9574, 'CZK': 24.418, 'DKK': 7.4378, 'GBP': 0.83532, 'HKD': 8.569, 'HRK': 7.5475, 'HUF': 374.55, 'IDR': 15699, 'ILS': 3.5186, 'INR': 82.79, 'ISK': 141.08, 'JPY': 135.07, 'KRW': 1332.74, 'MXN': 21.859, 'MYR': 4.611, 'NOK': 9.5417, 'NZD': 1.578, 'PHP': 56.197, 'PLN': 4.6355, 'RON': 4.9429, 'SEK': 10.3039, 'SGD': 1.486, 'THB': 36.664, 'TRY': 16.1099, 'USD': 1.0935, 'ZAR': 16.0182}, '2022-04-11': {'AUD': 1.4617, 'BGN': 1.9558, 'BRL': 5.1042, 'CAD': 1.3706, 'CHF': 1.0154, 'CNY': 6.9216, 'CZK': 24.437, 'DKK': 7.438, 'GBP': 0.83334, 'HKD': 8.5179, 'HRK': 7.5539, 'HUF': 377.77, 'IDR': 15610, 'ILS': 3.4915, 'INR': 82.68, 'ISK': 140.05, 'JPY': 136.47, 'KRW': 1335.98, 'MXN': 21.61, 'MYR': 4.5978, 'NOK': 9.547, 'NZD': 1.594, 'PHP': 56.633, 'PLN': 4.6485, 'RON': 4.9422, 'SEK': 10.3195, 'SGD': 1.4794, 'THB': 36.516, 'TRY': 15.9268, 'USD': 1.0866, 'ZAR': 15.8442}, '2022-04-18': {'AUD': 1.4678, 'BGN': 1.9558, 'BRL': 5.0498, 'CAD': 1.3631, 'CHF': 1.0283, 'CNY': 6.9754, 'CZK': 24.383, 'DKK': 7.44, 'GBP': 0.83342, 'HKD': 8.4976, 'HRK': 7.5622, 'HUF': 371.61, 'IDR': 15566, 'ILS': 3.5097, 'INR': 82.72, 'ISK': 139.45, 'JPY': 138.84, 'KRW': 1342.43, 'MXN': 21.75, 'MYR': 4.6469, 'NOK': 9.5678, 'NZD': 1.6053, 'PHP': 56.808, 'PLN': 4.6382, 'RON': 4.9438, 'SEK': 10.276, 'SGD': 1.4786, 'THB': 36.662, 'TRY': 15.9184, 'USD': 1.0834, 'ZAR': 16.4517}, '2022-04-25': {'AUD': 1.4828, 'BGN': 1.9558, 'BRL': 5.2312, 'CAD': 1.3564, 'CHF': 1.0234, 'CNY': 6.9687, 'CZK': 24.504, 'DKK': 7.4406, 'GBP': 0.84188, 'HKD': 8.3215, 'HRK': 7.5653, 'HUF': 376.81, 'IDR': 15337, 'ILS': 3.5144, 'INR': 81.22, 'ISK': 138.28, 'JPY': 136.72, 'KRW': 1338.2, 'MXN': 21.61, 'MYR': 4.6214, 'NOK': 9.7863, 'NZD': 1.616, 'PHP': 55.436, 'PLN': 4.6716, 'RON': 4.947, 'SEK': 10.36, 'SGD': 1.4625, 'THB': 36.329, 'TRY': 15.7038, 'USD': 1.0606, 'ZAR': 16.7737}, '2022-05-02': {'AUD': 1.4815, 'BGN': 1.9558, 'BRL': 5.268, 'CAD': 1.3534, 'CHF': 1.0325, 'CNY': 6.987, 'CZK': 24.65, 'DKK': 7.4402, 'GBP': 0.8459, 'HKD': 8.2798, 'HRK': 7.548, 'HUF': 379.67, 'IDR': 15269, 'ILS': 3.5648, 'INR': 80.73, 'ISK': 137.66, 'JPY': 137.12, 'KRW': 1335.12, 'MXN': 21.367, 'MYR': 4.5953, 'NOK': 9.913, 'NZD': 1.6355, 'PHP': 55.355, 'PLN': 4.687, 'RON': 4.948, 'SEK': 10.4083, 'SGD': 1.459, 'THB': 36.212, 'TRY': 15.6907, 'USD': 1.055, 'ZAR': 16.753}, '2022-05-09': {'AUD': 1.5099, 'BGN': 1.9558, 'BRL': 5.3955, 'CAD': 1.3624, 'CHF': 1.043, 'CNY': 7.079, 'CZK': 25.02, 'DKK': 7.4398, 'GBP': 0.85326, 'HKD': 8.2359, 'HRK': 7.5304, 'HUF': 381.94, 'IDR': 15295, 'ILS': 3.6108, 'INR': 81.18, 'ISK': 139.62, 'JPY': 136.06, 'KRW': 1341.77, 'MXN': 21.307, 'MYR': 4.6023, 'NOK': 10.1926, 'NZD': 1.6652, 'PHP': 54.998, 'PLN': 4.6777, 'RON': 4.9464, 'SEK': 10.5541, 'SGD': 1.4599, 'THB': 36.339, 'TRY': 16.0499, 'USD': 1.0492, 'ZAR': 16.945}, '2022-05-16': {'AUD': 1.5009, 'BGN': 1.9558, 'BRL': 5.2299, 'CAD': 1.3499, 'CHF': 1.0393, 'CNY': 7.0865, 'CZK': 24.688, 'DKK': 7.442, 'GBP': 0.84733, 'HKD': 8.2548, 'HRK': 7.531, 'HUF': 384.76, 'IDR': 15418, 'ILS': 3.5415, 'INR': 81.65, 'ISK': 138.78, 'JPY': 135.38, 'KRW': 1337.62, 'MXN': 20.983, 'MYR': 4.6217, 'NOK': 10.2363, 'NZD': 1.6556, 'PHP': 55.048, 'PLN': 4.6479, 'RON': 4.9474, 'SEK': 10.4812, 'SGD': 1.4576, 'THB': 36.332, 'TRY': 16.6639, 'USD': 1.0518, 'ZAR': 16.8079}, '2022-05-23': {'AUD': 1.5073, 'BGN': 1.9558, 'BRL': 5.157, 'CAD': 1.3687, 'CHF': 1.0291, 'CNY': 7.1498, 'CZK': 24.656, 'DKK': 7.4406, 'GBP': 0.85155, 'HKD': 8.3918, 'HRK': 7.533, 'HUF': 387.56, 'IDR': 15624, 'ILS': 3.587, 'INR': 82.95, 'ISK': 138.54, 'JPY': 135.98, 'KRW': 1349.75, 'MXN': 21.185, 'MYR': 4.6938, 'NOK': 10.2524, 'NZD': 1.6525, 'PHP': 55.924, 'PLN': 4.6075, 'RON': 4.9436, 'SEK': 10.5325, 'SGD': 1.4685, 'THB': 36.549, 'TRY': 17.3321, 'USD': 1.0691, 'ZAR': 16.793}, '2022-05-30': {'AUD': 1.4882, 'BGN': 1.9558, 'BRL': 5.1044, 'CAD': 1.3552, 'CHF': 1.0295, 'CNY': 7.1508, 'CZK': 24.717, 'DKK': 7.4391, 'GBP': 0.85212, 'HKD': 8.4135, 'HRK': 7.5321, 'HUF': 394.62, 'IDR': 15563, 'ILS': 3.5721, 'INR': 83.19, 'ISK': 137.02, 'JPY': 138.32, 'KRW': 1332.78, 'MXN': 20.984, 'MYR': 4.698, 'NOK': 10.091, 'NZD': 1.6432, 'PHP': 56.406, 'PLN': 4.5863, 'RON': 4.9421, 'SEK': 10.4857, 'SGD': 1.471, 'THB': 36.757, 'TRY': 17.6402, 'USD': 1.0722, 'ZAR': 16.6463}, '2022-06-06': {'AUD': 1.4895, 'BGN': 1.9558, 'BRL': 5.1783, 'CAD': 1.3471, 'CHF': 1.0426, 'CNY': 7.1349, 'CZK': 24.694, 'DKK': 7.439, 'GBP': 0.85411, 'HKD': 8.3887, 'HRK': 7.5226, 'HUF': 392.71, 'IDR': 15499, 'ILS': 3.5738, 'INR': 83.08, 'ISK': 138.5, 'JPY': 142.27, 'KRW': 1344.89, 'MXN': 20.93, 'MYR': 4.6978, 'NOK': 10.1481, 'NZD': 1.6562, 'PHP': 56.573, 'PLN': 4.5859, 'RON': 4.9439, 'SEK': 10.4959, 'SGD': 1.4717, 'THB': 36.894, 'TRY': 18.1282, 'USD': 1.069, 'ZAR': 16.4434}, '2022-06-13': {'AUD': 1.504, 'BGN': 1.9558, 'BRL': 5.3132, 'CAD': 1.3506, 'CHF': 1.029, 'CNY': 7.0203, 'CZK': 24.732, 'DKK': 7.4392, 'GBP': 0.85961, 'HKD': 8.1991, 'HRK': 7.522, 'HUF': 398.91, 'IDR': 15421, 'ILS': 3.6051, 'INR': 81.55, 'ISK': 137.94, 'JPY': 140.21, 'KRW': 1349.33, 'MXN': 21.406, 'MYR': 4.608, 'NOK': 10.403, 'NZD': 1.6661, 'PHP': 55.817, 'PLN': 4.6753, 'RON': 4.9448, 'SEK': 10.647, 'SGD': 1.4519, 'THB': 36.612, 'TRY': 18.0636, 'USD': 1.0445, 'ZAR': 16.7265}, '2022-06-20': {'AUD': 1.519, 'BGN': 1.9558, 'BRL': 5.445, 'CAD': 1.3648, 'CHF': 1.0146, 'CNY': 7.0495, 'CZK': 24.722, 'DKK': 7.4391, 'GBP': 0.85847, 'HKD': 8.2587, 'HRK': 7.5238, 'HUF': 398.25, 'IDR': 15615, 'ILS': 3.6346, 'INR': 82.27, 'ISK': 138.86, 'JPY': 142.62, 'KRW': 1364.64, 'MXN': 21.156, 'MYR': 4.6318, 'NOK': 10.4302, 'NZD': 1.6701, 'PHP': 57.324, 'PLN': 4.6794, 'RON': 4.9463, 'SEK': 10.6703, 'SGD': 1.4605, 'THB': 37.271, 'TRY': 18.2579, 'USD': 1.0521, 'ZAR': 16.7955}, '2022-06-27': {'AUD': 1.5245, 'BGN': 1.9558, 'BRL': 5.5053, 'CAD': 1.3527, 'CHF': 1.0047, 'CNY': 7.0278, 'CZK': 24.736, 'DKK': 7.4395, 'GBP': 0.86296, 'HKD': 8.233, 'HRK': 7.5311, 'HUF': 398.72, 'IDR': 15618, 'ILS': 3.6346, 'INR': 82.77, 'ISK': 139.34, 'JPY': 142.61, 'KRW': 1357.53, 'MXN': 21.069, 'MYR': 4.6197, 'NOK': 10.353, 'NZD': 1.6826, 'PHP': 57.625, 'PLN': 4.6967, 'RON': 4.9445, 'SEK': 10.7037, 'SGD': 1.4588, 'THB': 37.076, 'TRY': 17.4702, 'USD': 1.0492, 'ZAR': 16.956}, '2022-07-04': {'AUD': 1.502, 'BGN': 1.9558, 'BRL': 5.505, 'CAD': 1.33, 'CHF': 0.99368, 'CNY': 6.8724, 'CZK': 24.733, 'DKK': 7.4404, 'GBP': 0.85434, 'HKD': 8.0461, 'HRK': 7.5226, 'HUF': 406.64, 'IDR': 15387, 'ILS': 3.5951, 'INR': 81.17, 'ISK': 139.14, 'JPY': 139.03, 'KRW': 1336.07, 'MXN': 21.01, 'MYR': 4.5342, 'NOK': 10.283, 'NZD': 1.659, 'PHP': 57.019, 'PLN': 4.7522, 'RON': 4.9439, 'SEK': 10.7407, 'SGD': 1.4366, 'THB': 36.86, 'TRY': 17.5625, 'USD': 1.0253, 'ZAR': 17.0392}, '2022-07-11': {'AUD': 1.4878, 'BGN': 1.9558, 'BRL': 5.4247, 'CAD': 1.3123, 'CHF': 0.9862, 'CNY': 6.7719, 'CZK': 24.51, 'DKK': 7.4419, 'GBP': 0.84656, 'HKD': 7.8924, 'HRK': 7.5157, 'HUF': 408.01, 'IDR': 15101, 'ILS': 3.4984, 'INR': 80.13, 'ISK': 138.9, 'JPY': 138.53, 'KRW': 1320.59, 'MXN': 20.891, 'MYR': 4.4628, 'NOK': 10.2694, 'NZD': 1.6405, 'PHP': 56.627, 'PLN': 4.8099, 'RON': 4.9417, 'SEK': 10.6243, 'SGD': 1.4123, 'THB': 36.57, 'TRY': 17.5172, 'USD': 1.0054, 'ZAR': 17.1713}, '2022-07-18': {'AUD': 1.48, 'BGN': 1.9558, 'BRL': 5.5397, 'CAD': 1.3166, 'CHF': 0.98962, 'CNY': 6.8823, 'CZK': 24.513, 'DKK': 7.4445, 'GBP': 0.85175, 'HKD': 8.0011, 'HRK': 7.516, 'HUF': 399.49, 'IDR': 15279, 'ILS': 3.5146, 'INR': 81.47, 'ISK': 139.3, 'JPY': 140.61, 'KRW': 1336.88, 'MXN': 20.872, 'MYR': 4.5386, 'NOK': 10.1777, 'NZD': 1.6388, 'PHP': 57.358, 'PLN': 4.7659, 'RON': 4.9378, 'SEK': 10.4685, 'SGD': 1.4199, 'THB': 37.416, 'TRY': 17.9623, 'USD': 1.0193, 'ZAR': 17.3906}, '2022-07-25': {'AUD': 1.4623, 'BGN': 1.9558, 'BRL': 5.4098, 'CAD': 1.3068, 'CHF': 0.97782, 'CNY': 6.8622, 'CZK': 24.587, 'DKK': 7.4445, 'GBP': 0.84217, 'HKD': 7.9803, 'HRK': 7.5172, 'HUF': 402.85, 'IDR': 15193, 'ILS': 3.4872, 'INR': 81.03, 'ISK': 138.94, 'JPY': 138.15, 'KRW': 1330.35, 'MXN': 20.765, 'MYR': 4.5284, 'NOK': 9.9625, 'NZD': 1.6264, 'PHP': 56.558, 'PLN': 4.7552, 'RON': 4.9336, 'SEK': 10.4266, 'SGD': 1.4085, 'THB': 37.236, 'TRY': 18.1821, 'USD': 1.0166, 'ZAR': 17.0471}, '2022-08-01': {'AUD': 1.4656, 'BGN': 1.9558, 'BRL': 5.3281, 'CAD': 1.3113, 'CHF': 0.9755, 'CNY': 6.8978, 'CZK': 24.632, 'DKK': 7.4431, 'GBP': 0.83899, 'HKD': 8.0171, 'HRK': 7.5176, 'HUF': 396.59, 'IDR': 15206, 'ILS': 3.4306, 'INR': 80.75, 'ISK': 138.98, 'JPY': 135.5, 'KRW': 1333.34, 'MXN': 20.877, 'MYR': 4.5504, 'NOK': 9.9114, 'NZD': 1.622, 'PHP': 56.716, 'PLN': 4.7126, 'RON': 4.9268, 'SEK': 10.3778, 'SGD': 1.4075, 'THB': 36.767, 'TRY': 18.3385, 'USD': 1.0213, 'ZAR': 17.0082}, '2022-08-08': {'AUD': 1.4601, 'BGN': 1.9558, 'BRL': 5.2564, 'CAD': 1.3171, 'CHF': 0.9728, 'CNY': 6.9256, 'CZK': 24.434, 'DKK': 7.44, 'GBP': 0.84517, 'HKD': 8.0515, 'HRK': 7.5142, 'HUF': 395.15, 'IDR': 15177, 'ILS': 3.3698, 'INR': 81.66, 'ISK': 139.98, 'JPY': 137.62, 'KRW': 1339.61, 'MXN': 20.648, 'MYR': 4.5685, 'NOK': 9.8812, 'NZD': 1.6149, 'PHP': 57.005, 'PLN': 4.6958, 'RON': 4.9062, 'SEK': 10.3883, 'SGD': 1.4106, 'THB': 36.36, 'TRY': 18.4205, 'USD': 1.0262, 'ZAR': 16.8677}, '2022-08-15': {'AUD': 1.4565, 'BGN': 1.9558, 'BRL': 5.232, 'CAD': 1.3108, 'CHF': 0.96482, 'CNY': 6.8865, 'CZK': 24.56, 'DKK': 7.4376, 'GBP': 0.84426, 'HKD': 7.9555, 'HRK': 7.5114, 'HUF': 404.31, 'IDR': 15014, 'ILS': 3.3073, 'INR': 80.71, 'ISK': 140.38, 'JPY': 136.78, 'KRW': 1338.25, 'MXN': 20.315, 'MYR': 4.5333, 'NOK': 9.8453, 'NZD': 1.6105, 'PHP': 56.719, 'PLN': 4.7146, 'RON': 4.8823, 'SEK': 10.5592, 'SGD': 1.402, 'THB': 36.088, 'TRY': 18.2766, 'USD': 1.0144, 'ZAR': 16.8813}, '2022-08-22': {'AUD': 1.4389, 'BGN': 1.9558, 'BRL': 5.1058, 'CAD': 1.293, 'CHF': 0.96032, 'CNY': 6.8323, 'CZK': 24.644, 'DKK': 7.4376, 'GBP': 0.84433, 'HKD': 7.8215, 'HRK': 7.5128, 'HUF': 409.78, 'IDR': 14795, 'ILS': 3.2661, 'INR': 79.6, 'ISK': 140.22, 'JPY': 136.45, 'KRW': 1334.92, 'MXN': 19.9178, 'MYR': 4.4652, 'NOK': 9.6917, 'NZD': 1.6076, 'PHP': 55.906, 'PLN': 4.7632, 'RON': 4.8796, 'SEK': 10.593, 'SGD': 1.3888, 'THB': 35.926, 'TRY': 18.0901, 'USD': 0.99678, 'ZAR': 16.9042}, '2022-08-29': {'AUD': 1.4583, 'BGN': 1.9558, 'BRL': 5.1365, 'CAD': 1.3097, 'CHF': 0.97696, 'CNY': 6.9054, 'CZK': 24.538, 'DKK': 7.4374, 'GBP': 0.8601, 'HKD': 7.8511, 'HRK': 7.5161, 'HUF': 403.41, 'IDR': 14874, 'ILS': 3.3463, 'INR': 79.722, 'ISK': 141.62, 'JPY': 139.12, 'KRW': 1351.14, 'MXN': 20.1, 'MYR': 4.4827, 'NOK': 9.8956, 'NZD': 1.6331, 'PHP': 56.439, 'PLN': 4.7249, 'RON': 4.8547, 'SEK': 10.6896, 'SGD': 1.3986, 'THB': 36.535, 'TRY': 18.2013, 'USD': 1.0003, 'ZAR': 17.0488}, '2022-09-05': {'AUD': 1.4709, 'BGN': 1.9558, 'BRL': 5.1743, 'CAD': 1.3063, 'CHF': 0.97276, 'CNY': 6.9187, 'CZK': 24.576, 'DKK': 7.4365, 'GBP': 0.86425, 'HKD': 7.8167, 'HRK': 7.5169, 'HUF': 400.03, 'IDR': 14829, 'ILS': 3.4097, 'INR': 79.44, 'ISK': 141.42, 'JPY': 142.11, 'KRW': 1373.48, 'MXN': 19.92, 'MYR': 4.4797, 'NOK': 9.9613, 'NZD': 1.6403, 'PHP': 56.759, 'PLN': 4.7217, 'RON': 4.8596, 'SEK': 10.6944, 'SGD': 1.3985, 'THB': 36.351, 'TRY': 18.1564, 'USD': 0.99582, 'ZAR': 17.2363}, '2022-09-12': {'AUD': 1.4821, 'BGN': 1.9558, 'BRL': 5.1928, 'CAD': 1.3194, 'CHF': 0.96198, 'CNY': 7.0001, 'CZK': 24.528, 'DKK': 7.4366, 'GBP': 0.86881, 'HKD': 7.8905, 'HRK': 7.5228, 'HUF': 401.32, 'IDR': 14983, 'ILS': 3.4292, 'INR': 79.946, 'ISK': 139.54, 'JPY': 143.61, 'KRW': 1393.52, 'MXN': 20.059, 'MYR': 4.5456, 'NOK': 10.0804, 'NZD': 1.6627, 'PHP': 57.358, 'PLN': 4.7119, 'RON': 4.9224, 'SEK': 10.6733, 'SGD': 1.4096, 'THB': 36.791, 'TRY': 18.3534, 'USD': 1.0053, 'ZAR': 17.4392}, '2022-09-19': {'AUD': 1.4872, 'BGN': 1.9558, 'BRL': 5.1416, 'CAD': 1.3256, 'CHF': 0.962, 'CNY': 6.9833, 'CZK': 24.6, 'DKK': 7.4367, 'GBP': 0.87594, 'HKD': 7.7742, 'HRK': 7.5216, 'HUF': 403.22, 'IDR': 14872, 'ILS': 3.4306, 'INR': 79.477, 'ISK': 140.18, 'JPY': 141.61, 'KRW': 1386.13, 'MXN': 19.8096, 'MYR': 4.5173, 'NOK': 10.262, 'NZD': 1.6847, 'PHP': 57.413, 'PLN': 4.7381, 'RON': 4.9385, 'SEK': 10.8719, 'SGD': 1.4011, 'THB': 36.835, 'TRY': 18.1627, 'USD': 0.9904, 'ZAR': 17.5355}, '2022-09-26': {'AUD': 1.494, 'BGN': 1.9558, 'BRL': 5.1914, 'CAD': 1.3249, 'CHF': 0.95188, 'CNY': 6.9204, 'CZK': 24.637, 'DKK': 7.4366, 'GBP': 0.89346, 'HKD': 7.5844, 'HRK': 7.5278, 'HUF': 414.26, 'IDR': 14689, 'ILS': 3.4179, 'INR': 78.856, 'ISK': 139.78, 'JPY': 139.64, 'KRW': 1383.47, 'MXN': 19.5873, 'MYR': 4.4668, 'NOK': 10.4398, 'NZD': 1.7004, 'PHP': 56.901, 'PLN': 4.8069, 'RON': 4.9464, 'SEK': 10.9115, 'SGD': 1.3898, 'THB': 36.703, 'TRY': 17.8879, 'USD': 0.96618, 'ZAR': 17.3869}, '2022-10-03': {'AUD': 1.5271, 'BGN': 1.9558, 'BRL': 5.1241, 'CAD': 1.3464, 'CHF': 0.9718, 'CNY': 7.006, 'CZK': 24.518, 'DKK': 7.438, 'GBP': 0.8733, 'HKD': 7.7286, 'HRK': 7.5264, 'HUF': 422.52, 'IDR': 15013, 'ILS': 3.4844, 'INR': 80.62, 'ISK': 141.1, 'JPY': 142.51, 'KRW': 1399.39, 'MXN': 19.7407, 'MYR': 4.5703, 'NOK': 10.4841, 'NZD': 1.7332, 'PHP': 57.922, 'PLN': 4.8305, 'RON': 4.9412, 'SEK': 10.8514, 'SGD': 1.4068, 'THB': 36.974, 'TRY': 18.2819, 'USD': 0.98454, 'ZAR': 17.5905}, '2022-10-10': {'AUD': 1.5465, 'BGN': 1.9558, 'BRL': 5.0911, 'CAD': 1.3396, 'CHF': 0.97002, 'CNY': 6.9703, 'CZK': 24.555, 'DKK': 7.4387, 'GBP': 0.87322, 'HKD': 7.6271, 'HRK': 7.5288, 'HUF': 427.09, 'IDR': 14939, 'ILS': 3.4607, 'INR': 79.957, 'ISK': 140.34, 'JPY': 142.32, 'KRW': 1390.59, 'MXN': 19.434, 'MYR': 4.5471, 'NOK': 10.3721, 'NZD': 1.7336, 'PHP': 57.263, 'PLN': 4.8494, 'RON': 4.9377, 'SEK': 10.997, 'SGD': 1.393, 'THB': 36.939, 'TRY': 18.058, 'USD': 0.97164, 'ZAR': 17.68}, '2022-10-17': {'AUD': 1.5585, 'BGN': 1.9558, 'BRL': 5.151, 'CAD': 1.347, 'CHF': 0.9811, 'CNY': 7.0594, 'CZK': 24.551, 'DKK': 7.4387, 'GBP': 0.87031, 'HKD': 7.6758, 'HRK': 7.5313, 'HUF': 413.85, 'IDR': 15182, 'ILS': 3.4662, 'INR': 80.83, 'ISK': 141.14, 'JPY': 146.51, 'KRW': 1400.66, 'MXN': 19.6202, 'MYR': 4.6193, 'NOK': 10.3821, 'NZD': 1.7294, 'PHP': 57.62, 'PLN': 4.7935, 'RON': 4.9261, 'SEK': 10.9818, 'SGD': 1.3933, 'THB': 37.354, 'TRY': 18.1779, 'USD': 0.97786, 'ZAR': 17.8428}, '2022-10-24': {'AUD': 1.5563, 'BGN': 1.9558, 'BRL': 5.2764, 'CAD': 1.3564, 'CHF': 0.9906, 'CNY': 7.2055, 'CZK': 24.497, 'DKK': 7.4393, 'GBP': 0.86736, 'HKD': 7.8061, 'HRK': 7.5324, 'HUF': 411.5, 'IDR': 15494, 'ILS': 3.5159, 'INR': 82.02, 'ISK': 143.06, 'JPY': 147.02, 'KRW': 1420.86, 'MXN': 19.7847, 'MYR': 4.699, 'NOK': 10.3471, 'NZD': 1.7276, 'PHP': 58.136, 'PLN': 4.7617, 'RON': 4.901, 'SEK': 10.9808, 'SGD': 1.4074, 'THB': 37.784, 'TRY': 18.5059, 'USD': 0.99446, 'ZAR': 18.102}, '2022-10-31': {'AUD': 1.5438, 'BGN': 1.9558, 'BRL': 5.0988, 'CAD': 1.3459, 'CHF': 0.98832, 'CNY': 7.1792, 'CZK': 24.488, 'DKK': 7.4433, 'GBP': 0.86596, 'HKD': 7.7546, 'HRK': 7.5343, 'HUF': 406.51, 'IDR': 15482, 'ILS': 3.4951, 'INR': 81.62, 'ISK': 144.14, 'JPY': 145.85, 'KRW': 1402.44, 'MXN': 19.46, 'MYR': 4.6816, 'NOK': 10.2563, 'NZD': 1.6909, 'PHP': 57.712, 'PLN': 4.7018, 'RON': 4.9061, 'SEK': 10.8935, 'SGD': 1.3961, 'THB': 37.302, 'TRY': 18.3943, 'USD': 0.98788, 'ZAR': 17.986}, '2022-11-07': {'AUD': 1.5477, 'BGN': 1.9558, 'BRL': 5.2537, 'CAD': 1.3524, 'CHF': 0.98686, 'CNY': 7.259, 'CZK': 24.321, 'DKK': 7.4384, 'GBP': 0.87425, 'HKD': 7.892, 'HRK': 7.5412, 'HUF': 401.67, 'IDR': 15723, 'ILS': 3.5433, 'INR': 81.91, 'ISK': 147.02, 'JPY': 145.72, 'KRW': 1374.42, 'MXN': 19.6049, 'MYR': 4.7259, 'NOK': 10.2964, 'NZD': 1.6946, 'PHP': 58.337, 'PLN': 4.6924, 'RON': 4.8946, 'SEK': 10.8225, 'SGD': 1.4053, 'THB': 37.058, 'TRY': 18.6936, 'USD': 1.0058, 'ZAR': 17.7915}, '2022-11-14': {'AUD': 1.544, 'BGN': 1.9558, 'BRL': 5.5506, 'CAD': 1.3797, 'CHF': 0.9807, 'CNY': 7.3515, 'CZK': 24.344, 'DKK': 7.4385, 'GBP': 0.87398, 'HKD': 8.1118, 'HRK': 7.5438, 'HUF': 408.78, 'IDR': 16183, 'ILS': 3.5699, 'INR': 84.32, 'ISK': 149.38, 'JPY': 144.98, 'KRW': 1379.22, 'MXN': 20.105, 'MYR': 4.7257, 'NOK': 10.4046, 'NZD': 1.6899, 'PHP': 59.391, 'PLN': 4.7044, 'RON': 4.9206, 'SEK': 10.8845, 'SGD': 1.4223, 'THB': 37.042, 'TRY': 19.2889, 'USD': 1.0364, 'ZAR': 17.949}, '2022-11-21': {'AUD': 1.5457, 'BGN': 1.9558, 'BRL': 5.5122, 'CAD': 1.383, 'CHF': 0.98114, 'CNY': 7.3922, 'CZK': 24.364, 'DKK': 7.4372, 'GBP': 0.86268, 'HKD': 8.0684, 'HRK': 7.5448, 'HUF': 409.61, 'IDR': 16198, 'ILS': 3.5594, 'INR': 84.36, 'ISK': 146.66, 'JPY': 144.96, 'KRW': 1390.12, 'MXN': 20.058, 'MYR': 4.6901, 'NOK': 10.3884, 'NZD': 1.6688, 'PHP': 58.893, 'PLN': 4.7013, 'RON': 4.9302, 'SEK': 10.9043, 'SGD': 1.4244, 'THB': 37.213, 'TRY': 19.2332, 'USD': 1.0327, 'ZAR': 17.749}, '2022-11-28': {'AUD': 1.5461, 'BGN': 1.9558, 'BRL': 5.5142, 'CAD': 1.4061, 'CHF': 0.9858, 'CNY': 7.4198, 'CZK': 24.352, 'DKK': 7.4369, 'GBP': 0.86176, 'HKD': 8.1419, 'HRK': 7.5496, 'HUF': 409.45, 'IDR': 16271, 'ILS': 3.5737, 'INR': 85.02, 'ISK': 147.66, 'JPY': 143.27, 'KRW': 1373.58, 'MXN': 20.075, 'MYR': 4.6409, 'NOK': 10.2942, 'NZD': 1.66, 'PHP': 58.815, 'PLN': 4.6828, 'RON': 4.9257, 'SEK': 10.9066, 'SGD': 1.4243, 'THB': 36.744, 'TRY': 19.4506, 'USD': 1.0439, 'ZAR': 17.9863}, '2022-12-05': {'AUD': 1.5608, 'BGN': 1.9558, 'BRL': 5.5193, 'CAD': 1.432, 'CHF': 0.98806, 'CNY': 7.3468, 'CZK': 24.321, 'DKK': 7.4378, 'GBP': 0.86174, 'HKD': 8.2021, 'HRK': 7.554, 'HUF': 414.61, 'IDR': 16423, 'ILS': 3.6056, 'INR': 86.7, 'ISK': 149.1, 'JPY': 143.58, 'KRW': 1381.83, 'MXN': 20.744, 'MYR': 4.631, 'NOK': 10.4651, 'NZD': 1.6537, 'PHP': 58.632, 'PLN': 4.693, 'RON': 4.9176, 'SEK': 10.9052, 'SGD': 1.4267, 'THB': 36.736, 'TRY': 19.6516, 'USD': 1.0542, 'ZAR': 18.1608}, '2022-12-12': {'AUD': 1.565, 'BGN': 1.9558, 'BRL': 5.6133, 'CAD': 1.4432, 'CHF': 0.9866, 'CNY': 7.3872, 'CZK': 24.28, 'DKK': 7.4386, 'GBP': 0.86261, 'HKD': 8.2414, 'HRK': 7.5439, 'HUF': 409.31, 'IDR': 16563, 'ILS': 3.638, 'INR': 87.63, 'ISK': 150.74, 'JPY': 144.8, 'KRW': 1384.07, 'MXN': 20.944, 'MYR': 4.6805, 'NOK': 10.4539, 'NZD': 1.6562, 'PHP': 59.046, 'PLN': 4.6897, 'RON': 4.9259, 'SEK': 10.9162, 'SGD': 1.4348, 'THB': 36.906, 'TRY': 19.7648, 'USD': 1.0599, 'ZAR': 18.4884}, '2022-12-19': {'AUD': 1.5857, 'BGN': 1.9558, 'BRL': 5.5539, 'CAD': 1.4463, 'CHF': 0.98586, 'CNY': 7.4089, 'CZK': 24.219, 'DKK': 7.4376, 'GBP': 0.87714, 'HKD': 8.2716, 'HRK': 7.5407, 'HUF': 402.56, 'IDR': 16543, 'ILS': 3.6856, 'INR': 87.86, 'ISK': 152.22, 'JPY': 141.36, 'KRW': 1365.96, 'MXN': 20.892, 'MYR': 4.7031, 'NOK': 10.4601, 'NZD': 1.6821, 'PHP': 58.616, 'PLN': 4.6628, 'RON': 4.9044, 'SEK': 11.0569, 'SGD': 1.4357, 'THB': 36.875, 'TRY': 19.8189, 'USD': 1.0618, 'ZAR': 18.2826}, '2022-12-26': {'AUD': 1.5746, 'BGN': 1.9558, 'BRL': 5.597, 'CAD': 1.4415, 'CHF': 0.98588, 'CNY': 7.3988, 'CZK': 24.205, 'DKK': 7.4365, 'GBP': 0.88408, 'HKD': 8.299, 'HRK': 7.5368, 'HUF': 401.36, 'IDR': 16647, 'ILS': 3.7483, 'INR': 88.14, 'ISK': 152.05, 'JPY': 141.7, 'KRW': 1348.18, 'MXN': 20.686, 'MYR': 4.7034, 'NOK': 10.5007, 'NZD': 1.6843, 'PHP': 59.414, 'PLN': 4.6838, 'RON': 4.943, 'SEK': 11.128, 'SGD': 1.4321, 'THB': 36.86, 'TRY': 19.9233, 'USD': 1.0645, 'ZAR': 18.2256}, '2023-01-02': {'AUD': 1.5593, 'BGN': 1.9558, 'BRL': 5.6911, 'CAD': 1.4386, 'CHF': 0.98596, 'CNY': 7.2891, 'CZK': 24.082, 'DKK': 7.4372, 'GBP': 0.88306, 'HKD': 8.2688, 'HUF': 398.81, 'IDR': 16524, 'ILS': 3.7382, 'INR': 87.6, 'ISK': 152.06, 'JPY': 139.71, 'KRW': 1347.27, 'MXN': 20.523, 'MYR': 4.6579, 'NOK': 10.6623, 'NZD': 1.6863, 'PHP': 59.109, 'PLN': 4.6796, 'RON': 4.9301, 'SEK': 11.1835, 'SGD': 1.4219, 'THB': 36.18, 'TRY': 19.8464, 'USD': 1.0586, 'ZAR': 18.072}, '2023-01-09': {'AUD': 1.5561, 'BGN': 1.9558, 'BRL': 5.5971, 'CAD': 1.4409, 'CHF': 0.99694, 'CNY': 7.2703, 'CZK': 24.01, 'DKK': 7.4379, 'GBP': 0.88508, 'HKD': 8.3963, 'HUF': 398.38, 'IDR': 16563, 'ILS': 3.7124, 'INR': 87.89, 'ISK': 154.22, 'JPY': 141.1, 'KRW': 1338.67, 'MXN': 20.464, 'MYR': 4.6902, 'NOK': 10.6889, 'NZD': 1.6897, 'PHP': 59.088, 'PLN': 4.6908, 'RON': 4.9358, 'SEK': 11.2393, 'SGD': 1.4294, 'THB': 35.862, 'TRY': 20.19, 'USD': 1.075, 'ZAR': 18.2368}, '2023-01-16': {'AUD': 1.5581, 'BGN': 1.9558, 'BRL': 5.5739, 'CAD': 1.4545, 'CHF': 0.99626, 'CNY': 7.3261, 'CZK': 23.953, 'DKK': 7.4393, 'GBP': 0.88026, 'HKD': 8.4708, 'HUF': 397.4, 'IDR': 16381, 'ILS': 3.6861, 'INR': 88.17, 'ISK': 154.46, 'JPY': 139.62, 'KRW': 1339.57, 'MXN': 20.401, 'MYR': 4.6663, 'NOK': 10.7111, 'NZD': 1.6883, 'PHP': 59.121, 'PLN': 4.7008, 'RON': 4.9316, 'SEK': 11.21, 'SGD': 1.431, 'THB': 35.691, 'TRY': 20.35, 'USD': 1.0827, 'ZAR': 18.5428}, '2023-01-23': {'AUD': 1.5391, 'BGN': 1.9558, 'BRL': 5.578, 'CAD': 1.4526, 'CHF': 1.0021, 'CNY': 7.3747, 'CZK': 23.841, 'DKK': 7.4387, 'GBP': 0.88083, 'HKD': 8.5135, 'HUF': 391.66, 'IDR': 16286, 'ILS': 3.6895, 'INR': 88.66, 'ISK': 155.86, 'JPY': 141.35, 'KRW': 1341.02, 'MXN': 20.447, 'MYR': 4.6353, 'NOK': 10.7429, 'NZD': 1.6774, 'PHP': 59.261, 'PLN': 4.7136, 'RON': 4.9038, 'SEK': 11.1477, 'SGD': 1.4308, 'THB': 35.669, 'TRY': 20.454, 'USD': 1.0873, 'ZAR': 18.6868}, '2023-01-30': {'AUD': 1.5433, 'BGN': 1.9558, 'BRL': 5.5295, 'CAD': 1.4565, 'CHF': 1.0008, 'CNY': 7.3564, 'CZK': 23.792, 'DKK': 7.4401, 'GBP': 0.88601, 'HKD': 8.5548, 'HUF': 389.08, 'IDR': 16318, 'ILS': 3.7587, 'INR': 89.3, 'ISK': 153.42, 'JPY': 141.2, 'KRW': 1341.81, 'MXN': 20.448, 'MYR': 4.6436, 'NOK': 10.8979, 'NZD': 1.6856, 'PHP': 59.174, 'PLN': 4.7041, 'RON': 4.9085, 'SEK': 11.3293, 'SGD': 1.4313, 'THB': 35.89, 'TRY': 20.528, 'USD': 1.0911, 'ZAR': 18.8222}, '2023-02-06': {'AUD': 1.5465, 'BGN': 1.9558, 'BRL': 5.5779, 'CAD': 1.4401, 'CHF': 0.99026, 'CNY': 7.2874, 'CZK': 23.769, 'DKK': 7.4426, 'GBP': 0.88856, 'HKD': 8.4249, 'HUF': 389.91, 'IDR': 16264, 'ILS': 3.7476, 'INR': 88.67, 'ISK': 151.94, 'JPY': 141.04, 'KRW': 1352.67, 'MXN': 20.32, 'MYR': 4.6173, 'NOK': 10.9955, 'NZD': 1.697, 'PHP': 58.68, 'PLN': 4.7475, 'RON': 4.9001, 'SEK': 11.278, 'SGD': 1.4224, 'THB': 36.048, 'TRY': 20.215, 'USD': 1.0734, 'ZAR': 18.9571}, '2023-02-13': {'AUD': 1.5478, 'BGN': 1.9558, 'BRL': 5.5713, 'CAD': 1.433, 'CHF': 0.98746, 'CNY': 7.3181, 'CZK': 23.711, 'DKK': 7.4494, 'GBP': 0.886, 'HKD': 8.3932, 'HUF': 383.55, 'IDR': 16251, 'ILS': 3.7805, 'INR': 88.53, 'ISK': 153.74, 'JPY': 142.67, 'KRW': 1372.17, 'MXN': 19.8967, 'MYR': 4.6923, 'NOK': 10.9169, 'NZD': 1.7005, 'PHP': 58.898, 'PLN': 4.7727, 'RON': 4.9045, 'SEK': 11.1473, 'SGD': 1.426, 'THB': 36.563, 'TRY': 20.16, 'USD': 1.0694, 'ZAR': 19.2585}, '2023-02-20': {'AUD': 1.5554, 'BGN': 1.9558, 'BRL': 5.4936, 'CAD': 1.4373, 'CHF': 0.98748, 'CNY': 7.3311, 'CZK': 23.684, 'DKK': 7.4449, 'GBP': 0.88199, 'HKD': 8.3406, 'HUF': 381.88, 'IDR': 16158, 'ILS': 3.8614, 'INR': 88.0, 'ISK': 153.7, 'JPY': 143.39, 'KRW': 1384.43, 'MXN': 19.5631, 'MYR': 4.7158, 'NOK': 10.9546, 'NZD': 1.7079, 'PHP': 58.481, 'PLN': 4.74, 'RON': 4.9189, 'SEK': 11.0298, 'SGD': 1.4254, 'THB': 36.83, 'TRY': 20.069, 'USD': 1.0634, 'ZAR': 19.4283}, '2023-02-27': {'AUD': 1.5755, 'BGN': 1.9558, 'BRL': 5.5231, 'CAD': 1.4432, 'CHF': 0.99638, 'CNY': 7.34, 'CZK': 23.507, 'DKK': 7.4426, 'GBP': 0.88333, 'HKD': 8.3321, 'HUF': 376.91, 'IDR': 16218, 'ILS': 3.8776, 'INR': 87.52, 'ISK': 151.54, 'JPY': 144.71, 'KRW': 1392.47, 'MXN': 19.353, 'MYR': 4.7536, 'NOK': 11.0235, 'NZD': 1.7115, 'PHP': 58.518, 'PLN': 4.7, 'RON': 4.9206, 'SEK': 11.1031, 'SGD': 1.4296, 'THB': 37.063, 'TRY': 20.052, 'USD': 1.0615, 'ZAR': 19.3982}, '2023-03-06': {'AUD': 1.5963, 'BGN': 1.9558, 'BRL': 5.4866, 'CAD': 1.4552, 'CHF': 0.99144, 'CNY': 7.364, 'CZK': 23.577, 'DKK': 7.4421, 'GBP': 0.88749, 'HKD': 8.3202, 'HUF': 379.4, 'IDR': 16344, 'ILS': 3.8158, 'INR': 86.88, 'ISK': 149.9, 'JPY': 144.61, 'KRW': 1391.28, 'MXN': 19.1676, 'MYR': 4.7731, 'NOK': 11.2173, 'NZD': 1.7237, 'PHP': 58.449, 'PLN': 4.6868, 'RON': 4.9158, 'SEK': 11.2798, 'SGD': 1.4316, 'THB': 36.972, 'TRY': 20.069, 'USD': 1.0599, 'ZAR': 19.5277}, '2023-03-13': {'AUD': 1.5962, 'BGN': 1.9558, 'BRL': 5.5988, 'CAD': 1.4617, 'CHF': 0.97878, 'CNY': 7.324, 'CZK': 23.888, 'DKK': 7.4453, 'GBP': 0.87795, 'HKD': 8.3512, 'HUF': 394.46, 'IDR': 16408, 'ILS': 3.8806, 'INR': 87.86, 'ISK': 150.34, 'JPY': 141.26, 'KRW': 1394.71, 'MXN': 20.089, 'MYR': 4.7797, 'NOK': 11.387, 'NZD': 1.7119, 'PHP': 58.473, 'PLN': 4.6966, 'RON': 4.9205, 'SEK': 11.2613, 'SGD': 1.433, 'THB': 36.649, 'TRY': 20.204, 'USD': 1.0642, 'ZAR': 19.4483}, '2023-03-20': {'AUD': 1.6135, 'BGN': 1.9558, 'BRL': 5.673, 'CAD': 1.4774, 'CHF': 0.99402, 'CNY': 7.4035, 'CZK': 23.779, 'DKK': 7.4478, 'GBP': 0.87996, 'HKD': 8.4592, 'HUF': 390.18, 'IDR': 16435, 'ILS': 3.9212, 'INR': 88.93, 'ISK': 150.02, 'JPY': 141.85, 'KRW': 1402.38, 'MXN': 20.145, 'MYR': 4.7992, 'NOK': 11.3312, 'NZD': 1.7316, 'PHP': 58.599, 'PLN': 4.6922, 'RON': 4.9241, 'SEK': 11.1678, 'SGD': 1.438, 'THB': 36.882, 'TRY': 20.526, 'USD': 1.078, 'ZAR': 19.7918}, '2023-03-27': {'AUD': 1.6241, 'BGN': 1.9558, 'BRL': 5.5818, 'CAD': 1.4758, 'CHF': 0.99452, 'CNY': 7.4605, 'CZK': 23.614, 'DKK': 7.4496, 'GBP': 0.87966, 'HKD': 8.5127, 'HUF': 381.64, 'IDR': 16337, 'ILS': 3.8774, 'INR': 89.16, 'ISK': 148.62, 'JPY': 143.23, 'KRW': 1410.67, 'MXN': 19.7416, 'MYR': 4.7881, 'NOK': 11.3427, 'NZD': 1.7408, 'PHP': 58.904, 'PLN': 4.6811, 'RON': 4.948, 'SEK': 11.2622, 'SGD': 1.442, 'THB': 37.134, 'TRY': 20.753, 'USD': 1.0844, 'ZAR': 19.6126}, '2023-04-03': {'AUD': 1.6218, 'BGN': 1.9558, 'BRL': 5.5125, 'CAD': 1.4673, 'CHF': 0.99205, 'CNY': 7.5036, 'CZK': 23.424, 'DKK': 7.4506, 'GBP': 0.87576, 'HKD': 8.5614, 'HUF': 376.99, 'IDR': 16286, 'ILS': 3.9099, 'INR': 89.54, 'ISK': 149.6, 'JPY': 144.17, 'KRW': 1434.43, 'MXN': 19.7536, 'MYR': 4.805, 'NOK': 11.3176, 'NZD': 1.7339, 'PHP': 59.496, 'PLN': 4.6791, 'RON': 4.9345, 'SEK': 11.3125, 'SGD': 1.4488, 'THB': 37.206, 'TRY': 20.979, 'USD': 1.0906, 'ZAR': 19.5914}, '2023-04-10': {'AUD': 1.6354, 'BGN': 1.9558, 'BRL': 5.4558, 'CAD': 1.4736, 'CHF': 0.9838, 'CNY': 7.5446, 'CZK': 23.376, 'DKK': 7.4508, 'GBP': 0.88068, 'HKD': 8.6151, 'HUF': 374.92, 'IDR': 16258, 'ILS': 4.0141, 'INR': 89.93, 'ISK': 149.35, 'JPY': 146.2, 'KRW': 1442.38, 'MXN': 19.8676, 'MYR': 4.8379, 'NOK': 11.4692, 'NZD': 1.7607, 'PHP': 60.595, 'PLN': 4.6519, 'RON': 4.9404, 'SEK': 11.3769, 'SGD': 1.458, 'THB': 37.49, 'TRY': 21.211, 'USD': 1.0975, 'ZAR': 19.9851}, '2023-04-17': {'AUD': 1.6323, 'BGN': 1.9558, 'BRL': 5.4704, 'CAD': 1.4733, 'CHF': 0.98152, 'CNY': 7.5438, 'CZK': 23.452, 'DKK': 7.452, 'GBP': 0.88269, 'HKD': 8.6042, 'HUF': 374.93, 'IDR': 16359, 'ILS': 4.0029, 'INR': 90.0, 'ISK': 149.7, 'JPY': 147.1, 'KRW': 1451.47, 'MXN': 19.7707, 'MYR': 4.861, 'NOK': 11.5239, 'NZD': 1.774, 'PHP': 61.544, 'PLN': 4.6185, 'RON': 4.9364, 'SEK': 11.3155, 'SGD': 1.4619, 'THB': 37.685, 'TRY': 21.262, 'USD': 1.0962, 'ZAR': 19.9113}, '2023-04-24': {'AUD': 1.6619, 'BGN': 1.9558, 'BRL': 5.5532, 'CAD': 1.4989, 'CHF': 0.98222, 'CNY': 7.6197, 'CZK': 23.481, 'DKK': 7.4534, 'GBP': 0.88429, 'HKD': 8.648, 'HUF': 374.75, 'IDR': 16333, 'ILS': 4.0135, 'INR': 90.18, 'ISK': 149.78, 'JPY': 148.05, 'KRW': 1474.54, 'MXN': 19.8824, 'MYR': 4.9066, 'NOK': 11.7138, 'NZD': 1.7928, 'PHP': 61.289, 'PLN': 4.592, 'RON': 4.935, 'SEK': 11.3462, 'SGD': 1.4718, 'THB': 37.734, 'TRY': 21.403, 'USD': 1.1017, 'ZAR': 20.141}, '2023-05-01': {'AUD': 1.6475, 'BGN': 1.9558, 'BRL': 5.5132, 'CAD': 1.4966, 'CHF': 0.982, 'CNY': 7.6193, 'CZK': 23.502, 'DKK': 7.4514, 'GBP': 0.87882, 'HKD': 8.6526, 'HUF': 373.51, 'IDR': 16194, 'ILS': 4.0077, 'INR': 90.16, 'ISK': 150.0, 'JPY': 149.27, 'KRW': 1465.15, 'MXN': 19.7574, 'MYR': 4.9076, 'NOK': 11.7914, 'NZD': 1.7632, 'PHP': 60.978, 'PLN': 4.5813, 'RON': 4.9296, 'SEK': 11.2989, 'SGD': 1.4661, 'THB': 37.401, 'TRY': 21.478, 'USD': 1.1024, 'ZAR': 20.17}, '2023-05-08': {'AUD': 1.6244, 'BGN': 1.9558, 'BRL': 5.4407, 'CAD': 1.4684, 'CHF': 0.97748, 'CNY': 7.5911, 'CZK': 23.457, 'DKK': 7.4474, 'GBP': 0.86969, 'HKD': 8.5877, 'HUF': 371.46, 'IDR': 16151, 'ILS': 3.9985, 'INR': 89.85, 'ISK': 150.26, 'JPY': 147.77, 'KRW': 1453.35, 'MXN': 19.3925, 'MYR': 4.8823, 'NOK': 11.5646, 'NZD': 1.7349, 'PHP': 60.959, 'PLN': 4.5472, 'RON': 4.9261, 'SEK': 11.2089, 'SGD': 1.455, 'THB': 36.996, 'TRY': 21.41, 'USD': 1.0954, 'ZAR': 20.53}, '2023-05-15': {'AUD': 1.6271, 'BGN': 1.9558, 'BRL': 5.3533, 'CAD': 1.4618, 'CHF': 0.97396, 'CNY': 7.5785, 'CZK': 23.666, 'DKK': 7.4475, 'GBP': 0.86901, 'HKD': 8.4893, 'HUF': 372.07, 'IDR': 16112, 'ILS': 3.9562, 'INR': 89.37, 'ISK': 151.34, 'JPY': 148.6, 'KRW': 1447.18, 'MXN': 19.0699, 'MYR': 4.8995, 'NOK': 11.6727, 'NZD': 1.7353, 'PHP': 60.672, 'PLN': 4.513, 'RON': 4.959, 'SEK': 11.3245, 'SGD': 1.4543, 'THB': 37.025, 'TRY': 21.407, 'USD': 1.0841, 'ZAR': 20.847}, '2023-05-22': {'AUD': 1.6372, 'BGN': 1.9558, 'BRL': 5.366, 'CAD': 1.4604, 'CHF': 0.9713, 'CNY': 7.5975, 'CZK': 23.664, 'DKK': 7.4484, 'GBP': 0.86888, 'HKD': 8.4392, 'HUF': 373.56, 'IDR': 16067, 'ILS': 3.9895, 'INR': 89.14, 'ISK': 150.82, 'JPY': 149.6, 'KRW': 1423.64, 'MXN': 19.2189, 'MYR': 4.9427, 'NOK': 11.7955, 'NZD': 1.7474, 'PHP': 60.123, 'PLN': 4.5103, 'RON': 4.9628, 'SEK': 11.4826, 'SGD': 1.4528, 'THB': 37.261, 'TRY': 21.448, 'USD': 1.0774, 'ZAR': 20.843}, '2023-05-29': {'AUD': 1.6387, 'BGN': 1.9558, 'BRL': 5.3858, 'CAD': 1.4538, 'CHF': 0.97174, 'CNY': 7.5973, 'CZK': 23.697, 'DKK': 7.4485, 'GBP': 0.86266, 'HKD': 8.3977, 'HUF': 370.9, 'IDR': 16017, 'ILS': 3.9948, 'INR': 88.5, 'ISK': 149.62, 'JPY': 149.63, 'KRW': 1412.88, 'MXN': 18.8694, 'MYR': 4.9342, 'NOK': 11.9217, 'NZD': 1.7722, 'PHP': 60.159, 'PLN': 4.5238, 'RON': 4.9638, 'SEK': 11.6107, 'SGD': 1.4481, 'THB': 37.217, 'TRY': 22.062, 'USD': 1.072, 'ZAR': 21.085}, '2023-06-05': {'AUD': 1.6069, 'BGN': 1.9558, 'BRL': 5.2787, 'CAD': 1.4353, 'CHF': 0.97202, 'CNY': 7.6343, 'CZK': 23.602, 'DKK': 7.4495, 'GBP': 0.86061, 'HKD': 8.4042, 'HUF': 368.8, 'IDR': 15933, 'ILS': 3.9364, 'INR': 88.5, 'ISK': 150.3, 'JPY': 149.74, 'KRW': 1394.09, 'MXN': 18.6747, 'MYR': 4.9351, 'NOK': 11.7745, 'NZD': 1.7641, 'PHP': 60.157, 'PLN': 4.4748, 'RON': 4.9585, 'SEK': 11.642, 'SGD': 1.4447, 'THB': 37.273, 'TRY': 24.135, 'USD': 1.0721, 'ZAR': 20.43}, '2023-06-12': {'AUD': 1.5924, 'BGN': 1.9558, 'BRL': 5.2508, 'CAD': 1.4411, 'CHF': 0.97634, 'CNY': 7.7402, 'CZK': 23.787, 'DKK': 7.452, 'GBP': 0.85593, 'HKD': 8.4796, 'HUF': 371.82, 'IDR': 16148, 'ILS': 3.8786, 'INR': 89.01, 'ISK': 149.3, 'JPY': 151.87, 'KRW': 1385.14, 'MXN': 18.6474, 'MYR': 5.0034, 'NOK': 11.5506, 'NZD': 1.7551, 'PHP': 60.58, 'PLN': 4.4624, 'RON': 4.9589, 'SEK': 11.6064, 'SGD': 1.4523, 'THB': 37.536, 'TRY': 25.597, 'USD': 1.083, 'ZAR': 19.9662}, '2023-06-19': {'AUD': 1.6143, 'BGN': 1.9558, 'BRL': 5.2361, 'CAD': 1.4432, 'CHF': 0.97962, 'CNY': 7.8434, 'CZK': 23.727, 'DKK': 7.4488, 'GBP': 0.85679, 'HKD': 8.553, 'HUF': 371.24, 'IDR': 16377, 'ILS': 3.9497, 'INR': 89.62, 'ISK': 148.78, 'JPY': 155.25, 'KRW': 1414.34, 'MXN': 18.7458, 'MYR': 5.08, 'NOK': 11.7103, 'NZD': 1.7698, 'PHP': 60.844, 'PLN': 4.437, 'RON': 4.9602, 'SEK': 11.7212, 'SGD': 1.4696, 'THB': 38.176, 'TRY': 26.286, 'USD': 1.0929, 'ZAR': 20.105}, '2023-06-26': {'AUD': 1.6424, 'BGN': 1.9558, 'BRL': 5.2644, 'CAD': 1.4434, 'CHF': 0.97838, 'CNY': 7.9067, 'CZK': 23.674, 'DKK': 7.447, 'GBP': 0.86103, 'HKD': 8.556, 'HUF': 370.43, 'IDR': 16412, 'ILS': 4.0106, 'INR': 89.6, 'ISK': 148.82, 'JPY': 157.25, 'KRW': 1431.75, 'MXN': 18.6648, 'MYR': 5.1007, 'NOK': 11.7545, 'NZD': 1.7843, 'PHP': 60.47, 'PLN': 4.4456, 'RON': 4.961, 'SEK': 11.7682, 'SGD': 1.4771, 'THB': 38.672, 'TRY': 28.423, 'USD': 1.0922, 'ZAR': 20.413}, '2023-07-03': {'AUD': 1.6344, 'BGN': 1.9558, 'BRL': 5.2752, 'CAD': 1.4467, 'CHF': 0.9771, 'CNY': 7.8809, 'CZK': 23.793, 'DKK': 7.4487, 'GBP': 0.85589, 'HKD': 8.5259, 'HUF': 380.02, 'IDR': 16419, 'ILS': 4.0352, 'INR': 89.62, 'ISK': 148.62, 'JPY': 157.0, 'KRW': 1419.47, 'MXN': 18.6353, 'MYR': 5.0766, 'NOK': 11.6563, 'NZD': 1.7625, 'PHP': 60.36, 'PLN': 4.455, 'RON': 4.9519, 'SEK': 11.8573, 'SGD': 1.4715, 'THB': 38.176, 'TRY': 28.386, 'USD': 1.0892, 'ZAR': 20.513}, '2023-07-10': {'AUD': 1.6422, 'BGN': 1.9558, 'BRL': 5.3599, 'CAD': 1.4631, 'CHF': 0.96844, 'CNY': 7.9576, 'CZK': 23.811, 'DKK': 7.4514, 'GBP': 0.85473, 'HKD': 8.665, 'HUF': 377.67, 'IDR': 16694, 'ILS': 4.0527, 'INR': 91.15, 'ISK': 146.98, 'JPY': 154.84, 'KRW': 1422.85, 'MXN': 18.8266, 'MYR': 5.1135, 'NOK': 11.361, 'NZD': 1.7692, 'PHP': 60.832, 'PLN': 4.4471, 'RON': 4.9469, 'SEK': 11.6635, 'SGD': 1.4782, 'THB': 38.53, 'TRY': 28.946, 'USD': 1.1074, 'ZAR': 20.38}, '2023-07-17': {'AUD': 1.6504, 'BGN': 1.9558, 'BRL': 5.3812, 'CAD': 1.4777, 'CHF': 0.96384, 'CNY': 8.0463, 'CZK': 23.905, 'DKK': 7.4507, 'GBP': 0.86451, 'HKD': 8.7538, 'HUF': 376.25, 'IDR': 16806, 'ILS': 4.0464, 'INR': 91.9, 'ISK': 146.46, 'JPY': 156.3, 'KRW': 1422.9, 'MXN': 18.8231, 'MYR': 5.094, 'NOK': 11.2361, 'NZD': 1.7885, 'PHP': 61.12, 'PLN': 4.4514, 'RON': 4.9396, 'SEK': 11.4997, 'SGD': 1.4836, 'THB': 38.375, 'TRY': 30.045, 'USD': 1.1205, 'ZAR': 20.104}, '2023-07-24': {'AUD': 1.6418, 'BGN': 1.9558, 'BRL': 5.2445, 'CAD': 1.4605, 'CHF': 0.95676, 'CNY': 7.9216, 'CZK': 24.059, 'DKK': 7.4518, 'GBP': 0.85928, 'HKD': 8.6397, 'HUF': 380.63, 'IDR': 16645, 'ILS': 4.0807, 'INR': 90.72, 'ISK': 145.58, 'JPY': 155.45, 'KRW': 1414.15, 'MXN': 18.6089, 'MYR': 5.0384, 'NOK': 11.1697, 'NZD': 1.7828, 'PHP': 60.479, 'PLN': 4.426, 'RON': 4.9272, 'SEK': 11.5258, 'SGD': 1.47, 'THB': 37.992, 'TRY': 29.83, 'USD': 1.1068, 'ZAR': 19.5426}, '2023-07-31': {'AUD': 1.6625, 'BGN': 1.9558, 'BRL': 5.2693, 'CAD': 1.4605, 'CHF': 0.96096, 'CNY': 7.8663, 'CZK': 24.015, 'DKK': 7.4519, 'GBP': 0.86066, 'HKD': 8.5594, 'HUF': 389.13, 'IDR': 16618, 'ILS': 4.0322, 'INR': 90.57, 'ISK': 144.58, 'JPY': 156.56, 'KRW': 1420.0, 'MXN': 18.6296, 'MYR': 4.9768, 'NOK': 11.2031, 'NZD': 1.7912, 'PHP': 60.625, 'PLN': 4.4386, 'RON': 4.9386, 'SEK': 11.6723, 'SGD': 1.4675, 'THB': 37.779, 'TRY': 29.587, 'USD': 1.0971, 'ZAR': 20.075}, '2023-08-07': {'AUD': 1.6788, 'BGN': 1.9558, 'BRL': 5.3754, 'CAD': 1.4748, 'CHF': 0.96174, 'CNY': 7.9195, 'CZK': 24.217, 'DKK': 7.4513, 'GBP': 0.86246, 'HKD': 8.5827, 'HUF': 386.87, 'IDR': 16709, 'ILS': 4.0721, 'INR': 90.92, 'ISK': 144.74, 'JPY': 157.5, 'KRW': 1445.66, 'MXN': 18.7664, 'MYR': 5.0243, 'NOK': 11.2502, 'NZD': 1.8129, 'PHP': 61.825, 'PLN': 4.4445, 'RON': 4.9461, 'SEK': 11.7255, 'SGD': 1.4787, 'THB': 38.417, 'TRY': 29.686, 'USD': 1.0984, 'ZAR': 20.683}, '2023-08-14': {'AUD': 1.6913, 'BGN': 1.9558, 'BRL': 5.4108, 'CAD': 1.4724, 'CHF': 0.9585, 'CNY': 7.944, 'CZK': 24.07, 'DKK': 7.4517, 'GBP': 0.85741, 'HKD': 8.5366, 'HUF': 385.01, 'IDR': 16710, 'ILS': 4.103, 'INR': 90.7, 'ISK': 144.18, 'JPY': 158.76, 'KRW': 1459.31, 'MXN': 18.6301, 'MYR': 5.0573, 'NOK': 11.4872, 'NZD': 1.8308, 'PHP': 61.814, 'PLN': 4.4645, 'RON': 4.9401, 'SEK': 11.8625, 'SGD': 1.4802, 'THB': 38.539, 'TRY': 29.533, 'USD': 1.0908, 'ZAR': 20.818}, '2023-08-21': {'AUD': 1.6872, 'BGN': 1.9558, 'BRL': 5.3345, 'CAD': 1.4693, 'CHF': 0.95606, 'CNY': 7.9071, 'CZK': 24.08, 'DKK': 7.4533, 'GBP': 0.85542, 'HKD': 8.5062, 'HUF': 382.62, 'IDR': 16598, 'ILS': 4.1061, 'INR': 89.83, 'ISK': 143.34, 'JPY': 158.17, 'KRW': 1445.36, 'MXN': 18.3258, 'MYR': 5.0425, 'NOK': 11.5417, 'NZD': 1.8282, 'PHP': 61.372, 'PLN': 4.4732, 'RON': 4.9388, 'SEK': 11.8982, 'SGD': 1.4709, 'THB': 38.047, 'TRY': 29.164, 'USD': 1.085, 'ZAR': 20.337}, '2023-08-28': {'AUD': 1.6801, 'BGN': 1.9558, 'BRL': 5.297, 'CAD': 1.4711, 'CHF': 0.95686, 'CNY': 7.8969, 'CZK': 24.12, 'DKK': 7.4528, 'GBP': 0.8577, 'HKD': 8.5061, 'HUF': 381.72, 'IDR': 16535, 'ILS': 4.1202, 'INR': 89.68, 'ISK': 142.34, 'JPY': 158.48, 'KRW': 1435.31, 'MXN': 18.2268, 'MYR': 5.0365, 'NOK': 11.5494, 'NZD': 1.8253, 'PHP': 61.449, 'PLN': 4.4708, 'RON': 4.9415, 'SEK': 11.8724, 'SGD': 1.4671, 'THB': 38.044, 'TRY': 28.91, 'USD': 1.0842, 'ZAR': 20.223}, '2023-09-04': {'AUD': 1.6776, 'BGN': 1.9558, 'BRL': 5.3316, 'CAD': 1.4649, 'CHF': 0.95514, 'CNY': 7.8487, 'CZK': 24.262, 'DKK': 7.4563, 'GBP': 0.85645, 'HKD': 8.4178, 'HUF': 386.3, 'IDR': 16428, 'ILS': 4.1039, 'INR': 89.14, 'ISK': 143.62, 'JPY': 158.01, 'KRW': 1429.09, 'MXN': 18.639, 'MYR': 5.0145, 'NOK': 11.4877, 'NZD': 1.8202, 'PHP': 61.019, 'PLN': 4.5332, 'RON': 4.9558, 'SEK': 11.9079, 'SGD': 1.4616, 'THB': 38.089, 'TRY': 28.784, 'USD': 1.0738, 'ZAR': 20.539}, '2023-09-11': {'AUD': 1.6649, 'BGN': 1.9558, 'BRL': 5.2753, 'CAD': 1.4517, 'CHF': 0.95704, 'CNY': 7.8029, 'CZK': 24.513, 'DKK': 7.4593, 'GBP': 0.85908, 'HKD': 8.3854, 'HUF': 384.32, 'IDR': 16460, 'ILS': 4.0891, 'INR': 88.91, 'ISK': 144.34, 'JPY': 157.7, 'KRW': 1422.6, 'MXN': 18.5094, 'MYR': 5.0125, 'NOK': 11.4564, 'NZD': 1.8109, 'PHP': 60.773, 'PLN': 4.6373, 'RON': 4.9684, 'SEK': 11.9075, 'SGD': 1.4586, 'THB': 38.241, 'TRY': 28.844, 'USD': 1.0712, 'ZAR': 20.307}, '2023-09-18': {'AUD': 1.655, 'BGN': 1.9558, 'BRL': 5.2038, 'CAD': 1.4362, 'CHF': 0.96076, 'CNY': 7.7885, 'CZK': 24.405, 'DKK': 7.4547, 'GBP': 0.86488, 'HKD': 8.3461, 'HUF': 385.11, 'IDR': 16404, 'ILS': 4.0668, 'INR': 88.71, 'ISK': 145.22, 'JPY': 157.83, 'KRW': 1419.63, 'MXN': 18.2522, 'MYR': 5.0051, 'NOK': 11.4991, 'NZD': 1.7974, 'PHP': 60.577, 'PLN': 4.6306, 'RON': 4.97, 'SEK': 11.9114, 'SGD': 1.4563, 'THB': 38.386, 'TRY': 28.895, 'USD': 1.0672, 'ZAR': 20.177}, '2023-09-25': {'AUD': 1.6489, 'BGN': 1.9558, 'BRL': 5.2827, 'CAD': 1.4263, 'CHF': 0.96756, 'CNY': 7.7323, 'CZK': 24.395, 'DKK': 7.4568, 'GBP': 0.86717, 'HKD': 8.2783, 'HUF': 390.53, 'IDR': 16387, 'ILS': 4.0499, 'INR': 88.0, 'ISK': 145.06, 'JPY': 157.72, 'KRW': 1426.05, 'MXN': 18.4937, 'MYR': 4.9703, 'NOK': 11.3601, 'NZD': 1.7731, 'PHP': 60.161, 'PLN': 4.6172, 'RON': 4.9723, 'SEK': 11.6293, 'SGD': 1.4469, 'THB': 38.564, 'TRY': 28.913, 'USD': 1.0581, 'ZAR': 20.091}, '2023-10-02': {'AUD': 1.6578, 'BGN': 1.9558, 'BRL': 5.3916, 'CAD': 1.4412, 'CHF': 0.96364, 'CNY': 7.6797, 'CZK': 24.444, 'DKK': 7.4582, 'GBP': 0.86621, 'HKD': 8.236, 'HUF': 387.31, 'IDR': 16413, 'ILS': 4.0517, 'INR': 87.51, 'ISK': 145.66, 'JPY': 157.07, 'KRW': 1423.7, 'MXN': 18.846, 'MYR': 4.9666, 'NOK': 11.4882, 'NZD': 1.7722, 'PHP': 59.646, 'PLN': 4.612, 'RON': 4.972, 'SEK': 11.6017, 'SGD': 1.442, 'THB': 38.898, 'TRY': 28.965, 'USD': 1.0517, 'ZAR': 20.343}, '2023-10-09': {'AUD': 1.6572, 'BGN': 1.9558, 'BRL': 5.3803, 'CAD': 1.4406, 'CHF': 0.95716, 'CNY': 7.7174, 'CZK': 24.565, 'DKK': 7.4569, 'GBP': 0.8637, 'HKD': 8.2706, 'HUF': 387.22, 'IDR': 16596, 'ILS': 4.1791, 'INR': 88.01, 'ISK': 146.26, 'JPY': 157.69, 'KRW': 1423.29, 'MXN': 19.0395, 'MYR': 4.9945, 'NOK': 11.5014, 'NZD': 1.7673, 'PHP': 60.037, 'PLN': 4.5432, 'RON': 4.9652, 'SEK': 11.5736, 'SGD': 1.4441, 'THB': 38.639, 'TRY': 29.329, 'USD': 1.0572, 'ZAR': 20.139}, '2023-10-16': {'AUD': 1.6672, 'BGN': 1.9558, 'BRL': 5.34, 'CAD': 1.4435, 'CHF': 0.94852, 'CNY': 7.7269, 'CZK': 24.665, 'DKK': 7.4611, 'GBP': 0.86857, 'HKD': 8.2645, 'HUF': 384.64, 'IDR': 16668, 'ILS': 4.2473, 'INR': 87.9, 'ISK': 146.46, 'JPY': 158.14, 'KRW': 1430.3, 'MXN': 19.1442, 'MYR': 5.018, 'NOK': 11.6132, 'NZD': 1.7986, 'PHP': 59.982, 'PLN': 4.4514, 'RON': 4.9711, 'SEK': 11.5763, 'SGD': 1.4478, 'THB': 38.441, 'TRY': 29.544, 'USD': 1.0564, 'ZAR': 19.9995}, '2023-10-23': {'AUD': 1.6705, 'BGN': 1.9558, 'BRL': 5.2981, 'CAD': 1.4558, 'CHF': 0.94808, 'CNY': 7.7383, 'CZK': 24.674, 'DKK': 7.4638, 'GBP': 0.87122, 'HKD': 8.2737, 'HUF': 383.38, 'IDR': 16825, 'ILS': 4.3023, 'INR': 87.97, 'ISK': 147.3, 'JPY': 158.66, 'KRW': 1429.95, 'MXN': 19.3031, 'MYR': 5.0611, 'NOK': 11.8291, 'NZD': 1.8168, 'PHP': 60.182, 'PLN': 4.4687, 'RON': 4.9656, 'SEK': 11.7696, 'SGD': 1.4493, 'THB': 38.368, 'TRY': 29.747, 'USD': 1.0577, 'ZAR': 20.161}, '2023-10-30': {'AUD': 1.6592, 'BGN': 1.9558, 'BRL': 5.298, 'CAD': 1.467, 'CHF': 0.9598, 'CNY': 7.7721, 'CZK': 24.568, 'DKK': 7.4638, 'GBP': 0.87189, 'HKD': 8.3125, 'HUF': 382.14, 'IDR': 16828, 'ILS': 4.2566, 'INR': 88.45, 'ISK': 147.94, 'JPY': 159.64, 'KRW': 1422.75, 'MXN': 18.9109, 'MYR': 5.0529, 'NOK': 11.8376, 'NZD': 1.8085, 'PHP': 60.149, 'PLN': 4.4525, 'RON': 4.9671, 'SEK': 11.7997, 'SGD': 1.4498, 'THB': 38.158, 'TRY': 30.094, 'USD': 1.0625, 'ZAR': 19.7352}, '2023-11-06': {'AUD': 1.6649, 'BGN': 1.9558, 'BRL': 5.233, 'CAD': 1.4709, 'CHF': 0.96288, 'CNY': 7.7878, 'CZK': 24.562, 'DKK': 7.4581, 'GBP': 0.8703, 'HKD': 8.3585, 'HUF': 378.76, 'IDR': 16727, 'ILS': 4.1335, 'INR': 89.06, 'ISK': 150.86, 'JPY': 161.19, 'KRW': 1401.03, 'MXN': 18.7966, 'MYR': 5.0033, 'NOK': 11.8964, 'NZD': 1.8039, 'PHP': 59.819, 'PLN': 4.4535, 'RON': 4.9685, 'SEK': 11.6491, 'SGD': 1.4503, 'THB': 38.132, 'TRY': 30.482, 'USD': 1.0694, 'ZAR': 19.7835}, '2023-11-13': {'AUD': 1.6731, 'BGN': 1.9558, 'BRL': 5.2705, 'CAD': 1.4848, 'CHF': 0.96516, 'CNY': 7.8347, 'CZK': 24.509, 'DKK': 7.4591, 'GBP': 0.87298, 'HKD': 8.4268, 'HUF': 377.23, 'IDR': 16808, 'ILS': 4.0957, 'INR': 89.83, 'ISK': 153.5, 'JPY': 162.87, 'KRW': 1410.86, 'MXN': 18.8015, 'MYR': 5.0672, 'NOK': 11.8293, 'NZD': 1.814, 'PHP': 60.262, 'PLN': 4.3992, 'RON': 4.9712, 'SEK': 11.5371, 'SGD': 1.46, 'THB': 38.438, 'TRY': 30.934, 'USD': 1.0797, 'ZAR': 19.9164}, '2023-11-20': {'AUD': 1.6639, 'BGN': 1.9558, 'BRL': 5.3382, 'CAD': 1.4971, 'CHF': 0.96524, 'CNY': 7.8103, 'CZK': 24.461, 'DKK': 7.4557, 'GBP': 0.87149, 'HKD': 8.5144, 'HUF': 379.65, 'IDR': 16966, 'ILS': 4.0739, 'INR': 91.02, 'ISK': 152.42, 'JPY': 162.45, 'KRW': 1417.81, 'MXN': 18.735, 'MYR': 5.1032, 'NOK': 11.7075, 'NZD': 1.8053, 'PHP': 60.558, 'PLN': 4.3647, 'RON': 4.9707, 'SEK': 11.4197, 'SGD': 1.4632, 'THB': 38.511, 'TRY': 31.465, 'USD': 1.0922, 'ZAR': 20.348}, '2023-11-27': {'AUD': 1.6544, 'BGN': 1.9558, 'BRL': 5.3684, 'CAD': 1.4868, 'CHF': 0.9601, 'CNY': 7.8129, 'CZK': 24.322, 'DKK': 7.4554, 'GBP': 0.86486, 'HKD': 8.5349, 'HUF': 379.53, 'IDR': 16938, 'ILS': 4.0571, 'INR': 91.16, 'ISK': 150.7, 'JPY': 162.01, 'KRW': 1420.02, 'MXN': 18.8401, 'MYR': 5.1054, 'NOK': 11.703, 'NZD': 1.7836, 'PHP': 60.64, 'PLN': 4.3468, 'RON': 4.9718, 'SEK': 11.4044, 'SGD': 1.4611, 'THB': 38.312, 'TRY': 31.618, 'USD': 1.0938, 'ZAR': 20.427}, '2023-12-04': {'AUD': 1.6394, 'BGN': 1.9558, 'BRL': 5.307, 'CAD': 1.4663, 'CHF': 0.9449, 'CNY': 7.7247, 'CZK': 24.362, 'DKK': 7.4558, 'GBP': 0.85713, 'HKD': 8.4406, 'HUF': 380.49, 'IDR': 16750, 'ILS': 4.0105, 'INR': 90.06, 'ISK': 150.42, 'JPY': 157.8, 'KRW': 1418.36, 'MXN': 18.7601, 'MYR': 5.0406, 'NOK': 11.7482, 'NZD': 1.7557, 'PHP': 59.78, 'PLN': 4.333, 'RON': 4.9675, 'SEK': 11.2861, 'SGD': 1.4463, 'THB': 38.017, 'TRY': 31.256, 'USD': 1.0802, 'ZAR': 20.369}, '2023-12-11': {'AUD': 1.6376, 'BGN': 1.9558, 'BRL': 5.3508, 'CAD': 1.4648, 'CHF': 0.94702, 'CNY': 7.7551, 'CZK': 24.43, 'DKK': 7.4564, 'GBP': 0.85883, 'HKD': 8.4665, 'HUF': 381.31, 'IDR': 16901, 'ILS': 4.0085, 'INR': 90.33, 'ISK': 150.66, 'JPY': 156.29, 'KRW': 1418.94, 'MXN': 18.799, 'MYR': 5.0777, 'NOK': 11.6731, 'NZD': 1.7617, 'PHP': 60.454, 'PLN': 4.3234, 'RON': 4.972, 'SEK': 11.2496, 'SGD': 1.4502, 'THB': 38.364, 'TRY': 31.473, 'USD': 1.0843, 'ZAR': 20.362}, '2023-12-18': {'AUD': 1.6225, 'BGN': 1.9558, 'BRL': 5.3582, 'CAD': 1.4635, 'CHF': 0.94518, 'CNY': 7.8262, 'CZK': 24.535, 'DKK': 7.4559, 'GBP': 0.86476, 'HKD': 8.5592, 'HUF': 383.61, 'IDR': 16985, 'ILS': 3.9871, 'INR': 91.22, 'ISK': 150.54, 'JPY': 156.94, 'KRW': 1427.35, 'MXN': 18.7422, 'MYR': 5.1147, 'NOK': 11.3178, 'NZD': 1.7505, 'PHP': 61.069, 'PLN': 4.3412, 'RON': 4.9702, 'SEK': 11.1207, 'SGD': 1.4576, 'THB': 38.229, 'TRY': 31.946, 'USD': 1.0966, 'ZAR': 20.209}, '2023-12-25': {'AUD': 1.6226, 'BGN': 1.9558, 'BRL': 5.3597, 'CAD': 1.4651, 'CHF': 0.93333, 'CNY': 7.8845, 'CZK': 24.704, 'DKK': 7.4541, 'GBP': 0.86932, 'HKD': 8.6533, 'HUF': 382.51, 'IDR': 17092, 'ILS': 4.0081, 'INR': 92.18, 'ISK': 150.5, 'JPY': 156.9, 'KRW': 1431.8, 'MXN': 18.7473, 'MYR': 5.1069, 'NOK': 11.2462, 'NZD': 1.7508, 'PHP': 61.5, 'PLN': 4.3353, 'RON': 4.9746, 'SEK': 11.0667, 'SGD': 1.4621, 'THB': 38.023, 'TRY': 32.646, 'USD': 1.1076, 'ZAR': 20.459}, '2024-01-01': {'AUD': 1.625, 'BGN': 1.9558, 'BRL': 5.3726, 'CAD': 1.4586, 'CHF': 0.9315, 'CNY': 7.8195, 'CZK': 24.658, 'DKK': 7.4576, 'GBP': 0.86401, 'HKD': 8.5422, 'HUF': 379.98, 'IDR': 16991, 'ILS': 3.9935, 'INR': 91.06, 'ISK': 150.6, 'JPY': 157.08, 'KRW': 1436.24, 'MXN': 18.644, 'MYR': 5.0645, 'NOK': 11.2988, 'NZD': 1.752, 'PHP': 60.804, 'PLN': 4.3594, 'RON': 4.9725, 'SEK': 11.1929, 'SGD': 1.453, 'THB': 37.731, 'TRY': 32.571, 'USD': 1.0937, 'ZAR': 20.469}, '2024-01-08': {'AUD': 1.6359, 'BGN': 1.9558, 'BRL': 5.3501, 'CAD': 1.4645, 'CHF': 0.9329, 'CNY': 7.8471, 'CZK': 24.598, 'DKK': 7.4581, 'GBP': 0.86041, 'HKD': 8.5612, 'HUF': 378.6, 'IDR': 17032, 'ILS': 4.0915, 'INR': 90.94, 'ISK': 150.3, 'JPY': 158.75, 'KRW': 1442.89, 'MXN': 18.542, 'MYR': 5.0883, 'NOK': 11.3133, 'NZD': 1.7566, 'PHP': 61.285, 'PLN': 4.3488, 'RON': 4.9725, 'SEK': 11.215, 'SGD': 1.4577, 'THB': 38.357, 'TRY': 32.834, 'USD': 1.0952, 'ZAR': 20.445}, '2024-01-15': {'AUD': 1.6521, 'BGN': 1.9558, 'BRL': 5.3437, 'CAD': 1.4679, 'CHF': 0.94018, 'CNY': 7.831, 'CZK': 24.745, 'DKK': 7.4581, 'GBP': 0.85914, 'HKD': 8.5212, 'HUF': 380.69, 'IDR': 16997, 'ILS': 4.098, 'INR': 90.49, 'ISK': 149.38, 'JPY': 160.4, 'KRW': 1454.55, 'MXN': 18.6339, 'MYR': 5.1229, 'NOK': 11.3874, 'NZD': 1.7748, 'PHP': 60.903, 'PLN': 4.3819, 'RON': 4.9762, 'SEK': 11.3472, 'SGD': 1.4605, 'THB': 38.547, 'TRY': 32.829, 'USD': 1.0893, 'ZAR': 20.601}, '2024-01-22': {'AUD': 1.6511, 'BGN': 1.9558, 'BRL': 5.3667, 'CAD': 1.4652, 'CHF': 0.9427, 'CNY': 7.8077, 'CZK': 24.774, 'DKK': 7.4567, 'GBP': 0.85503, 'HKD': 8.5102, 'HUF': 385.28, 'IDR': 17133, 'ILS': 4.0561, 'INR': 90.49, 'ISK': 148.3, 'JPY': 160.74, 'KRW': 1454.6, 'MXN': 18.7042, 'MYR': 5.1479, 'NOK': 11.4019, 'NZD': 1.7806, 'PHP': 61.314, 'PLN': 4.3747, 'RON': 4.977, 'SEK': 11.3461, 'SGD': 1.4584, 'THB': 38.809, 'TRY': 32.937, 'USD': 1.0886, 'ZAR': 20.626}, '2024-01-29': {'AUD': 1.6478, 'BGN': 1.9558, 'BRL': 5.3526, 'CAD': 1.4553, 'CHF': 0.93406, 'CNY': 7.7827, 'CZK': 24.859, 'DKK': 7.4543, 'GBP': 0.85386, 'HKD': 8.4742, 'HUF': 385.85, 'IDR': 17076, 'ILS': 3.9612, 'INR': 90.02, 'ISK': 148.34, 'JPY': 159.77, 'KRW': 1443.21, 'MXN': 18.5982, 'MYR': 5.125, 'NOK': 11.3496, 'NZD': 1.771, 'PHP': 60.943, 'PLN': 4.3431, 'RON': 4.9753, 'SEK': 11.305, 'SGD': 1.452, 'THB': 38.415, 'TRY': 32.932, 'USD': 1.0841, 'ZAR': 20.33}, '2024-02-05': {'AUD': 1.6539, 'BGN': 1.9558, 'BRL': 5.3539, 'CAD': 1.4505, 'CHF': 0.93894, 'CNY': 7.7404, 'CZK': 25.008, 'DKK': 7.457, 'GBP': 0.85436, 'HKD': 8.4149, 'HUF': 387.06, 'IDR': 16881, 'ILS': 3.9444, 'INR': 89.32, 'ISK': 148.42, 'JPY': 160.11, 'KRW': 1431.81, 'MXN': 18.4005, 'MYR': 5.1238, 'NOK': 11.422, 'NZD': 1.7662, 'PHP': 60.322, 'PLN': 4.3368, 'RON': 4.9763, 'SEK': 11.3162, 'SGD': 1.4477, 'THB': 38.497, 'TRY': 32.923, 'USD': 1.0759, 'ZAR': 20.399}, '2024-02-12': {'AUD': 1.6519, 'BGN': 1.9558, 'BRL': 5.337, 'CAD': 1.4518, 'CHF': 0.94758, 'CNY': 7.739, 'CZK': 25.345, 'DKK': 7.4545, 'GBP': 0.85397, 'HKD': 8.4123, 'HUF': 388.25, 'IDR': 16793, 'ILS': 3.9183, 'INR': 89.31, 'ISK': 148.7, 'JPY': 161.22, 'KRW': 1431.81, 'MXN': 18.3726, 'MYR': 5.1379, 'NOK': 11.3352, 'NZD': 1.7617, 'PHP': 60.245, 'PLN': 4.333, 'RON': 4.976, 'SEK': 11.2637, 'SGD': 1.4483, 'THB': 38.712, 'TRY': 33.08, 'USD': 1.0758, 'ZAR': 20.391}, '2024-02-19': {'AUD': 1.6481, 'BGN': 1.9558, 'BRL': 5.3507, 'CAD': 1.4581, 'CHF': 0.9517, 'CNY': 7.7796, 'CZK': 25.385, 'DKK': 7.4544, 'GBP': 0.85538, 'HKD': 8.4576, 'HUF': 388.0, 'IDR': 16896, 'ILS': 3.9449, 'INR': 89.68, 'ISK': 148.58, 'JPY': 162.38, 'KRW': 1440.22, 'MXN': 18.4406, 'MYR': 5.1756, 'NOK': 11.3423, 'NZD': 1.749, 'PHP': 60.488, 'PLN': 4.3191, 'RON': 4.9762, 'SEK': 11.1983, 'SGD': 1.4531, 'THB': 38.892, 'TRY': 33.491, 'USD': 1.0813, 'ZAR': 20.556}, '2024-02-26': {'AUD': 1.6617, 'BGN': 1.9558, 'BRL': 5.3853, 'CAD': 1.4682, 'CHF': 0.95452, 'CNY': 7.7954, 'CZK': 25.349, 'DKK': 7.4543, 'GBP': 0.85581, 'HKD': 8.4766, 'HUF': 391.68, 'IDR': 16992, 'ILS': 3.9034, 'INR': 89.77, 'ISK': 149.34, 'JPY': 162.93, 'KRW': 1445.35, 'MXN': 18.4909, 'MYR': 5.1559, 'NOK': 11.4524, 'NZD': 1.7692, 'PHP': 60.827, 'PLN': 4.3112, 'RON': 4.9695, 'SEK': 11.19, 'SGD': 1.4571, 'THB': 38.908, 'TRY': 33.799, 'USD': 1.0831, 'ZAR': 20.829}, '2024-03-04': {'AUD': 1.6597, 'BGN': 1.9558, 'BRL': 5.3859, 'CAD': 1.4728, 'CHF': 0.95994, 'CNY': 7.8295, 'CZK': 25.347, 'DKK': 7.4545, 'GBP': 0.85447, 'HKD': 8.5106, 'HUF': 394.69, 'IDR': 17047, 'ILS': 3.9039, 'INR': 90.1, 'ISK': 149.06, 'JPY': 162.2, 'KRW': 1446.38, 'MXN': 18.3994, 'MYR': 5.1308, 'NOK': 11.4218, 'NZD': 1.7762, 'PHP': 60.747, 'PLN': 4.3114, 'RON': 4.9706, 'SEK': 11.2273, 'SGD': 1.4567, 'THB': 38.819, 'TRY': 34.539, 'USD': 1.0879, 'ZAR': 20.521}, '2024-03-11': {'AUD': 1.6546, 'BGN': 1.9558, 'BRL': 5.4436, 'CAD': 1.4741, 'CHF': 0.9602, 'CNY': 7.8489, 'CZK': 25.246, 'DKK': 7.4567, 'GBP': 0.85389, 'HKD': 8.5415, 'HUF': 395.67, 'IDR': 16991, 'ILS': 3.9758, 'INR': 90.43, 'ISK': 148.7, 'JPY': 161.48, 'KRW': 1438.92, 'MXN': 18.2991, 'MYR': 5.1191, 'NOK': 11.4752, 'NZD': 1.7764, 'PHP': 60.493, 'PLN': 4.2884, 'RON': 4.9683, 'SEK': 11.2089, 'SGD': 1.4558, 'THB': 38.954, 'TRY': 35.051, 'USD': 1.092, 'ZAR': 20.398}, '2024-03-18': {'AUD': 1.6601, 'BGN': 1.9558, 'BRL': 5.4374, 'CAD': 1.4734, 'CHF': 0.96826, 'CNY': 7.8273, 'CZK': 25.274, 'DKK': 7.4575, 'GBP': 0.85576, 'HKD': 8.497, 'HUF': 394.89, 'IDR': 17096, 'ILS': 3.9566, 'INR': 90.34, 'ISK': 148.78, 'JPY': 163.82, 'KRW': 1452.5, 'MXN': 18.2421, 'MYR': 5.1369, 'NOK': 11.5775, 'NZD': 1.7956, 'PHP': 60.844, 'PLN': 4.3154, 'RON': 4.9728, 'SEK': 11.3582, 'SGD': 1.4586, 'THB': 39.252, 'TRY': 34.996, 'USD': 1.0864, 'ZAR': 20.513}, '2024-03-25': {'AUD': 1.659, 'BGN': 1.9558, 'BRL': 5.4034, 'CAD': 1.4706, 'CHF': 0.97778, 'CNY': 7.8204, 'CZK': 25.292, 'DKK': 7.4584, 'GBP': 0.85706, 'HKD': 8.4719, 'HUF': 395.57, 'IDR': 17151, 'ILS': 3.9624, 'INR': 90.27, 'ISK': 149.65, 'JPY': 163.79, 'KRW': 1457.28, 'MXN': 18.0271, 'MYR': 5.1198, 'NOK': 11.6531, 'NZD': 1.8054, 'PHP': 60.905, 'PLN': 4.311, 'RON': 4.9718, 'SEK': 11.4852, 'SGD': 1.4585, 'THB': 39.393, 'TRY': 34.909, 'USD': 1.0829, 'ZAR': 20.503}, '2024-04-01': {'AUD': 1.6492, 'BGN': 1.9558, 'BRL': 5.4545, 'CAD': 1.4639, 'CHF': 0.9799, 'CNY': 7.8181, 'CZK': 25.33, 'DKK': 7.4588, 'GBP': 0.85696, 'HKD': 8.4598, 'HUF': 392.62, 'IDR': 17181, 'ILS': 4.0264, 'INR': 90.12, 'ISK': 150.2, 'JPY': 163.86, 'KRW': 1458.96, 'MXN': 17.9013, 'MYR': 5.1318, 'NOK': 11.6476, 'NZD': 1.8023, 'PHP': 60.958, 'PLN': 4.2924, 'RON': 4.9688, 'SEK': 11.5422, 'SGD': 1.4586, 'THB': 39.651, 'TRY': 34.571, 'USD': 1.0806, 'ZAR': 20.237}, '2024-04-08': {'AUD': 1.642, 'BGN': 1.9558, 'BRL': 5.4507, 'CAD': 1.4705, 'CHF': 0.97878, 'CNY': 7.8035, 'CZK': 25.366, 'DKK': 7.4596, 'GBP': 0.85584, 'HKD': 8.4491, 'HUF': 390.12, 'IDR': 17207, 'ILS': 4.0188, 'INR': 89.86, 'ISK': 150.42, 'JPY': 164.33, 'KRW': 1469.16, 'MXN': 17.7011, 'MYR': 5.1264, 'NOK': 11.591, 'NZD': 1.7914, 'PHP': 60.949, 'PLN': 4.2615, 'RON': 4.9697, 'SEK': 11.4917, 'SGD': 1.4566, 'THB': 39.381, 'TRY': 34.786, 'USD': 1.0786, 'ZAR': 20.096}, '2024-04-15': {'AUD': 1.6553, 'BGN': 1.9558, 'BRL': 5.5668, 'CAD': 1.4671, 'CHF': 0.97028, 'CNY': 7.7114, 'CZK': 25.257, 'DKK': 7.4613, 'GBP': 0.85499, 'HKD': 8.3422, 'HUF': 394.22, 'IDR': 17248, 'ILS': 4.0059, 'INR': 88.98, 'ISK': 150.5, 'JPY': 164.53, 'KRW': 1472.77, 'MXN': 18.0444, 'MYR': 5.0982, 'NOK': 11.6998, 'NZD': 1.8029, 'PHP': 60.9, 'PLN': 4.3287, 'RON': 4.9757, 'SEK': 11.6347, 'SGD': 1.4506, 'THB': 39.16, 'TRY': 34.628, 'USD': 1.0653, 'ZAR': 20.304}, '2024-04-22': {'AUD': 1.6456, 'BGN': 1.9558, 'BRL': 5.5157, 'CAD': 1.4627, 'CHF': 0.97524, 'CNY': 7.7423, 'CZK': 25.218, 'DKK': 7.4591, 'GBP': 0.85928, 'HKD': 8.369, 'HUF': 393.23, 'IDR': 17320, 'ILS': 4.0452, 'INR': 89.05, 'ISK': 150.26, 'JPY': 166.02, 'KRW': 1471.33, 'MXN': 18.2591, 'MYR': 5.1035, 'NOK': 11.7392, 'NZD': 1.8012, 'PHP': 61.566, 'PLN': 4.3182, 'RON': 4.976, 'SEK': 11.6342, 'SGD': 1.455, 'THB': 39.561, 'TRY': 34.755, 'USD': 1.0685, 'ZAR': 20.386}, '2024-04-29': {'AUD': 1.6365, 'BGN': 1.9558, 'BRL': 5.4894, 'CAD': 1.4667, 'CHF': 0.97665, 'CNY': 7.7625, 'CZK': 25.108, 'DKK': 7.4584, 'GBP': 0.8552, 'HKD': 8.3829, 'HUF': 390.06, 'IDR': 17345, 'ILS': 4.0119, 'INR': 89.46, 'ISK': 150.25, 'JPY': 166.51, 'KRW': 1471.62, 'MXN': 18.2092, 'MYR': 5.1007, 'NOK': 11.7874, 'NZD': 1.7992, 'PHP': 61.677, 'PLN': 4.325, 'RON': 4.976, 'SEK': 11.69, 'SGD': 1.4559, 'THB': 39.613, 'TRY': 34.699, 'USD': 1.072, 'ZAR': 19.9957}, '2024-05-06': {'AUD': 1.6308, 'BGN': 1.9558, 'BRL': 5.4903, 'CAD': 1.4744, 'CHF': 0.97666, 'CNY': 7.769, 'CZK': 24.983, 'DKK': 7.4597, 'GBP': 0.8592, 'HKD': 8.4104, 'HUF': 388.6, 'IDR': 17279, 'ILS': 4.0098, 'INR': 89.84, 'ISK': 150.26, 'JPY': 166.9, 'KRW': 1466.64, 'MXN': 18.1676, 'MYR': 5.0997, 'NOK': 11.7033, 'NZD': 1.7912, 'PHP': 61.697, 'PLN': 4.3057, 'RON': 4.9743, 'SEK': 11.6892, 'SGD': 1.4568, 'THB': 39.643, 'TRY': 34.699, 'USD': 1.0759, 'ZAR': 19.9087}, '2024-05-13': {'AUD': 1.6303, 'BGN': 1.9558, 'BRL': 5.5615, 'CAD': 1.4773, 'CHF': 0.98124, 'CNY': 7.8242, 'CZK': 24.745, 'DKK': 7.4612, 'GBP': 0.85876, 'HKD': 8.4529, 'HUF': 386.58, 'IDR': 17346, 'ILS': 4.0131, 'INR': 90.37, 'ISK': 150.34, 'JPY': 168.57, 'KRW': 1471.82, 'MXN': 18.1492, 'MYR': 5.0947, 'NOK': 11.6571, 'NZD': 1.7852, 'PHP': 62.44, 'PLN': 4.2709, 'RON': 4.9757, 'SEK': 11.6752, 'SGD': 1.461, 'THB': 39.501, 'TRY': 34.908, 'USD': 1.0827, 'ZAR': 19.8414}, '2024-05-20': {'AUD': 1.631, 'BGN': 1.9558, 'BRL': 5.5615, 'CAD': 1.482, 'CHF': 0.99, 'CNY': 7.8537, 'CZK': 24.73, 'DKK': 7.4616, 'GBP': 0.85314, 'HKD': 8.4691, 'HUF': 386.28, 'IDR': 17377, 'ILS': 3.9935, 'INR': 90.33, 'ISK': 150.1, 'JPY': 169.77, 'KRW': 1479.18, 'MXN': 18.0378, 'MYR': 5.0964, 'NOK': 11.5583, 'NZD': 1.7751, 'PHP': 63.038, 'PLN': 4.2591, 'RON': 4.9748, 'SEK': 11.6035, 'SGD': 1.463, 'THB': 39.491, 'TRY': 34.946, 'USD': 1.085, 'ZAR': 19.8219}, '2024-05-27': {'AUD': 1.6332, 'BGN': 1.9558, 'BRL': 5.6205, 'CAD': 1.4821, 'CHF': 0.98726, 'CNY': 7.8586, 'CZK': 24.72, 'DKK': 7.4605, 'GBP': 0.8515, 'HKD': 8.4772, 'HUF': 386.57, 'IDR': 17541, 'ILS': 4.0108, 'INR': 90.36, 'ISK': 149.22, 'JPY': 170.27, 'KRW': 1486.04, 'MXN': 18.2613, 'MYR': 5.1005, 'NOK': 11.4057, 'NZD': 1.7686, 'PHP': 63.322, 'PLN': 4.2634, 'RON': 4.9764, 'SEK': 11.4896, 'SGD': 1.4644, 'THB': 39.829, 'TRY': 34.957, 'USD': 1.085, 'ZAR': 20.05}, '2024-06-03': {'AUD': 1.6344, 'BGN': 1.9558, 'BRL': 5.7256, 'CAD': 1.4858, 'CHF': 0.97124, 'CNY': 7.8724, 'CZK': 24.668, 'DKK': 7.4595, 'GBP': 0.85115, 'HKD': 8.491, 'HUF': 391.0, 'IDR': 17671, 'ILS': 4.0254, 'INR': 90.63, 'ISK': 149.7, 'JPY': 169.47, 'KRW': 1491.34, 'MXN': 19.2721, 'MYR': 5.1064, 'NOK': 11.4678, 'NZD': 1.7599, 'PHP': 63.793, 'PLN': 4.2952, 'RON': 4.9758, 'SEK': 11.3414, 'SGD': 1.4647, 'THB': 39.802, 'TRY': 35.111, 'USD': 1.0868, 'ZAR': 20.45}, '2024-06-10': {'AUD': 1.6246, 'BGN': 1.9558, 'BRL': 5.7632, 'CAD': 1.4781, 'CHF': 0.96204, 'CNY': 7.7924, 'CZK': 24.693, 'DKK': 7.4592, 'GBP': 0.8436, 'HKD': 8.3924, 'HUF': 395.71, 'IDR': 17543, 'ILS': 4.0005, 'INR': 89.76, 'ISK': 149.42, 'JPY': 168.79, 'KRW': 1480.6, 'MXN': 19.9481, 'MYR': 5.068, 'NOK': 11.4609, 'NZD': 1.7506, 'PHP': 63.052, 'PLN': 4.3449, 'RON': 4.977, 'SEK': 11.2617, 'SGD': 1.4528, 'THB': 39.455, 'TRY': 34.836, 'USD': 1.0744, 'ZAR': 19.9138}, '2024-06-17': {'AUD': 1.6137, 'BGN': 1.9558, 'BRL': 5.8125, 'CAD': 1.4704, 'CHF': 0.95324, 'CNY': 7.7782, 'CZK': 24.845, 'DKK': 7.4591, 'GBP': 0.84522, 'HKD': 8.3658, 'HUF': 396.41, 'IDR': 17622, 'ILS': 3.9958, 'INR': 89.5, 'ISK': 149.3, 'JPY': 169.59, 'KRW': 1484.31, 'MXN': 19.7414, 'MYR': 5.0504, 'NOK': 11.3696, 'NZD': 1.7507, 'PHP': 62.998, 'PLN': 4.3367, 'RON': 4.9769, 'SEK': 11.241, 'SGD': 1.45, 'THB': 39.366, 'TRY': 35.087, 'USD': 1.0717, 'ZAR': 19.3844}, '2024-06-24': {'AUD': 1.6095, 'BGN': 1.9558, 'BRL': 5.8524, 'CAD': 1.4655, 'CHF': 0.95968, 'CNY': 7.7774, 'CZK': 24.909, 'DKK': 7.4587, 'GBP': 0.84575, 'HKD': 8.36, 'HUF': 395.93, 'IDR': 17547, 'ILS': 4.0079, 'INR': 89.36, 'ISK': 149.02, 'JPY': 171.41, 'KRW': 1485.25, 'MXN': 19.492, 'MYR': 5.0472, 'NOK': 11.3729, 'NZD': 1.7544, 'PHP': 62.865, 'PLN': 4.307, 'RON': 4.9773, 'SEK': 11.2965, 'SGD': 1.4513, 'THB': 39.345, 'TRY': 35.233, 'USD': 1.0707, 'ZAR': 19.5096}, '2024-07-01': {'AUD': 1.6094, 'BGN': 1.9558, 'BRL': 6.0014, 'CAD': 1.4716, 'CHF': 0.97102, 'CNY': 7.8306, 'CZK': 25.154, 'DKK': 7.4589, 'GBP': 0.847, 'HKD': 8.4138, 'HUF': 394.2, 'IDR': 17603, 'ILS': 4.0371, 'INR': 89.92, 'ISK': 149.14, 'JPY': 173.71, 'KRW': 1490.95, 'MXN': 19.6398, 'MYR': 5.0777, 'NOK': 11.4438, 'NZD': 1.7672, 'PHP': 63.181, 'PLN': 4.2998, 'RON': 4.977, 'SEK': 11.3707, 'SGD': 1.4587, 'THB': 39.532, 'TRY': 35.163, 'USD': 1.0771, 'ZAR': 19.7493}, '2024-07-08': {'AUD': 1.6067, 'BGN': 1.9558, 'BRL': 5.8934, 'CAD': 1.4782, 'CHF': 0.97284, 'CNY': 7.8803, 'CZK': 25.295, 'DKK': 7.46, 'GBP': 0.84351, 'HKD': 8.469, 'HUF': 393.69, 'IDR': 17578, 'ILS': 3.9673, 'INR': 90.57, 'ISK': 149.22, 'JPY': 174.32, 'KRW': 1497.89, 'MXN': 19.4066, 'MYR': 5.0909, 'NOK': 11.5857, 'NZD': 1.7759, 'PHP': 63.328, 'PLN': 4.2614, 'RON': 4.9739, 'SEK': 11.4251, 'SGD': 1.4616, 'THB': 39.387, 'TRY': 35.655, 'USD': 1.0844, 'ZAR': 19.619}, '2024-07-15': {'AUD': 1.6198, 'BGN': 1.9558, 'BRL': 5.969, 'CAD': 1.4926, 'CHF': 0.97126, 'CNY': 7.9259, 'CZK': 25.318, 'DKK': 7.4607, 'GBP': 0.84095, 'HKD': 8.5196, 'HUF': 391.06, 'IDR': 17646, 'ILS': 3.9636, 'INR': 91.23, 'ISK': 149.42, 'JPY': 171.77, 'KRW': 1509.33, 'MXN': 19.4098, 'MYR': 5.0997, 'NOK': 11.7717, 'NZD': 1.7987, 'PHP': 63.676, 'PLN': 4.2779, 'RON': 4.9687, 'SEK': 11.5489, 'SGD': 1.4649, 'THB': 39.381, 'TRY': 36.095, 'USD': 1.0913, 'ZAR': 19.8547}, '2024-07-22': {'AUD': 1.6478, 'BGN': 1.9558, 'BRL': 6.1029, 'CAD': 1.4979, 'CHF': 0.96178, 'CNY': 7.8842, 'CZK': 25.355, 'DKK': 7.4619, 'GBP': 0.84184, 'HKD': 8.4795, 'HUF': 391.54, 'IDR': 17656, 'ILS': 3.9553, 'INR': 90.93, 'ISK': 149.74, 'JPY': 168.23, 'KRW': 1503.87, 'MXN': 19.8012, 'MYR': 5.0713, 'NOK': 11.9683, 'NZD': 1.8295, 'PHP': 63.517, 'PLN': 4.2831, 'RON': 4.9714, 'SEK': 11.6994, 'SGD': 1.46, 'THB': 39.287, 'TRY': 35.805, 'USD': 1.0861, 'ZAR': 19.929}, '2024-07-29': {'AUD': 1.6572, 'BGN': 1.9558, 'BRL': 6.1314, 'CAD': 1.4979, 'CHF': 0.95206, 'CNY': 7.8296, 'CZK': 25.396, 'DKK': 7.462, 'GBP': 0.84463, 'HKD': 8.4516, 'HUF': 395.01, 'IDR': 17608, 'ILS': 4.073, 'INR': 90.58, 'ISK': 149.94, 'JPY': 164.17, 'KRW': 1486.97, 'MXN': 20.2, 'MYR': 4.9598, 'NOK': 11.8594, 'NZD': 1.8286, 'PHP': 63.172, 'PLN': 4.2906, 'RON': 4.975, 'SEK': 11.6263, 'SGD': 1.4489, 'THB': 38.642, 'TRY': 35.817, 'USD': 1.0819, 'ZAR': 19.7688}, '2024-08-05': {'AUD': 1.6755, 'BGN': 1.9558, 'BRL': 6.1834, 'CAD': 1.5065, 'CHF': 0.93682, 'CNY': 7.8243, 'CZK': 25.275, 'DKK': 7.4621, 'GBP': 0.85897, 'HKD': 8.5172, 'HUF': 397.07, 'IDR': 17548, 'ILS': 4.1518, 'INR': 91.8, 'ISK': 150.86, 'JPY': 158.99, 'KRW': 1499.39, 'MXN': 21.081, 'MYR': 4.8732, 'NOK': 11.9209, 'NZD': 1.8284, 'PHP': 62.928, 'PLN': 4.317, 'RON': 4.9769, 'SEK': 11.5015, 'SGD': 1.4477, 'THB': 38.684, 'TRY': 36.61, 'USD': 1.093, 'ZAR': 20.137}, '2024-08-12': {'AUD': 1.6592, 'BGN': 1.9558, 'BRL': 6.0091, 'CAD': 1.5062, 'CHF': 0.95134, 'CNY': 7.8588, 'CZK': 25.203, 'DKK': 7.4621, 'GBP': 0.85508, 'HKD': 8.5526, 'HUF': 394.31, 'IDR': 17301, 'ILS': 4.0856, 'INR': 92.14, 'ISK': 151.86, 'JPY': 161.85, 'KRW': 1495.22, 'MXN': 20.692, 'MYR': 4.8718, 'NOK': 11.7804, 'NZD': 1.8217, 'PHP': 62.656, 'PLN': 4.2888, 'RON': 4.9762, 'SEK': 11.5082, 'SGD': 1.4485, 'THB': 38.446, 'TRY': 36.867, 'USD': 1.0976, 'ZAR': 19.8442}, '2024-08-19': {'AUD': 1.6501, 'BGN': 1.9558, 'BRL': 6.0975, 'CAD': 1.5107, 'CHF': 0.95078, 'CNY': 7.924, 'CZK': 25.124, 'DKK': 7.4618, 'GBP': 0.85083, 'HKD': 8.6512, 'HUF': 393.43, 'IDR': 17259, 'ILS': 4.1203, 'INR': 93.1, 'ISK': 152.26, 'JPY': 162.13, 'KRW': 1483.51, 'MXN': 21.156, 'MYR': 4.8597, 'NOK': 11.7341, 'NZD': 1.8098, 'PHP': 62.682, 'PLN': 4.2756, 'RON': 4.9768, 'SEK': 11.415, 'SGD': 1.4521, 'THB': 38.086, 'TRY': 37.605, 'USD': 1.1099, 'ZAR': 19.8466}, '2024-08-26': {'AUD': 1.6388, 'BGN': 1.9558, 'BRL': 6.1613, 'CAD': 1.4993, 'CHF': 0.9411, 'CNY': 7.911, 'CZK': 25.039, 'DKK': 7.4598, 'GBP': 0.84308, 'HKD': 8.6737, 'HUF': 393.4, 'IDR': 17200, 'ILS': 4.0755, 'INR': 93.33, 'ISK': 153.02, 'JPY': 160.86, 'KRW': 1481.0, 'MXN': 21.719, 'MYR': 4.8208, 'NOK': 11.7033, 'NZD': 1.7826, 'PHP': 62.5, 'PLN': 4.2852, 'RON': 4.9768, 'SEK': 11.359, 'SGD': 1.4493, 'THB': 37.799, 'TRY': 37.872, 'USD': 1.1123, 'ZAR': 19.7152}, '2024-09-02': {'AUD': 1.6433, 'BGN': 1.9558, 'BRL': 6.222, 'CAD': 1.4969, 'CHF': 0.9395, 'CNY': 7.8666, 'CZK': 25.053, 'DKK': 7.4604, 'GBP': 0.84232, 'HKD': 8.6296, 'HUF': 393.24, 'IDR': 17142, 'ILS': 4.0857, 'INR': 92.94, 'ISK': 153.38, 'JPY': 160.44, 'KRW': 1480.58, 'MXN': 22.007, 'MYR': 4.8137, 'NOK': 11.7784, 'NZD': 1.784, 'PHP': 62.358, 'PLN': 4.2761, 'RON': 4.9731, 'SEK': 11.3807, 'SGD': 1.4446, 'THB': 37.597, 'TRY': 37.631, 'USD': 1.1069, 'ZAR': 19.7749}, '2024-09-09': {'AUD': 1.6549, 'BGN': 1.9558, 'BRL': 6.2046, 'CAD': 1.4995, 'CHF': 0.93768, 'CNY': 7.8546, 'CZK': 25.093, 'DKK': 7.4622, 'GBP': 0.84388, 'HKD': 8.6113, 'HUF': 396.15, 'IDR': 17046, 'ILS': 4.139, 'INR': 92.71, 'ISK': 152.38, 'JPY': 157.23, 'KRW': 1479.22, 'MXN': 21.849, 'MYR': 4.7881, 'NOK': 11.9126, 'NZD': 1.7965, 'PHP': 62.034, 'PLN': 4.2872, 'RON': 4.9742, 'SEK': 11.4206, 'SGD': 1.4399, 'THB': 37.208, 'TRY': 37.549, 'USD': 1.1043, 'ZAR': 19.7483}, '2024-09-16': {'AUD': 1.6421, 'BGN': 1.9558, 'BRL': 6.0952, 'CAD': 1.5124, 'CHF': 0.94266, 'CNY': 7.888, 'CZK': 25.096, 'DKK': 7.4607, 'GBP': 0.84129, 'HKD': 8.6837, 'HUF': 394.2, 'IDR': 17013, 'ILS': 4.1868, 'INR': 93.27, 'ISK': 152.38, 'JPY': 158.18, 'KRW': 1476.36, 'MXN': 21.434, 'MYR': 4.7286, 'NOK': 11.7489, 'NZD': 1.7913, 'PHP': 62.029, 'PLN': 4.2702, 'RON': 4.9744, 'SEK': 11.3333, 'SGD': 1.441, 'THB': 36.991, 'TRY': 37.941, 'USD': 1.1142, 'ZAR': 19.5673}, '2024-09-23': {'AUD': 1.6237, 'BGN': 1.9558, 'BRL': 6.1098, 'CAD': 1.5041, 'CHF': 0.94508, 'CNY': 7.8373, 'CZK': 25.139, 'DKK': 7.4574, 'GBP': 0.83431, 'HKD': 8.6783, 'HUF': 395.46, 'IDR': 16889, 'ILS': 4.1687, 'INR': 93.26, 'ISK': 151.02, 'JPY': 160.32, 'KRW': 1480.67, 'MXN': 21.715, 'MYR': 4.6297, 'NOK': 11.7052, 'NZD': 1.7708, 'PHP': 62.505, 'PLN': 4.2701, 'RON': 4.9756, 'SEK': 11.3079, 'SGD': 1.4342, 'THB': 36.434, 'TRY': 38.085, 'USD': 1.1152, 'ZAR': 19.2305}, '2024-09-30': {'AUD': 1.61, 'BGN': 1.9558, 'BRL': 6.0343, 'CAD': 1.499, 'CHF': 0.94004, 'CNY': 7.7781, 'CZK': 25.295, 'DKK': 7.4581, 'GBP': 0.83603, 'HKD': 8.6085, 'HUF': 399.4, 'IDR': 16995, 'ILS': 4.171, 'INR': 93.01, 'ISK': 149.78, 'JPY': 160.62, 'KRW': 1469.35, 'MXN': 21.649, 'MYR': 4.6337, 'NOK': 11.7145, 'NZD': 1.7661, 'PHP': 62.331, 'PLN': 4.2959, 'RON': 4.9762, 'SEK': 11.3325, 'SGD': 1.4301, 'THB': 36.316, 'TRY': 37.912, 'USD': 1.1084, 'ZAR': 19.2455}, '2024-10-07': {'AUD': 1.6248, 'BGN': 1.9558, 'BRL': 6.0588, 'CAD': 1.4995, 'CHF': 0.93932, 'CNY': 7.7324, 'CZK': 25.323, 'DKK': 7.4588, 'GBP': 0.83765, 'HKD': 8.516, 'HUF': 400.76, 'IDR': 17156, 'ILS': 4.132, 'INR': 92.04, 'ISK': 148.66, 'JPY': 162.78, 'KRW': 1476.5, 'MXN': 21.214, 'MYR': 4.6969, 'NOK': 11.7321, 'NZD': 1.7951, 'PHP': 62.539, 'PLN': 4.3044, 'RON': 4.9763, 'SEK': 11.3593, 'SGD': 1.4298, 'THB': 36.642, 'TRY': 37.536, 'USD': 1.0958, 'ZAR': 19.1895}, '2024-10-14': {'AUD': 1.6234, 'BGN': 1.9558, 'BRL': 6.138, 'CAD': 1.5012, 'CHF': 0.93976, 'CNY': 7.7373, 'CZK': 25.257, 'DKK': 7.4603, 'GBP': 0.83449, 'HKD': 8.4566, 'HUF': 400.41, 'IDR': 16905, 'ILS': 4.0799, 'INR': 91.48, 'ISK': 149.26, 'JPY': 162.81, 'KRW': 1485.35, 'MXN': 21.369, 'MYR': 4.6838, 'NOK': 11.7998, 'NZD': 1.7908, 'PHP': 62.799, 'PLN': 4.3006, 'RON': 4.9747, 'SEK': 11.3718, 'SGD': 1.4262, 'THB': 36.159, 'TRY': 37.271, 'USD': 1.0886, 'ZAR': 19.1585}, '2024-10-21': {'AUD': 1.6237, 'BGN': 1.9558, 'BRL': 6.1616, 'CAD': 1.4955, 'CHF': 0.93632, 'CNY': 7.6996, 'CZK': 25.247, 'DKK': 7.4591, 'GBP': 0.83274, 'HKD': 8.4031, 'HUF': 402.21, 'IDR': 16868, 'ILS': 4.0906, 'INR': 90.92, 'ISK': 149.14, 'JPY': 163.85, 'KRW': 1494.57, 'MXN': 21.519, 'MYR': 4.688, 'NOK': 11.8297, 'NZD': 1.7929, 'PHP': 62.652, 'PLN': 4.3338, 'RON': 4.9733, 'SEK': 11.4213, 'SGD': 1.4251, 'THB': 36.352, 'TRY': 37.052, 'USD': 1.0813, 'ZAR': 19.0648}, '2024-10-28': {'AUD': 1.6469, 'BGN': 1.9558, 'BRL': 6.2235, 'CAD': 1.5072, 'CHF': 0.93936, 'CNY': 7.7177, 'CZK': 25.351, 'DKK': 7.4588, 'GBP': 0.83497, 'HKD': 8.4219, 'HUF': 406.89, 'IDR': 17043, 'ILS': 4.0392, 'INR': 91.09, 'ISK': 148.86, 'JPY': 165.72, 'KRW': 1496.83, 'MXN': 21.709, 'MYR': 4.7404, 'NOK': 11.9061, 'NZD': 1.8124, 'PHP': 63.145, 'PLN': 4.3499, 'RON': 4.9746, 'SEK': 11.5593, 'SGD': 1.4337, 'THB': 36.617, 'TRY': 37.156, 'USD': 1.0835, 'ZAR': 19.1491}, '2024-11-04': {'AUD': 1.6345, 'BGN': 1.9558, 'BRL': 6.2306, 'CAD': 1.5024, 'CHF': 0.9401, 'CNY': 7.7188, 'CZK': 25.288, 'DKK': 7.4576, 'GBP': 0.83516, 'HKD': 8.4036, 'HUF': 407.68, 'IDR': 17008, 'ILS': 4.0431, 'INR': 91.08, 'ISK': 148.62, 'JPY': 165.27, 'KRW': 1498.75, 'MXN': 21.775, 'MYR': 4.7365, 'NOK': 11.8675, 'NZD': 1.8053, 'PHP': 63.243, 'PLN': 4.3401, 'RON': 4.9754, 'SEK': 11.6303, 'SGD': 1.4299, 'THB': 36.717, 'TRY': 37.092, 'USD': 1.0811, 'ZAR': 18.9494}}}\n"
          ]
        }
      ],
      "source": [
        "url = \"http://api.frankfurter.app/2020-01-01..2024-11-10\"\n",
        "# Write your code here\n",
        "response = requests.get(url)\n",
        "ratedata = response.json()\n",
        "print(ratedata)"
      ]
    },
    {
      "cell_type": "markdown",
      "metadata": {
        "id": "ugBBrudNuliM"
      },
      "source": [
        "Now, extract the exchange rates and dates into separate lists (this is something you might do to plot the rate later on)\\\n",
        "The first 10 entries of rates and dates should be:\n",
        "\n",
        "\n",
        "[1.3195,\n",
        " 1.3096,\n",
        " 1.3136,\n",
        " 1.3115,\n",
        " 1.3097,\n",
        " 1.3027,\n",
        " 1.3077,\n",
        " 1.2973,\n",
        " 1.2982,\n",
        " 1.3004]\\\n",
        " and\\\n",
        "['2020-01-02',\n",
        " '2020-01-03',\n",
        " '2020-01-06',\n",
        " '2020-01-07',\n",
        " '2020-01-08',\n",
        " '2020-01-09',\n",
        " '2020-01-10',\n",
        " '2020-01-13',\n",
        " '2020-01-14',\n",
        " '2020-01-15']\\\n",
        " respectively\n",
        ""
      ]
    },
    {
      "cell_type": "code",
      "execution_count": 221,
      "metadata": {
        "colab": {
          "base_uri": "https://localhost:8080/"
        },
        "id": "HDYDD91RuliM",
        "outputId": "e6652e33-3c18-47d1-ead3-81163fc92cbd"
      },
      "outputs": [
        {
          "output_type": "stream",
          "name": "stdout",
          "text": [
            "[{'AUD': 1.6018, 'BGN': 1.9558, 'BRL': 4.507, 'CAD': 1.451, 'CHF': 1.0852, 'CNY': 7.7829, 'CZK': 25.386, 'DKK': 7.4725, 'GBP': 0.84972, 'HKD': 8.6958, 'HRK': 7.4454, 'HUF': 330.26, 'IDR': 15539, 'ILS': 3.8728, 'INR': 79.958, 'ISK': 136.9, 'JPY': 121.14, 'KRW': 1299.28, 'MXN': 21.141, 'MYR': 4.5744, 'NOK': 9.8362, 'NZD': 1.6718, 'PHP': 56.904, 'PLN': 4.2518, 'RON': 4.7806, 'RUB': 69.154, 'SEK': 10.4793, 'SGD': 1.5066, 'THB': 33.678, 'TRY': 6.6643, 'USD': 1.117, 'ZAR': 15.8359}, {'AUD': 1.6178, 'BGN': 1.9558, 'BRL': 4.5312, 'CAD': 1.4504, 'CHF': 1.0824, 'CNY': 7.7316, 'CZK': 25.272, 'DKK': 7.4731, 'GBP': 0.85072, 'HKD': 8.6538, 'HRK': 7.4465, 'HUF': 331.68, 'IDR': 15440, 'ILS': 3.8643, 'INR': 79.669, 'ISK': 137.2, 'JPY': 121.23, 'KRW': 1296.59, 'MXN': 20.972, 'MYR': 4.5582, 'NOK': 9.8591, 'NZD': 1.6785, 'PHP': 56.549, 'PLN': 4.2437, 'RON': 4.7775, 'RUB': 68.684, 'SEK': 10.5336, 'SGD': 1.5038, 'THB': 33.698, 'TRY': 6.6069, 'USD': 1.1136, 'ZAR': 15.8655}, {'AUD': 1.613, 'BGN': 1.9558, 'BRL': 4.6229, 'CAD': 1.4533, 'CHF': 1.0761, 'CNY': 7.66, 'CZK': 25.169, 'DKK': 7.473, 'GBP': 0.85527, 'HKD': 8.6529, 'HRK': 7.4427, 'HUF': 333.89, 'IDR': 15227, 'ILS': 3.8531, 'INR': 78.922, 'ISK': 137.08, 'JPY': 122.42, 'KRW': 1289.06, 'MXN': 20.925, 'MYR': 4.5263, 'NOK': 9.8929, 'NZD': 1.6806, 'PHP': 56.447, 'PLN': 4.2305, 'RON': 4.7795, 'RUB': 68.366, 'SEK': 10.5513, 'SGD': 1.4993, 'THB': 33.72, 'TRY': 6.5387, 'USD': 1.1132, 'ZAR': 16.045}, {'AUD': 1.6158, 'BGN': 1.9558, 'BRL': 4.6369, 'CAD': 1.4511, 'CHF': 1.0737, 'CNY': 7.6556, 'CZK': 25.129, 'DKK': 7.4728, 'GBP': 0.84712, 'HKD': 8.6123, 'HRK': 7.4392, 'HUF': 336.1, 'IDR': 15120, 'ILS': 3.8289, 'INR': 78.91, 'ISK': 137.68, 'JPY': 121.77, 'KRW': 1291.81, 'MXN': 20.745, 'MYR': 4.507, 'NOK': 9.9364, 'NZD': 1.6774, 'PHP': 56.457, 'PLN': 4.2451, 'RON': 4.779, 'RUB': 68.486, 'SEK': 10.5487, 'SGD': 1.4954, 'THB': 33.746, 'TRY': 6.5705, 'USD': 1.1083, 'ZAR': 15.9956}, {'AUD': 1.6357, 'BGN': 1.9558, 'BRL': 4.6549, 'CAD': 1.4551, 'CHF': 1.0701, 'CNY': 7.6459, 'CZK': 25.224, 'DKK': 7.4729, 'GBP': 0.8438, 'HKD': 8.5669, 'HRK': 7.4422, 'HUF': 337.5, 'IDR': 15037, 'ILS': 3.8081, 'INR': 78.706, 'ISK': 136.54, 'JPY': 120.11, 'KRW': 1305.76, 'MXN': 20.743, 'MYR': 4.5012, 'NOK': 10.1063, 'NZD': 1.6916, 'PHP': 56.104, 'PLN': 4.2833, 'RON': 4.7784, 'RUB': 69.386, 'SEK': 10.6141, 'SGD': 1.5001, 'THB': 34.15, 'TRY': 6.5737, 'USD': 1.1022, 'ZAR': 16.1994}, {'AUD': 1.6392, 'BGN': 1.9558, 'BRL': 4.6824, 'CAD': 1.4635, 'CHF': 1.0702, 'CNY': 7.7045, 'CZK': 25.06, 'DKK': 7.4727, 'GBP': 0.84731, 'HKD': 8.558, 'HRK': 7.4533, 'HUF': 336.94, 'IDR': 15091, 'ILS': 3.792, 'INR': 78.559, 'ISK': 137.86, 'JPY': 120.59, 'KRW': 1308.88, 'MXN': 20.599, 'MYR': 4.5419, 'NOK': 10.1734, 'NZD': 1.706, 'PHP': 55.998, 'PLN': 4.2663, 'RON': 4.7711, 'RUB': 69.796, 'SEK': 10.5908, 'SGD': 1.5193, 'THB': 34.241, 'TRY': 6.5969, 'USD': 1.1022, 'ZAR': 16.3509}, {'AUD': 1.6219, 'BGN': 1.9558, 'BRL': 4.712, 'CAD': 1.4462, 'CHF': 1.0657, 'CNY': 7.6043, 'CZK': 24.906, 'DKK': 7.4719, 'GBP': 0.83919, 'HKD': 8.4619, 'HRK': 7.4544, 'HUF': 337.52, 'IDR': 14926, 'ILS': 3.7283, 'INR': 77.71, 'ISK': 137.78, 'JPY': 119.65, 'KRW': 1289.96, 'MXN': 20.326, 'MYR': 4.5103, 'NOK': 10.0652, 'NZD': 1.6939, 'PHP': 55.115, 'PLN': 4.2556, 'RON': 4.767, 'RUB': 69.223, 'SEK': 10.5195, 'SGD': 1.5129, 'THB': 33.999, 'TRY': 6.5835, 'USD': 1.0895, 'ZAR': 16.2167}, {'AUD': 1.6225, 'BGN': 1.9558, 'BRL': 4.7165, 'CAD': 1.4317, 'CHF': 1.0621, 'CNY': 7.5729, 'CZK': 24.95, 'DKK': 7.4696, 'GBP': 0.83344, 'HKD': 8.4037, 'HRK': 7.4469, 'HUF': 336.18, 'IDR': 14803, 'ILS': 3.702, 'INR': 77.399, 'ISK': 137.98, 'JPY': 119.78, 'KRW': 1293.49, 'MXN': 20.208, 'MYR': 4.5045, 'NOK': 10.0552, 'NZD': 1.6964, 'PHP': 54.776, 'PLN': 4.2748, 'RON': 4.788, 'RUB': 68.94, 'SEK': 10.5648, 'SGD': 1.5076, 'THB': 33.867, 'TRY': 6.5746, 'USD': 1.0808, 'ZAR': 16.2449}, {'AUD': 1.6588, 'BGN': 1.9558, 'BRL': 4.8198, 'CAD': 1.4527, 'CHF': 1.061, 'CNY': 7.639, 'CZK': 25.286, 'DKK': 7.4712, 'GBP': 0.84385, 'HKD': 8.4903, 'HRK': 7.4628, 'HUF': 338.05, 'IDR': 15311, 'ILS': 3.7504, 'INR': 78.259, 'ISK': 139.3, 'JPY': 120.08, 'KRW': 1322.0, 'MXN': 21.009, 'MYR': 4.5999, 'NOK': 10.2369, 'NZD': 1.7292, 'PHP': 55.588, 'PLN': 4.3096, 'RON': 4.8088, 'RUB': 71.683, 'SEK': 10.5965, 'SGD': 1.5229, 'THB': 34.545, 'TRY': 6.7231, 'USD': 1.0895, 'ZAR': 16.6435}, {'AUD': 1.6945, 'BGN': 1.9558, 'BRL': 5.0869, 'CAD': 1.4962, 'CHF': 1.064, 'CNY': 7.7629, 'CZK': 25.429, 'DKK': 7.4719, 'GBP': 0.86962, 'HKD': 8.6892, 'HRK': 7.4895, 'HUF': 335.95, 'IDR': 15980, 'ILS': 3.8827, 'INR': 81.92, 'ISK': 142.4, 'JPY': 119.58, 'KRW': 1329.41, 'MXN': 22.027, 'MYR': 4.6765, 'NOK': 10.3823, 'NZD': 1.7747, 'PHP': 56.719, 'PLN': 4.3096, 'RON': 4.8097, 'RUB': 74.719, 'SEK': 10.5854, 'SGD': 1.5491, 'THB': 35.166, 'TRY': 6.8591, 'USD': 1.1177, 'ZAR': 17.3698}]\n",
            "['2019-12-30', '2020-01-06', '2020-01-13', '2020-01-20', '2020-01-27', '2020-02-03', '2020-02-10', '2020-02-17', '2020-02-24', '2020-03-02']\n"
          ]
        }
      ],
      "source": [
        "# Write your code here\n",
        "rates = [rate for date, rate in ratedata['rates'].items()]\n",
        "dates = [date for date, rate in ratedata['rates'].items()]\n",
        "print(rates[:10])\n",
        "print(dates[:10])"
      ]
    },
    {
      "cell_type": "markdown",
      "metadata": {
        "id": "UdExJtcmuliM"
      },
      "source": [
        "Now just test a simple __post__ REST api with some dummy data.\n",
        "\n",
        "See what you get by posting the data foo='bar' to https://jsonplaceholder.typicode.com/posts \\\n",
        "Print out the content of the response and load it into an appropriate variable"
      ]
    },
    {
      "cell_type": "code",
      "execution_count": 224,
      "metadata": {
        "colab": {
          "base_uri": "https://localhost:8080/"
        },
        "id": "ndQ2ctLHuliM",
        "outputId": "8d6c624c-2645-4879-d8fc-d3bc546366ab"
      },
      "outputs": [
        {
          "output_type": "stream",
          "name": "stdout",
          "text": [
            "{'foo': 'bar', 'id': 101}\n"
          ]
        }
      ],
      "source": [
        "# Write your code here\n",
        "url = 'https://jsonplaceholder.typicode.com/posts'\n",
        "data = {'foo': 'bar'}\n",
        "response = requests.post(url, data=data)\n",
        "print(response.json())"
      ]
    },
    {
      "cell_type": "markdown",
      "metadata": {
        "id": "le6CnhTpuliN"
      },
      "source": [
        "# 6.7 Data considerations\n",
        "For this exercise we are going to fetch an html document from an online source, inspect it and manipulate it a bit before we convert it to csv and save it to a file.  \n",
        "This is an *advanced exercise* and the number of code cells below reflects a relatively short solution to this. You might want to add more cells and consider using a longer solution\n",
        "\n",
        "The online source is here: http://cs.stir.ac.uk/~soh/fakedata.html  \n",
        "Start by looking at it in a browser and use your browser's tools to inspect the source (the html)  \n",
        "Then load it here into an appropriate variable\n",
        "\n",
        "*hint: html is xml's cousin so you can use xml.etree.ElementTree"
      ]
    },
    {
      "cell_type": "code",
      "execution_count": 225,
      "metadata": {
        "colab": {
          "base_uri": "https://localhost:8080/",
          "height": 287
        },
        "id": "AZFWz_LxuliN",
        "outputId": "f80ef5de-375d-492f-8205-78df51eb2f3a"
      },
      "outputs": [
        {
          "output_type": "error",
          "ename": "ParseError",
          "evalue": "not well-formed (invalid token): line 37, column 146 (<string>)",
          "traceback": [
            "Traceback \u001b[0;36m(most recent call last)\u001b[0m:\n",
            "  File \u001b[1;32m\"/usr/local/lib/python3.10/dist-packages/IPython/core/interactiveshell.py\"\u001b[0m, line \u001b[1;32m3553\u001b[0m, in \u001b[1;35mrun_code\u001b[0m\n    exec(code_obj, self.user_global_ns, self.user_ns)\n",
            "  File \u001b[1;32m\"<ipython-input-225-2fb1876ef630>\"\u001b[0m, line \u001b[1;32m4\u001b[0m, in \u001b[1;35m<cell line: 4>\u001b[0m\n    tree = ET.fromstring(response.text)\n",
            "\u001b[0;36m  File \u001b[0;32m\"/usr/lib/python3.10/xml/etree/ElementTree.py\"\u001b[0;36m, line \u001b[0;32m1342\u001b[0;36m, in \u001b[0;35mXML\u001b[0;36m\u001b[0m\n\u001b[0;31m    parser.feed(text)\u001b[0m\n",
            "\u001b[0;36m  File \u001b[0;32m\"<string>\"\u001b[0;36m, line \u001b[0;32munknown\u001b[0m\n\u001b[0;31mParseError\u001b[0m\u001b[0;31m:\u001b[0m not well-formed (invalid token): line 37, column 146\n"
          ]
        }
      ],
      "source": [
        "# Write your code here\n",
        "url = 'http://cs.stir.ac.uk/~soh/fakedata.html'\n",
        "response = requests.get(url)\n",
        "tree = ET.fromstring(response.text)"
      ]
    },
    {
      "cell_type": "markdown",
      "metadata": {
        "id": "ZE35cJMHuliN"
      },
      "source": [
        "Now list the column headers"
      ]
    },
    {
      "cell_type": "code",
      "execution_count": null,
      "metadata": {
        "id": "T9Crb0j7uliN"
      },
      "outputs": [],
      "source": [
        "# Write your code here"
      ]
    },
    {
      "cell_type": "markdown",
      "metadata": {
        "id": "C6_bXEc3uliN"
      },
      "source": [
        "There is a column named __Country__, how many unique countries are represented in the data?"
      ]
    },
    {
      "cell_type": "code",
      "execution_count": null,
      "metadata": {
        "id": "1soerXLbuliN"
      },
      "outputs": [],
      "source": [
        "# Write your code here"
      ]
    },
    {
      "cell_type": "markdown",
      "metadata": {
        "id": "naJ31e6auliN"
      },
      "source": [
        "How many representatives of each country are there?"
      ]
    },
    {
      "cell_type": "code",
      "execution_count": null,
      "metadata": {
        "id": "1kdfjdWOuliN"
      },
      "outputs": [],
      "source": [
        "# Write your code here"
      ]
    },
    {
      "cell_type": "markdown",
      "metadata": {
        "id": "I5YofDC8uliN"
      },
      "source": [
        "#### Now write the data to a csv formatted file called __fakedata.csv__\n",
        "- Skip __Org__ (i.e. don't write it to the new file)\n",
        "- Clean up the __Phonenumbers__ so that they only contain numbers (no other characters or whitespaces)\n",
        "- Only write the last names of the people (the original format is: last name, first name and intital)\n",
        "- The first line of the csv file should contain the header\n",
        "\n",
        "The first 3 lines of the resulting file should be like the following\n",
        "```\n",
        "Name,Phone,Email,City,Country\n",
        "Suarez,0800629223,sociis.natoque@egetmetus.com,Croydon,Portugal\n",
        "Wallace,01079136814,hendrerit.id@semper.net,Peñalolén,Suriname\n",
        "```"
      ]
    },
    {
      "cell_type": "code",
      "execution_count": null,
      "metadata": {
        "id": "HYAnRKp-uliN"
      },
      "outputs": [],
      "source": [
        "# Write your code here"
      ]
    }
  ],
  "metadata": {
    "kernelspec": {
      "display_name": "Python 3",
      "language": "python",
      "name": "python3"
    },
    "language_info": {
      "codemirror_mode": {
        "name": "ipython",
        "version": 3
      },
      "file_extension": ".py",
      "mimetype": "text/x-python",
      "name": "python",
      "nbconvert_exporter": "python",
      "pygments_lexer": "ipython3",
      "version": "3.7.4"
    },
    "colab": {
      "provenance": [],
      "include_colab_link": true
    }
  },
  "nbformat": 4,
  "nbformat_minor": 0
}